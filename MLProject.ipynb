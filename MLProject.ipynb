{
 "cells": [
  {
   "cell_type": "markdown",
   "metadata": {
    "id": "QE9iZEXhWmNS"
   },
   "source": [
    "## Exploring the Double Descent phenomenon in Deep Learning Methods using variable architectures, data and model parameters"
   ]
  },
  {
   "cell_type": "code",
   "execution_count": null,
   "metadata": {
    "id": "qD7746NdWhj2"
   },
   "outputs": [],
   "source": [
    "import tensorflow as tf\n",
    "from tensorflow.keras import layers\n",
    "from tensorflow.keras.models import Sequential\n",
    "import tensorflow_datasets as tfds\n",
    "\n",
    "import re\n",
    "from nltk.tokenize.treebank import TreebankWordDetokenizer\n",
    "from gensim.utils import simple_preprocess\n",
    "\n",
    "import numpy as np\n",
    "import matplotlib.pyplot as plt\n",
    "import pickle\n",
    "import os\n",
    "from glob import glob\n",
    "from tqdm import tqdm"
   ]
  },
  {
   "cell_type": "markdown",
   "metadata": {
    "id": "HL7mWyr4X4-i"
   },
   "source": [
    "###Enabling GPU\n",
    "Because we might be working with huge amounts of data, GPU is used with tensorflow to accelrate the processing. The only drawback with using the GPU on colab is that we can only use it 12 hours at time. We will only be able to use it after another 12 hours after last use."
   ]
  },
  {
   "cell_type": "code",
   "execution_count": null,
   "metadata": {
    "colab": {
     "base_uri": "https://localhost:8080/"
    },
    "id": "NB97Hr25WlJt",
    "outputId": "feacab2e-849f-4f41-a2e0-eb06136d8c95"
   },
   "outputs": [
    {
     "data": {
      "text/plain": [
       "[PhysicalDevice(name='/physical_device:CPU:0', device_type='CPU'),\n",
       " PhysicalDevice(name='/physical_device:GPU:0', device_type='GPU')]"
      ]
     },
     "execution_count": 2,
     "metadata": {},
     "output_type": "execute_result"
    }
   ],
   "source": [
    "# check if GPU is accessible with tf\n",
    "tf.config.list_physical_devices()"
   ]
  },
  {
   "cell_type": "code",
   "execution_count": null,
   "metadata": {
    "colab": {
     "base_uri": "https://localhost:8080/"
    },
    "id": "bvxrWNNqW3BC",
    "outputId": "ea8c512c-8b7d-442f-c052-8098f58586f7"
   },
   "outputs": [
    {
     "name": "stdout",
     "output_type": "stream",
     "text": [
      "Sat May  7 23:27:19 2022       \n",
      "+-----------------------------------------------------------------------------+\n",
      "| NVIDIA-SMI 460.32.03    Driver Version: 460.32.03    CUDA Version: 11.2     |\n",
      "|-------------------------------+----------------------+----------------------+\n",
      "| GPU  Name        Persistence-M| Bus-Id        Disp.A | Volatile Uncorr. ECC |\n",
      "| Fan  Temp  Perf  Pwr:Usage/Cap|         Memory-Usage | GPU-Util  Compute M. |\n",
      "|                               |                      |               MIG M. |\n",
      "|===============================+======================+======================|\n",
      "|   0  Tesla P100-PCIE...  Off  | 00000000:00:04.0 Off |                    0 |\n",
      "| N/A   37C    P0    26W / 250W |      2MiB / 16280MiB |      0%      Default |\n",
      "|                               |                      |                  N/A |\n",
      "+-------------------------------+----------------------+----------------------+\n",
      "                                                                               \n",
      "+-----------------------------------------------------------------------------+\n",
      "| Processes:                                                                  |\n",
      "|  GPU   GI   CI        PID   Type   Process name                  GPU Memory |\n",
      "|        ID   ID                                                   Usage      |\n",
      "|=============================================================================|\n",
      "|  No running processes found                                                 |\n",
      "+-----------------------------------------------------------------------------+\n"
     ]
    }
   ],
   "source": [
    "# command to check GPU status\n",
    "!nvidia-smi"
   ]
  },
  {
   "cell_type": "markdown",
   "metadata": {
    "id": "9n-waGoIYLxS"
   },
   "source": [
    "###Dataset Loading and Preparation"
   ]
  },
  {
   "cell_type": "markdown",
   "metadata": {
    "id": "MrW4zXjvbFwj"
   },
   "source": [
    "The dataset we are about to use is the 'Sentiment140' dataset which has information regarding a tweet. And we are going to find the polarity of that tweet using sentiment analysis through neural networks!"
   ]
  },
  {
   "cell_type": "code",
   "execution_count": null,
   "metadata": {
    "colab": {
     "base_uri": "https://localhost:8080/",
     "height": 298,
     "referenced_widgets": [
      "27539c9016194ff9901903cf2805c537",
      "439cc7b99c4f4b329d5ee39160e96926",
      "b9608b15403640bbb580e2f1ead03dd7",
      "ded27ae0c77b4f8bbec0457e692610e1",
      "79df07d6a64541bbab9388315092b5f7",
      "8e3d041f38be4d278a6d027303d9ca01",
      "7168fdc8704543dda83ec697739a8d65",
      "fc5efb9514b34311a7aca70fa4da7526",
      "90c6e4bf7e4d42a0bad9635cc5a2d766",
      "b7712e0b01484a75b66d08d37ce61aeb",
      "245415ae32cc478ba4e66964280d23fe",
      "0430cbdb024b4b99a8aa4c418faa0e50",
      "0474c70a629647b2bf0159a86b56a411",
      "c103611f1351437bbdeb80125e0ac168",
      "819e4873603f440db1c51179b5a2c201",
      "cd16b4411f5041e2aacc9c9eec239510",
      "9b5df19861484afba98b61d76e1b78a6",
      "41a41deea20f428ebe96808d5ee7248c",
      "2d23510141ea4c80a163912f51d1a6bc",
      "cb2d30b36912461b9982d09c11975f6b",
      "0c33379d22ab434db7eb075646b536fc",
      "11ef7716d06840b79a35b89811c3b180",
      "a35ac197691040c2a9cb7f5008b21c83",
      "6a6afd5e5a644a6cb701c1f070030a2d",
      "a4bab7e3ae444208a0cbde4c316887e5",
      "66a8a0b6f86c49dca768d3e167a8da69",
      "45e13e8757594dc9a9d2b53e87552dc7",
      "c422f80332ee46b48c3cc89a953e7fa6",
      "a394419d3fa74bde86eebb5c2ec503c5",
      "4c8ae191648f4e58942d54d311947059",
      "72ff42e5cc9c46d48602c3d5351e6c01",
      "c5b39310227548bd99b9cf9533a15d7c",
      "fa46ebef2a9a4489a836a19425c1d477",
      "a18e893d58fc49138c6a86aa936fb20f",
      "08c65cf321f94b799bd0d9f04ce4795f",
      "382fa5eb859243289982fcdf6959041a",
      "512f88a7486446f18f5df972bd215ac5",
      "02d039f7fe364c2789b4cc1e84c54a5b",
      "4bc22667a0eb41bfb68a3a2d211d1926",
      "d9beec5947af4d2c8c7962c6beb97392",
      "eb3d0a8ec1444c2cbe7ceb56561a3516",
      "fe63702857004040a3bfa431129a81a9",
      "c8570f39270042d6a104ea1bdff32a17",
      "a346950022604aa9a5b03196e068aacf",
      "813cc6c61ecd4e1d86cf57f87244d25c",
      "dd3888a1b05647138ac10383482c01fe",
      "8efb2ec46d20470a9356045e004c5a7d",
      "9bdf5ce8355749009aae013c29bc5220",
      "3e7f95ae138143cb8f52bec91ebe6c8b",
      "e2fca18909874ae0bb80234fed8faadc",
      "77540055447f43ddb6f38f7c18760b41",
      "bfcb1cb62a6d46ee92e58021f09a4031",
      "425bbb55607f46a0bcc35b13100c1bde",
      "39c91e8d70824a4babeb6afd702acb51",
      "0063799ff2844020860e7569b439ec85",
      "8b2c3d1556134c7d91654624138855f4",
      "e8f17f18975f4dd4af8c5ddc087944b1",
      "8999bf90247b4afcb04bec2db863cc07",
      "47439f869e0941f7b68826114febd958",
      "a1c9b091a056453790eae34b9c320545",
      "54d2114b0efa4a078282835fd957a387",
      "befdb219706d4b6f944e404e67bd1a87",
      "2202ff21914541ad97ac13a7246476dd",
      "bc6b56329fdf464d868e3d046db56006",
      "e29980fff28648cd917194ddfe4c75c9",
      "5e78bccee444416189ddd9f8417cf081",
      "a7a3a1368992437d9b0b50b5d0986437",
      "f00f2ad09795486981d60a777e6c9f6d",
      "9babd1d74240497d9e2311950e895377",
      "f74f2a19ab114a53a8bfac86f5b802f4",
      "734a0ec5e792484592649746780de867",
      "e7c74da6d2e14fec9f310f3e8d171693",
      "28dc3106bf964c61aad954eeca0ee158",
      "ac644d038cbb4b12995605ce72a6b007",
      "2847f74da4224a47860135bc3b2df918",
      "60df6c1da725448f8b266e54738c42ba",
      "a3681611c5224cefb311ccbb194a8eea"
     ]
    },
    "id": "PTgk7wctXATc",
    "outputId": "fa7c824c-5a72-406b-b2f1-6d0135078906"
   },
   "outputs": [
    {
     "name": "stdout",
     "output_type": "stream",
     "text": [
      "\u001b[1mDownloading and preparing dataset sentiment140/1.0.0 (download: 77.59 MiB, generated: 305.13 MiB, total: 382.73 MiB) to /root/tensorflow_datasets/sentiment140/1.0.0...\u001b[0m\n"
     ]
    },
    {
     "data": {
      "application/vnd.jupyter.widget-view+json": {
       "model_id": "27539c9016194ff9901903cf2805c537",
       "version_major": 2,
       "version_minor": 0
      },
      "text/plain": [
       "Dl Completed...: 0 url [00:00, ? url/s]"
      ]
     },
     "metadata": {},
     "output_type": "display_data"
    },
    {
     "data": {
      "application/vnd.jupyter.widget-view+json": {
       "model_id": "0430cbdb024b4b99a8aa4c418faa0e50",
       "version_major": 2,
       "version_minor": 0
      },
      "text/plain": [
       "Dl Size...: 0 MiB [00:00, ? MiB/s]"
      ]
     },
     "metadata": {},
     "output_type": "display_data"
    },
    {
     "data": {
      "application/vnd.jupyter.widget-view+json": {
       "model_id": "a35ac197691040c2a9cb7f5008b21c83",
       "version_major": 2,
       "version_minor": 0
      },
      "text/plain": [
       "Extraction completed...: 0 file [00:00, ? file/s]"
      ]
     },
     "metadata": {},
     "output_type": "display_data"
    },
    {
     "name": "stdout",
     "output_type": "stream",
     "text": [
      "\n",
      "\n",
      "\n"
     ]
    },
    {
     "data": {
      "application/vnd.jupyter.widget-view+json": {
       "model_id": "a18e893d58fc49138c6a86aa936fb20f",
       "version_major": 2,
       "version_minor": 0
      },
      "text/plain": [
       "0 examples [00:00, ? examples/s]"
      ]
     },
     "metadata": {},
     "output_type": "display_data"
    },
    {
     "name": "stdout",
     "output_type": "stream",
     "text": [
      "Shuffling and writing examples to /root/tensorflow_datasets/sentiment140/1.0.0.incomplete4NPN7Y/sentiment140-train.tfrecord\n"
     ]
    },
    {
     "data": {
      "application/vnd.jupyter.widget-view+json": {
       "model_id": "813cc6c61ecd4e1d86cf57f87244d25c",
       "version_major": 2,
       "version_minor": 0
      },
      "text/plain": [
       "  0%|          | 0/1600000 [00:00<?, ? examples/s]"
      ]
     },
     "metadata": {},
     "output_type": "display_data"
    },
    {
     "data": {
      "application/vnd.jupyter.widget-view+json": {
       "model_id": "8b2c3d1556134c7d91654624138855f4",
       "version_major": 2,
       "version_minor": 0
      },
      "text/plain": [
       "0 examples [00:00, ? examples/s]"
      ]
     },
     "metadata": {},
     "output_type": "display_data"
    },
    {
     "name": "stdout",
     "output_type": "stream",
     "text": [
      "Shuffling and writing examples to /root/tensorflow_datasets/sentiment140/1.0.0.incomplete4NPN7Y/sentiment140-test.tfrecord\n"
     ]
    },
    {
     "data": {
      "application/vnd.jupyter.widget-view+json": {
       "model_id": "a7a3a1368992437d9b0b50b5d0986437",
       "version_major": 2,
       "version_minor": 0
      },
      "text/plain": [
       "  0%|          | 0/498 [00:00<?, ? examples/s]"
      ]
     },
     "metadata": {},
     "output_type": "display_data"
    },
    {
     "name": "stdout",
     "output_type": "stream",
     "text": [
      "\u001b[1mDataset sentiment140 downloaded and prepared to /root/tensorflow_datasets/sentiment140/1.0.0. Subsequent calls will reuse this data.\u001b[0m\n"
     ]
    }
   ],
   "source": [
    "# Seperation of data into train and test sets\n",
    "ds_train, ds_train_info = tfds.load('sentiment140', split='train[:4%]', shuffle_files=True ,with_info = True) # Loading a built in tensorflow dataset\n",
    "#ds_test, ds_test_info = tfds.load('sentiment140', split='test[:5%]', shuffle_files=True , with_info = True)"
   ]
  },
  {
   "cell_type": "code",
   "execution_count": null,
   "metadata": {
    "colab": {
     "base_uri": "https://localhost:8080/"
    },
    "id": "XthJtN94Z7cF",
    "outputId": "8a38cb26-1d83-40d2-f0d9-a1891eaba483"
   },
   "outputs": [
    {
     "name": "stdout",
     "output_type": "stream",
     "text": [
      "['date', 'polarity', 'query', 'text', 'user']\n"
     ]
    }
   ],
   "source": [
    "# Features of the dataset\n",
    "for i in ds_train.take(1): \n",
    "  print(list(i.keys()))"
   ]
  },
  {
   "cell_type": "code",
   "execution_count": null,
   "metadata": {
    "colab": {
     "base_uri": "https://localhost:8080/",
     "height": 167
    },
    "id": "4GiUBoNIfLhr",
    "outputId": "74995356-60b3-4615-e8ff-e97b93f94fe2"
   },
   "outputs": [
    {
     "data": {
      "text/html": [
       "\n",
       "  <div id=\"df-872d28d0-11c4-4402-b692-a803e28b6196\">\n",
       "    <div class=\"colab-df-container\">\n",
       "      <style type=\"text/css\">\n",
       "</style>\n",
       "<table id=\"T_bd29e_\">\n",
       "  <thead>\n",
       "    <tr>\n",
       "      <th class=\"blank level0\" >&nbsp;</th>\n",
       "      <th class=\"col_heading level0 col0\" >date</th>\n",
       "      <th class=\"col_heading level0 col1\" >polarity</th>\n",
       "      <th class=\"col_heading level0 col2\" >query</th>\n",
       "      <th class=\"col_heading level0 col3\" >text</th>\n",
       "      <th class=\"col_heading level0 col4\" >user</th>\n",
       "    </tr>\n",
       "  </thead>\n",
       "  <tbody>\n",
       "    <tr>\n",
       "      <th id=\"T_bd29e_level0_row0\" class=\"row_heading level0 row0\" >0</th>\n",
       "      <td id=\"T_bd29e_row0_col0\" class=\"data row0 col0\" >b'Mon Jun 01 18:08:26 PDT 2009'</td>\n",
       "      <td id=\"T_bd29e_row0_col1\" class=\"data row0 col1\" >4</td>\n",
       "      <td id=\"T_bd29e_row0_col2\" class=\"data row0 col2\" >b'NO_QUERY'</td>\n",
       "      <td id=\"T_bd29e_row0_col3\" class=\"data row0 col3\" >b\"i'm 10x cooler than all of you! \"</td>\n",
       "      <td id=\"T_bd29e_row0_col4\" class=\"data row0 col4\" >b'katie4593'</td>\n",
       "    </tr>\n",
       "    <tr>\n",
       "      <th id=\"T_bd29e_level0_row1\" class=\"row_heading level0 row1\" >1</th>\n",
       "      <td id=\"T_bd29e_row1_col0\" class=\"data row1 col0\" >b'Mon Jun 01 23:55:43 PDT 2009'</td>\n",
       "      <td id=\"T_bd29e_row1_col1\" class=\"data row1 col1\" >0</td>\n",
       "      <td id=\"T_bd29e_row1_col2\" class=\"data row1 col2\" >b'NO_QUERY'</td>\n",
       "      <td id=\"T_bd29e_row1_col3\" class=\"data row1 col3\" >b'O.kk? Thats weird I cant stop following people on twitter... I have tons of people to unfollow '</td>\n",
       "      <td id=\"T_bd29e_row1_col4\" class=\"data row1 col4\" >b'migaruler'</td>\n",
       "    </tr>\n",
       "    <tr>\n",
       "      <th id=\"T_bd29e_level0_row2\" class=\"row_heading level0 row2\" >2</th>\n",
       "      <td id=\"T_bd29e_row2_col0\" class=\"data row2 col0\" >b'Mon May 04 06:08:51 PDT 2009'</td>\n",
       "      <td id=\"T_bd29e_row2_col1\" class=\"data row2 col1\" >4</td>\n",
       "      <td id=\"T_bd29e_row2_col2\" class=\"data row2 col2\" >b'NO_QUERY'</td>\n",
       "      <td id=\"T_bd29e_row2_col3\" class=\"data row2 col3\" >b'what a beautiful day not to got to my first class '</td>\n",
       "      <td id=\"T_bd29e_row2_col4\" class=\"data row2 col4\" >b'ocean_waves301'</td>\n",
       "    </tr>\n",
       "    <tr>\n",
       "      <th id=\"T_bd29e_level0_row3\" class=\"row_heading level0 row3\" >3</th>\n",
       "      <td id=\"T_bd29e_row3_col0\" class=\"data row3 col0\" >b'Sun May 31 18:42:57 PDT 2009'</td>\n",
       "      <td id=\"T_bd29e_row3_col1\" class=\"data row3 col1\" >4</td>\n",
       "      <td id=\"T_bd29e_row3_col2\" class=\"data row3 col2\" >b'NO_QUERY'</td>\n",
       "      <td id=\"T_bd29e_row3_col3\" class=\"data row3 col3\" >b\".@HildyGottlieb &amp; I was just saying to Maha'al yesterday, everything we ever needed to know was in Beatles' lyrics - you prove my point! \"</td>\n",
       "      <td id=\"T_bd29e_row3_col4\" class=\"data row3 col4\" >b'TerraScene'</td>\n",
       "    </tr>\n",
       "  </tbody>\n",
       "</table>\n",
       "\n",
       "      <button class=\"colab-df-convert\" onclick=\"convertToInteractive('df-872d28d0-11c4-4402-b692-a803e28b6196')\"\n",
       "              title=\"Convert this dataframe to an interactive table.\"\n",
       "              style=\"display:none;\">\n",
       "        \n",
       "  <svg xmlns=\"http://www.w3.org/2000/svg\" height=\"24px\"viewBox=\"0 0 24 24\"\n",
       "       width=\"24px\">\n",
       "    <path d=\"M0 0h24v24H0V0z\" fill=\"none\"/>\n",
       "    <path d=\"M18.56 5.44l.94 2.06.94-2.06 2.06-.94-2.06-.94-.94-2.06-.94 2.06-2.06.94zm-11 1L8.5 8.5l.94-2.06 2.06-.94-2.06-.94L8.5 2.5l-.94 2.06-2.06.94zm10 10l.94 2.06.94-2.06 2.06-.94-2.06-.94-.94-2.06-.94 2.06-2.06.94z\"/><path d=\"M17.41 7.96l-1.37-1.37c-.4-.4-.92-.59-1.43-.59-.52 0-1.04.2-1.43.59L10.3 9.45l-7.72 7.72c-.78.78-.78 2.05 0 2.83L4 21.41c.39.39.9.59 1.41.59.51 0 1.02-.2 1.41-.59l7.78-7.78 2.81-2.81c.8-.78.8-2.07 0-2.86zM5.41 20L4 18.59l7.72-7.72 1.47 1.35L5.41 20z\"/>\n",
       "  </svg>\n",
       "      </button>\n",
       "      \n",
       "  <style>\n",
       "    .colab-df-container {\n",
       "      display:flex;\n",
       "      flex-wrap:wrap;\n",
       "      gap: 12px;\n",
       "    }\n",
       "\n",
       "    .colab-df-convert {\n",
       "      background-color: #E8F0FE;\n",
       "      border: none;\n",
       "      border-radius: 50%;\n",
       "      cursor: pointer;\n",
       "      display: none;\n",
       "      fill: #1967D2;\n",
       "      height: 32px;\n",
       "      padding: 0 0 0 0;\n",
       "      width: 32px;\n",
       "    }\n",
       "\n",
       "    .colab-df-convert:hover {\n",
       "      background-color: #E2EBFA;\n",
       "      box-shadow: 0px 1px 2px rgba(60, 64, 67, 0.3), 0px 1px 3px 1px rgba(60, 64, 67, 0.15);\n",
       "      fill: #174EA6;\n",
       "    }\n",
       "\n",
       "    [theme=dark] .colab-df-convert {\n",
       "      background-color: #3B4455;\n",
       "      fill: #D2E3FC;\n",
       "    }\n",
       "\n",
       "    [theme=dark] .colab-df-convert:hover {\n",
       "      background-color: #434B5C;\n",
       "      box-shadow: 0px 1px 3px 1px rgba(0, 0, 0, 0.15);\n",
       "      filter: drop-shadow(0px 1px 2px rgba(0, 0, 0, 0.3));\n",
       "      fill: #FFFFFF;\n",
       "    }\n",
       "  </style>\n",
       "\n",
       "      <script>\n",
       "        const buttonEl =\n",
       "          document.querySelector('#df-872d28d0-11c4-4402-b692-a803e28b6196 button.colab-df-convert');\n",
       "        buttonEl.style.display =\n",
       "          google.colab.kernel.accessAllowed ? 'block' : 'none';\n",
       "\n",
       "        async function convertToInteractive(key) {\n",
       "          const element = document.querySelector('#df-872d28d0-11c4-4402-b692-a803e28b6196');\n",
       "          const dataTable =\n",
       "            await google.colab.kernel.invokeFunction('convertToInteractive',\n",
       "                                                     [key], {});\n",
       "          if (!dataTable) return;\n",
       "\n",
       "          const docLinkHtml = 'Like what you see? Visit the ' +\n",
       "            '<a target=\"_blank\" href=https://colab.research.google.com/notebooks/data_table.ipynb>data table notebook</a>'\n",
       "            + ' to learn more about interactive tables.';\n",
       "          element.innerHTML = '';\n",
       "          dataTable['output_type'] = 'display_data';\n",
       "          await google.colab.output.renderOutput(dataTable, element);\n",
       "          const docLink = document.createElement('div');\n",
       "          docLink.innerHTML = docLinkHtml;\n",
       "          element.appendChild(docLink);\n",
       "        }\n",
       "      </script>\n",
       "    </div>\n",
       "  </div>\n",
       "  "
      ],
      "text/plain": [
       "                              date  polarity        query  \\\n",
       "0  b'Mon Jun 01 18:08:26 PDT 2009'         4  b'NO_QUERY'   \n",
       "1  b'Mon Jun 01 23:55:43 PDT 2009'         0  b'NO_QUERY'   \n",
       "2  b'Mon May 04 06:08:51 PDT 2009'         4  b'NO_QUERY'   \n",
       "3  b'Sun May 31 18:42:57 PDT 2009'         4  b'NO_QUERY'   \n",
       "\n",
       "                                                text               user  \n",
       "0                b\"i'm 10x cooler than all of you! \"       b'katie4593'  \n",
       "1  b'O.kk? Thats weird I cant stop following peop...       b'migaruler'  \n",
       "2  b'what a beautiful day not to got to my first ...  b'ocean_waves301'  \n",
       "3  b\".@HildyGottlieb &amp; I was just saying to M...      b'TerraScene'  "
      ]
     },
     "execution_count": 6,
     "metadata": {},
     "output_type": "execute_result"
    }
   ],
   "source": [
    "# Taking the first four rows of the dataset and seeing as a dataframe\n",
    "tfds.as_dataframe(ds_train.take(4))"
   ]
  },
  {
   "cell_type": "code",
   "execution_count": null,
   "metadata": {
    "colab": {
     "base_uri": "https://localhost:8080/"
    },
    "id": "PFhVucQTdanK",
    "outputId": "f7ab7aa4-5e86-4e04-cfc1-9e3e631a5b3c"
   },
   "outputs": [
    {
     "name": "stdout",
     "output_type": "stream",
     "text": [
      "FeaturesDict({\n",
      "    'date': Text(shape=(), dtype=tf.string),\n",
      "    'polarity': tf.int32,\n",
      "    'query': Text(shape=(), dtype=tf.string),\n",
      "    'text': Text(shape=(), dtype=tf.string),\n",
      "    'user': Text(shape=(), dtype=tf.string),\n",
      "})\n"
     ]
    }
   ],
   "source": [
    "# More info regarding the dataset\n",
    "print(ds_train_info.features)"
   ]
  },
  {
   "cell_type": "markdown",
   "metadata": {
    "id": "BbJUTliqk8jl"
   },
   "source": [
    "For data preparation, only the polarity as the label and the tweet text as the feature is taken for training. The tweet text is cleaned by removing unnecessary symbols. The labels are encoded in order to pass it to the convolution neural network model."
   ]
  },
  {
   "cell_type": "code",
   "execution_count": null,
   "metadata": {
    "colab": {
     "base_uri": "https://localhost:8080/"
    },
    "id": "5N0VUq84fRtt",
    "outputId": "77d5a891-fdf5-4c4f-9cac-207e5cdb1daf"
   },
   "outputs": [
    {
     "name": "stdout",
     "output_type": "stream",
     "text": [
      "WARNING:tensorflow:From /usr/local/lib/python3.7/dist-packages/tensorflow_datasets/core/dataset_builder.py:598: get_single_element (from tensorflow.python.data.experimental.ops.get_single_element) is deprecated and will be removed in a future version.\n",
      "Instructions for updating:\n",
      "Use `tf.data.Dataset.get_single_element()`.\n"
     ]
    },
    {
     "name": "stderr",
     "output_type": "stream",
     "text": [
      "WARNING:tensorflow:From /usr/local/lib/python3.7/dist-packages/tensorflow_datasets/core/dataset_builder.py:598: get_single_element (from tensorflow.python.data.experimental.ops.get_single_element) is deprecated and will be removed in a future version.\n",
      "Instructions for updating:\n",
      "Use `tf.data.Dataset.get_single_element()`.\n"
     ]
    }
   ],
   "source": [
    "# Using it as a numpy array\n",
    "train_text, train_polarity = tfds.as_numpy(tfds.load('sentiment140', split='train[:4%]', shuffle_files=True, batch_size=-1,\n",
    "    as_supervised=True ))"
   ]
  },
  {
   "cell_type": "code",
   "execution_count": null,
   "metadata": {
    "colab": {
     "base_uri": "https://localhost:8080/"
    },
    "id": "S8mtw5gFhbwn",
    "outputId": "e41b85f7-0bd2-49cd-b458-ea0bc0dfd7ce"
   },
   "outputs": [
    {
     "name": "stdout",
     "output_type": "stream",
     "text": [
      "<class 'numpy.ndarray'> (64000,)\n",
      "<class 'numpy.ndarray'> (64000,)\n"
     ]
    }
   ],
   "source": [
    "print(type(train_text), train_text.shape)\n",
    "print(type(train_polarity), train_polarity.shape)\n"
   ]
  },
  {
   "cell_type": "code",
   "execution_count": null,
   "metadata": {
    "colab": {
     "base_uri": "https://localhost:8080/"
    },
    "id": "4eW6X_QqiiG9",
    "outputId": "b0d10d0b-b993-4ee8-c694-06e1a5333846"
   },
   "outputs": [
    {
     "data": {
      "text/plain": [
       "array([b\"i'm 10x cooler than all of you! \",\n",
       "       b'O.kk? Thats weird I cant stop following people on twitter... I have tons of people to unfollow ',\n",
       "       b'what a beautiful day not to got to my first class ',\n",
       "       b\".@HildyGottlieb &amp; I was just saying to Maha'al yesterday, everything we ever needed to know was in Beatles' lyrics - you prove my point! \",\n",
       "       b'kinda sad and confused  why do guys do this?',\n",
       "       b'@Real_DavidCook YES &amp; YES ',\n",
       "       b\"@GDGOfficial But it's another beautiful day here in europe, you have to make the most of it  Rock the house again tonight!\",\n",
       "       b'Working through hundreds of assignments ',\n",
       "       b'driving with the moonroof and windows open is THE BEST THING IN THE WORLD. Sitting on the couch with @melissasmirn she hates my hamster ',\n",
       "       b\"@scott_mills Gutted! I worked for the fringe last year, won't be back this year \"],\n",
       "      dtype=object)"
      ]
     },
     "execution_count": 10,
     "metadata": {},
     "output_type": "execute_result"
    }
   ],
   "source": [
    "train_text[:10] # First ten tweet records"
   ]
  },
  {
   "cell_type": "markdown",
   "metadata": {
    "id": "U07b5Q5pLCJK"
   },
   "source": [
    "###Data Cleaning and Formatting\n",
    "Pre-Processing the data to remove non-useful information\n",
    "A) E-mails\n",
    "B) URLs\n",
    "C) Special Characters\n"
   ]
  },
  {
   "cell_type": "code",
   "execution_count": null,
   "metadata": {
    "id": "f61Iy_jui2Cf"
   },
   "outputs": [],
   "source": [
    "def clean_data(data):\n",
    "    data = str(data)\n",
    "    #Removing URLs with a regular expression\n",
    "    url_pattern = re.compile(r'https?://\\S+|www\\.\\S+')\n",
    "    data = url_pattern.sub(r'', data)\n",
    "\n",
    "    # Remove Emails\n",
    "    data = re.sub('\\S*@\\S*\\s?', '', data)\n",
    "\n",
    "    # Remove new line characters\n",
    "    data = re.sub('\\s+', ' ', data)\n",
    "\n",
    "    # Removing the b\" \" \n",
    "    data = re.sub(\"b\\'\", \"\", data)\n",
    "    data = re.sub(\"b\\\"\", \"\", data)\n",
    "\n",
    "    # Remove distracting single quotes and double quotes\n",
    "    data = re.sub(\"\\'\", \"\", data)\n",
    "    data = re.sub(\"\\\"\", \"\", data)\n",
    "      \n",
    "    return data"
   ]
  },
  {
   "cell_type": "code",
   "execution_count": null,
   "metadata": {
    "id": "WuzuBGpzmUE5"
   },
   "outputs": [],
   "source": [
    "# Applying function to numpy\n",
    "clean_lamb =  lambda data: clean_data(data)\n",
    "clean_v_func = np.vectorize(clean_lamb)\n",
    "train_text = clean_v_func(train_text)"
   ]
  },
  {
   "cell_type": "code",
   "execution_count": null,
   "metadata": {
    "colab": {
     "base_uri": "https://localhost:8080/"
    },
    "id": "YKz8mXdqnxbD",
    "outputId": "efef53f0-78d3-48d5-8eee-cea457b981ed"
   },
   "outputs": [
    {
     "data": {
      "text/plain": [
       "array(['im 10x cooler than all of you! ',\n",
       "       'O.kk? Thats weird I cant stop following people on twitter... I have tons of people to unfollow ',\n",
       "       'what a beautiful day not to got to my first class ',\n",
       "       '&amp; I was just saying to Mahaal yesterday, everything we ever needed to know was in Beatles lyrics - you prove my point! ',\n",
       "       'kinda sad and confused why do guys do this?', 'YES &amp; YES ',\n",
       "       'But its another beautiful day here in europe, you have to make the most of it Rock the house again tonight!',\n",
       "       'Working through hundreds of assignments ',\n",
       "       'driving with the moonroof and windows open is THE BEST THING IN THE WORLD. Sitting on the couch with she hates my hamster ',\n",
       "       'Gutted! I worked for the fringe last year, wont be back this year '],\n",
       "      dtype='<U1653')"
      ]
     },
     "execution_count": 13,
     "metadata": {},
     "output_type": "execute_result"
    }
   ],
   "source": [
    "train_text[:10]"
   ]
  },
  {
   "cell_type": "markdown",
   "metadata": {
    "id": "HQQ0PdZY6oBh"
   },
   "source": [
    "Here we are writing a function for converting sentences to words and then back to sentences after removing noise then tokenizing the sentences into words and setting the deacc parameter to True removes punctuations"
   ]
  },
  {
   "cell_type": "code",
   "execution_count": null,
   "metadata": {
    "id": "3kcoSNReoesJ"
   },
   "outputs": [],
   "source": [
    "def convert_to_words(sentences):\n",
    "  list_of_words = simple_preprocess(str(sentences), deacc=True)\n",
    "  return TreebankWordDetokenizer().detokenize(list_of_words) # Makes words go back to sentences"
   ]
  },
  {
   "cell_type": "code",
   "execution_count": null,
   "metadata": {
    "id": "qHopFM0TtEhf"
   },
   "outputs": [],
   "source": [
    "convert_lamb =  lambda data: convert_to_words(data)\n",
    "convert_v_func = np.vectorize(convert_lamb)\n",
    "train_text = convert_v_func(train_text)"
   ]
  },
  {
   "cell_type": "code",
   "execution_count": null,
   "metadata": {
    "colab": {
     "base_uri": "https://localhost:8080/"
    },
    "id": "E_XyrIBJtO9C",
    "outputId": "8250cad1-cbe0-4402-98c9-c70ff1ce4877"
   },
   "outputs": [
    {
     "data": {
      "text/plain": [
       "array(['im cooler than all of you',\n",
       "       'kk thats weird cant stop following people on twitter have tons of people to unfollow',\n",
       "       'what beautiful day not to got to my first class',\n",
       "       'amp was just saying to mahaal yesterday everything we ever needed to know was in beatles lyrics you prove my point',\n",
       "       'kinda sad and confused why do guys do this', 'yes amp yes',\n",
       "       'but its another beautiful day here in europe you have to make the most of it rock the house again tonight',\n",
       "       'working through hundreds of assignments',\n",
       "       'driving with the moonroof and windows open is the best thing in the world sitting on the couch with she hates my hamster',\n",
       "       'gutted worked for the fringe last year wont be back this year'],\n",
       "      dtype='<U1141')"
      ]
     },
     "execution_count": 16,
     "metadata": {},
     "output_type": "execute_result"
    }
   ],
   "source": [
    "train_text[:10]"
   ]
  },
  {
   "cell_type": "code",
   "execution_count": null,
   "metadata": {
    "colab": {
     "base_uri": "https://localhost:8080/"
    },
    "id": "xiWKxXQwgFmA",
    "outputId": "97aece17-028a-4f41-bcb3-6f5061384b6b"
   },
   "outputs": [
    {
     "name": "stdout",
     "output_type": "stream",
     "text": [
      "[0 4]\n",
      "4\n"
     ]
    }
   ],
   "source": [
    "print(np.unique(train_polarity)) # 0 - negative , 4 - positive\n",
    "Y_Tr = train_polarity\n",
    "print(Y_Tr[0])"
   ]
  },
  {
   "cell_type": "code",
   "execution_count": null,
   "metadata": {
    "id": "0lTres6UAt87"
   },
   "outputs": [],
   "source": [
    "# Encoding the labels\n",
    "train_polarity[train_polarity == 4] = 1 # Replacing the values to 1"
   ]
  },
  {
   "cell_type": "code",
   "execution_count": null,
   "metadata": {
    "colab": {
     "base_uri": "https://localhost:8080/"
    },
    "id": "NZjoq5Ku_e6u",
    "outputId": "4b1ebe5b-b09f-4415-80e0-4c146e97da36"
   },
   "outputs": [
    {
     "data": {
      "text/plain": [
       "1"
      ]
     },
     "execution_count": 19,
     "metadata": {},
     "output_type": "execute_result"
    }
   ],
   "source": [
    "train_polarity[90]"
   ]
  },
  {
   "cell_type": "markdown",
   "metadata": {
    "id": "_Q-h_puQpeKh"
   },
   "source": [
    "Split the same dataset into train and validation datasets."
   ]
  },
  {
   "cell_type": "code",
   "execution_count": null,
   "metadata": {
    "id": "j_iusWqrph4Y"
   },
   "outputs": [],
   "source": [
    "# Train - validation spilt\n",
    "from sklearn.model_selection import train_test_split\n",
    "X_train, X_test, y_train, y_test = train_test_split(train_text, train_polarity, test_size=0.33, random_state=42)"
   ]
  },
  {
   "cell_type": "markdown",
   "metadata": {
    "id": "KOEiHUxnmsBY"
   },
   "source": [
    "### Model construction and training"
   ]
  },
  {
   "cell_type": "markdown",
   "metadata": {
    "id": "sXcWJBEZnNka"
   },
   "source": [
    "The words are tokenized using a keras preprocessing layer.\n",
    "For the model 1D convolution model is used. It is extremely fast on small datastets and it converges faster."
   ]
  },
  {
   "cell_type": "code",
   "execution_count": null,
   "metadata": {
    "id": "soTqipTMmDx5"
   },
   "outputs": [],
   "source": [
    "from keras.preprocessing.text import Tokenizer\n",
    "from keras.preprocessing.sequence import pad_sequences\n",
    "\n",
    "import keras\n",
    "from keras.models import Sequential\n",
    "from keras.layers import Embedding, Flatten, Dense, Conv1D, MaxPooling1D, GlobalMaxPooling1D\n",
    "from keras import Model, layers\n",
    "from keras import Input\n",
    "\n",
    "from keras.callbacks import EarlyStopping"
   ]
  },
  {
   "cell_type": "markdown",
   "metadata": {
    "id": "AXwaRg0sxkxd"
   },
   "source": [
    "Assign numbers to words to use convolutional network on it."
   ]
  },
  {
   "cell_type": "code",
   "execution_count": null,
   "metadata": {
    "colab": {
     "base_uri": "https://localhost:8080/"
    },
    "id": "tvEcRoea2dVB",
    "outputId": "6f09c97a-a034-4bf9-e1be-da840a02f7b3"
   },
   "outputs": [
    {
     "name": "stdout",
     "output_type": "stream",
     "text": [
      "Maximum length: 375\n"
     ]
    }
   ],
   "source": [
    "max_len=max([len(row.split()) for row in train_text])\n",
    "print(\"Maximum length:\",max_len)"
   ]
  },
  {
   "cell_type": "code",
   "execution_count": null,
   "metadata": {
    "id": "0QWk_UKAocV9"
   },
   "outputs": [],
   "source": [
    "tokenizer = Tokenizer() # Defining a tokenizer\n",
    "tokenizer.fit_on_texts(X_train) # Applying it to the numpy array of texts\n",
    "sequences = tokenizer.texts_to_sequences(X_train) # Converting words to sequence of numbers\n",
    "train_text = pad_sequences(sequences, maxlen=max_len , padding=\"post\") # Padding them for convolution"
   ]
  },
  {
   "cell_type": "code",
   "execution_count": null,
   "metadata": {
    "colab": {
     "base_uri": "https://localhost:8080/"
    },
    "id": "O7zv02duxLRz",
    "outputId": "becf0ec1-36bf-490d-a7d9-4e961a43666b"
   },
   "outputs": [
    {
     "data": {
      "text/plain": [
       "540"
      ]
     },
     "execution_count": 24,
     "metadata": {},
     "output_type": "execute_result"
    }
   ],
   "source": [
    "tokenizer.word_index['hit']"
   ]
  },
  {
   "cell_type": "code",
   "execution_count": null,
   "metadata": {
    "colab": {
     "base_uri": "https://localhost:8080/"
    },
    "id": "15BMN-XXpAXW",
    "outputId": "2a207937-1489-46de-effd-9a55bd8e5986"
   },
   "outputs": [
    {
     "data": {
      "text/plain": [
       "array([[ 15,  34, 476, ...,   0,   0,   0],\n",
       "       [  2, 106,  56, ...,   0,   0,   0],\n",
       "       [ 23, 445,  21, ...,   0,   0,   0],\n",
       "       ...,\n",
       "       [441, 573, 188, ...,   0,   0,   0],\n",
       "       [344, 123,  20, ...,   0,   0,   0],\n",
       "       [460,  30, 356, ...,   0,   0,   0]], dtype=int32)"
      ]
     },
     "execution_count": 25,
     "metadata": {},
     "output_type": "execute_result"
    }
   ],
   "source": [
    "train_text"
   ]
  },
  {
   "cell_type": "code",
   "execution_count": null,
   "metadata": {
    "id": "Nan0WbA2qd_O"
   },
   "outputs": [],
   "source": [
    "test_sequences = tokenizer.texts_to_sequences(X_test) # Converting words to sequence of numbers\n",
    "test_text = pad_sequences(test_sequences, maxlen=max_len, padding=\"post\") # Padding them for convolution"
   ]
  },
  {
   "cell_type": "code",
   "execution_count": null,
   "metadata": {
    "colab": {
     "base_uri": "https://localhost:8080/"
    },
    "id": "TeRS6e3nwa5B",
    "outputId": "f8cd922b-59e0-4108-bf40-a8bbcaeb6d1b"
   },
   "outputs": [
    {
     "data": {
      "text/plain": [
       "(21120, 375)"
      ]
     },
     "execution_count": 27,
     "metadata": {},
     "output_type": "execute_result"
    }
   ],
   "source": [
    "test_text.shape"
   ]
  },
  {
   "cell_type": "code",
   "execution_count": null,
   "metadata": {
    "colab": {
     "base_uri": "https://localhost:8080/"
    },
    "id": "vucKZIkf2K68",
    "outputId": "fd7f190c-c1db-4514-d574-ec931fee1d6e"
   },
   "outputs": [
    {
     "name": "stdout",
     "output_type": "stream",
     "text": [
      "31617\n"
     ]
    }
   ],
   "source": [
    "vocab_size=len(tokenizer.word_index) + 1\n",
    "print(vocab_size)"
   ]
  },
  {
   "cell_type": "code",
   "execution_count": null,
   "metadata": {
    "id": "Fv6R5joGyqbf"
   },
   "outputs": [],
   "source": [
    "model= Sequential()\n",
    "model.add(layers.Embedding(vocab_size, 100, input_length=max_len))\n",
    "model.add(layers.Conv1D(32, 8, activation=\"relu\"))\n",
    "model.add(layers.MaxPooling1D(2))\n",
    "model.add(layers.Flatten())\n",
    "model.add(layers.Dense(10, activation=\"relu\"))\n",
    "model.add(layers.Dense(1,  activation=\"sigmoid\"))   "
   ]
  },
  {
   "cell_type": "code",
   "execution_count": null,
   "metadata": {
    "colab": {
     "base_uri": "https://localhost:8080/"
    },
    "id": "ZpgaG2qn27WY",
    "outputId": "9ce1288d-9580-4cdb-f1af-ba0e25881761"
   },
   "outputs": [
    {
     "name": "stdout",
     "output_type": "stream",
     "text": [
      "Model: \"sequential\"\n",
      "_________________________________________________________________\n",
      " Layer (type)                Output Shape              Param #   \n",
      "=================================================================\n",
      " embedding (Embedding)       (None, 375, 100)          3161700   \n",
      "                                                                 \n",
      " conv1d (Conv1D)             (None, 368, 32)           25632     \n",
      "                                                                 \n",
      " max_pooling1d (MaxPooling1D  (None, 184, 32)          0         \n",
      " )                                                               \n",
      "                                                                 \n",
      " flatten (Flatten)           (None, 5888)              0         \n",
      "                                                                 \n",
      " dense (Dense)               (None, 10)                58890     \n",
      "                                                                 \n",
      " dense_1 (Dense)             (None, 1)                 11        \n",
      "                                                                 \n",
      "=================================================================\n",
      "Total params: 3,246,233\n",
      "Trainable params: 3,246,233\n",
      "Non-trainable params: 0\n",
      "_________________________________________________________________\n"
     ]
    }
   ],
   "source": [
    "model.summary()"
   ]
  },
  {
   "cell_type": "code",
   "execution_count": null,
   "metadata": {
    "colab": {
     "base_uri": "https://localhost:8080/"
    },
    "id": "zAEN8jiy28_X",
    "outputId": "733195d6-2968-4b80-9207-e12bb7f89de9"
   },
   "outputs": [
    {
     "name": "stdout",
     "output_type": "stream",
     "text": [
      "Epoch 1/20\n",
      "1340/1340 [==============================] - 19s 6ms/step - loss: 0.5371 - accuracy: 0.7204 - val_loss: 0.4782 - val_accuracy: 0.7754\n",
      "Epoch 2/20\n",
      "1340/1340 [==============================] - 7s 5ms/step - loss: 0.3614 - accuracy: 0.8454 - val_loss: 0.5121 - val_accuracy: 0.7620\n",
      "Epoch 3/20\n",
      "1340/1340 [==============================] - 8s 6ms/step - loss: 0.1962 - accuracy: 0.9246 - val_loss: 0.6210 - val_accuracy: 0.7500\n",
      "Epoch 4/20\n",
      "1340/1340 [==============================] - 7s 5ms/step - loss: 0.0944 - accuracy: 0.9655 - val_loss: 0.8392 - val_accuracy: 0.7437\n",
      "Epoch 5/20\n",
      "1340/1340 [==============================] - 7s 6ms/step - loss: 0.0545 - accuracy: 0.9803 - val_loss: 1.0828 - val_accuracy: 0.7418\n",
      "Epoch 6/20\n",
      "1340/1340 [==============================] - 7s 5ms/step - loss: 0.0357 - accuracy: 0.9873 - val_loss: 1.2321 - val_accuracy: 0.7399\n",
      "Epoch 7/20\n",
      "1340/1340 [==============================] - 8s 6ms/step - loss: 0.0265 - accuracy: 0.9904 - val_loss: 1.4418 - val_accuracy: 0.7302\n",
      "Epoch 8/20\n",
      "1340/1340 [==============================] - 8s 6ms/step - loss: 0.0250 - accuracy: 0.9903 - val_loss: 1.5465 - val_accuracy: 0.7319\n",
      "Epoch 9/20\n",
      "1340/1340 [==============================] - 8s 6ms/step - loss: 0.0187 - accuracy: 0.9927 - val_loss: 1.6749 - val_accuracy: 0.7295\n",
      "Epoch 10/20\n",
      "1340/1340 [==============================] - 8s 6ms/step - loss: 0.0188 - accuracy: 0.9924 - val_loss: 1.7878 - val_accuracy: 0.7320\n",
      "Epoch 11/20\n",
      "1340/1340 [==============================] - 8s 6ms/step - loss: 0.0173 - accuracy: 0.9938 - val_loss: 2.0363 - val_accuracy: 0.7288\n",
      "Epoch 12/20\n",
      "1340/1340 [==============================] - 8s 6ms/step - loss: 0.0177 - accuracy: 0.9931 - val_loss: 2.1731 - val_accuracy: 0.7305\n",
      "Epoch 13/20\n",
      "1340/1340 [==============================] - 8s 6ms/step - loss: 0.0149 - accuracy: 0.9943 - val_loss: 2.3137 - val_accuracy: 0.7312\n",
      "Epoch 14/20\n",
      "1340/1340 [==============================] - 7s 5ms/step - loss: 0.0135 - accuracy: 0.9946 - val_loss: 2.4229 - val_accuracy: 0.7293\n",
      "Epoch 15/20\n",
      "1340/1340 [==============================] - 7s 6ms/step - loss: 0.0116 - accuracy: 0.9956 - val_loss: 2.4739 - val_accuracy: 0.7302\n",
      "Epoch 16/20\n",
      "1340/1340 [==============================] - 7s 5ms/step - loss: 0.0134 - accuracy: 0.9950 - val_loss: 2.5782 - val_accuracy: 0.7298\n",
      "Epoch 17/20\n",
      "1340/1340 [==============================] - 8s 6ms/step - loss: 0.0122 - accuracy: 0.9952 - val_loss: 2.6258 - val_accuracy: 0.7251\n",
      "Epoch 18/20\n",
      "1340/1340 [==============================] - 7s 5ms/step - loss: 0.0121 - accuracy: 0.9952 - val_loss: 2.4674 - val_accuracy: 0.7153\n",
      "Epoch 19/20\n",
      "1340/1340 [==============================] - 7s 5ms/step - loss: 0.0098 - accuracy: 0.9959 - val_loss: 2.6218 - val_accuracy: 0.7172\n",
      "Epoch 20/20\n",
      "1340/1340 [==============================] - 8s 6ms/step - loss: 0.0096 - accuracy: 0.9959 - val_loss: 2.4957 - val_accuracy: 0.7183\n"
     ]
    }
   ],
   "source": [
    "model.compile(loss=\"binary_crossentropy\", optimizer=\"adam\", metrics=[\"accuracy\"])\n",
    "history = model.fit(train_text,y_train, validation_data= ( test_text , y_test),epochs=20)"
   ]
  },
  {
   "cell_type": "code",
   "execution_count": null,
   "metadata": {
    "colab": {
     "base_uri": "https://localhost:8080/",
     "height": 545
    },
    "id": "to6kVQ9t3Wj5",
    "outputId": "3425cfe4-8aa3-4b1d-f3cc-a2178f08f37a"
   },
   "outputs": [
    {
     "data": {
      "image/png": "[encoded data removed]",
      "text/plain": [
       "<Figure size 432x288 with 1 Axes>"
      ]
     },
     "metadata": {
      "needs_background": "light"
     },
     "output_type": "display_data"
    },
    {
     "data": {
      "image/png": "[encoded data removed]",
      "text/plain": [
       "<Figure size 432x288 with 1 Axes>"
      ]
     },
     "metadata": {
      "needs_background": "light"
     },
     "output_type": "display_data"
    }
   ],
   "source": [
    "# plotting the results\n",
    "\n",
    "acc = history.history.get('accuracy')\n",
    "val_acc = history.history.get('val_accuracy')\n",
    "loss = history.history.get('loss')\n",
    "val_loss = history.history.get('val_loss')\n",
    "\n",
    "epochs = range(1, 21)\n",
    "plt.plot(epochs, acc, 'b', label='Training Acc')\n",
    "plt.plot(epochs, val_acc, 'g', label='Validation Acc')\n",
    "plt.title('Training and Validation Accuracy')\n",
    "plt.legend()\n",
    "\n",
    "plt.figure()\n",
    "\n",
    "plt.plot(epochs, loss, 'b', label=\"Training Loss\")\n",
    "plt.plot(epochs, val_loss, 'g', label='Validation loss')\n",
    "plt.title('Training and Validation loss')\n",
    "plt.legend()\n",
    "plt.show()"
   ]
  },
  {
   "cell_type": "code",
   "execution_count": null,
   "metadata": {
    "colab": {
     "base_uri": "https://localhost:8080/"
    },
    "id": "pIXf1TwMEV9s",
    "outputId": "cd4f39e2-3ab7-4725-a930-798f486dc58c"
   },
   "outputs": [
    {
     "name": "stdout",
     "output_type": "stream",
     "text": [
      "Epoch 1/20\n",
      "1340/1340 [==============================] - 8s 6ms/step - loss: 0.5290 - accuracy: 0.7313 - val_loss: 0.4782 - val_accuracy: 0.7745\n",
      "Epoch 2/20\n",
      "1340/1340 [==============================] - 8s 6ms/step - loss: 0.3540 - accuracy: 0.8474 - val_loss: 0.5294 - val_accuracy: 0.7646\n",
      "Epoch 3/20\n",
      "1340/1340 [==============================] - 8s 6ms/step - loss: 0.1893 - accuracy: 0.9266 - val_loss: 0.6671 - val_accuracy: 0.7481\n",
      "Epoch 4/20\n",
      "1340/1340 [==============================] - 8s 6ms/step - loss: 0.0884 - accuracy: 0.9683 - val_loss: 0.8980 - val_accuracy: 0.7413\n",
      "Epoch 5/20\n",
      "1340/1340 [==============================] - 8s 6ms/step - loss: 0.0493 - accuracy: 0.9827 - val_loss: 1.1109 - val_accuracy: 0.7375\n",
      "Epoch 6/20\n",
      "1340/1340 [==============================] - 7s 5ms/step - loss: 0.0335 - accuracy: 0.9878 - val_loss: 1.3854 - val_accuracy: 0.7345\n",
      "Epoch 7/20\n",
      "1340/1340 [==============================] - 8s 6ms/step - loss: 0.0303 - accuracy: 0.9888 - val_loss: 1.5604 - val_accuracy: 0.7325\n",
      "Epoch 8/20\n",
      "1340/1340 [==============================] - 8s 6ms/step - loss: 0.0251 - accuracy: 0.9902 - val_loss: 1.6856 - val_accuracy: 0.7268\n",
      "Epoch 9/20\n",
      "1340/1340 [==============================] - 8s 6ms/step - loss: 0.0217 - accuracy: 0.9920 - val_loss: 1.8025 - val_accuracy: 0.7288\n",
      "Epoch 10/20\n",
      "1340/1340 [==============================] - 8s 6ms/step - loss: 0.0178 - accuracy: 0.9933 - val_loss: 1.9856 - val_accuracy: 0.7345\n",
      "Epoch 11/20\n",
      "1340/1340 [==============================] - 7s 5ms/step - loss: 0.0179 - accuracy: 0.9931 - val_loss: 2.0067 - val_accuracy: 0.7239\n",
      "Epoch 12/20\n",
      "1340/1340 [==============================] - 7s 6ms/step - loss: 0.0168 - accuracy: 0.9934 - val_loss: 2.0767 - val_accuracy: 0.7242\n",
      "Epoch 13/20\n",
      "1340/1340 [==============================] - 7s 5ms/step - loss: 0.0140 - accuracy: 0.9943 - val_loss: 2.2935 - val_accuracy: 0.7340\n",
      "Epoch 14/20\n",
      "1340/1340 [==============================] - 8s 6ms/step - loss: 0.0142 - accuracy: 0.9939 - val_loss: 2.2937 - val_accuracy: 0.7239\n",
      "Epoch 15/20\n",
      "1340/1340 [==============================] - 7s 5ms/step - loss: 0.0153 - accuracy: 0.9943 - val_loss: 2.2752 - val_accuracy: 0.7214\n",
      "Epoch 16/20\n",
      "1340/1340 [==============================] - 8s 6ms/step - loss: 0.0122 - accuracy: 0.9953 - val_loss: 2.5069 - val_accuracy: 0.7216\n",
      "Epoch 17/20\n",
      "1340/1340 [==============================] - 7s 5ms/step - loss: 0.0121 - accuracy: 0.9953 - val_loss: 2.4928 - val_accuracy: 0.7205\n",
      "Epoch 18/20\n",
      "1340/1340 [==============================] - 7s 5ms/step - loss: 0.0101 - accuracy: 0.9958 - val_loss: 2.6149 - val_accuracy: 0.7227\n",
      "Epoch 19/20\n",
      "1340/1340 [==============================] - 7s 6ms/step - loss: 0.0101 - accuracy: 0.9960 - val_loss: 2.6718 - val_accuracy: 0.7273\n",
      "Epoch 20/20\n",
      "1340/1340 [==============================] - 7s 5ms/step - loss: 0.0092 - accuracy: 0.9960 - val_loss: 2.7111 - val_accuracy: 0.7186\n"
     ]
    }
   ],
   "source": [
    "from keras import regularizers\n",
    "from keras.callbacks import ModelCheckpoint\n",
    "model= Sequential()\n",
    "model.add(layers.Embedding(vocab_size, 100, input_length=max_len))\n",
    "model.add(layers.Conv1D(32, 8, activation=\"relu\"))\n",
    "model.add(layers.MaxPooling1D(2))\n",
    "model.add(layers.Flatten())\n",
    "model.add(layers.Dense(10, activation=\"relu\"))\n",
    "model.add(layers.Dense(1,  activation=\"sigmoid\"))   \n",
    "model.compile(loss=\"binary_crossentropy\", optimizer=\"adam\", metrics=[\"accuracy\"])\n",
    "#modelHistory = model.fit(train_text,y_train, validation_data= ( test_text , y_test),epochs=100)\n",
    "history = model.fit(train_text, y_train, epochs=20,validation_data=(test_text, y_test))"
   ]
  },
  {
   "cell_type": "code",
   "execution_count": null,
   "metadata": {
    "colab": {
     "base_uri": "https://localhost:8080/",
     "height": 545
    },
    "id": "RvVt_sCaFCYV",
    "outputId": "0bdfde3c-5cbf-4fb1-8bfb-ecc0e7145e13",
    "scrolled": true
   },
   "outputs": [
    {
     "data": {
      "image/png": "[encoded data removed]",
      "text/plain": [
       "<Figure size 432x288 with 1 Axes>"
      ]
     },
     "metadata": {
      "needs_background": "light"
     },
     "output_type": "display_data"
    },
    {
     "data": {
      "image/png": "[encoded data removed]",
      "text/plain": [
       "<Figure size 432x288 with 1 Axes>"
      ]
     },
     "metadata": {
      "needs_background": "light"
     },
     "output_type": "display_data"
    }
   ],
   "source": [
    "# plotting the results\n",
    "\n",
    "acc = history.history.get('accuracy')\n",
    "val_acc = history.history.get('val_accuracy')\n",
    "loss = history.history.get('loss')\n",
    "val_loss = history.history.get('val_loss')\n",
    "\n",
    "epochs = range(1, len(acc)+1)\n",
    "plt.plot(epochs, acc, 'b', label='Training Acc')\n",
    "plt.plot(epochs, val_acc, 'g', label='Validation Acc')\n",
    "plt.title('Training and Validation Accuracy')\n",
    "plt.legend()\n",
    "\n",
    "plt.figure()\n",
    "\n",
    "plt.plot(epochs, loss, 'b', label=\"Training Loss\")\n",
    "plt.plot(epochs, val_loss, 'g', label='Validation loss')\n",
    "plt.title('Training and Validation loss')\n",
    "plt.legend()\n",
    "plt.show()"
   ]
  },
  {
   "cell_type": "markdown",
   "metadata": {
    "id": "O_cNYE66GP_F"
   },
   "source": [
    "#### Setting up the RNN Model\n",
    "RNN models have been implemented using sequential models from the Keras API. \n",
    "Differential Model complexity is achieved by varying the following:\n",
    "A) Number of hidden layers\n",
    "B) Number of Neuron units in each layer Essentially, I'll start "
   ]
  },
  {
   "cell_type": "code",
   "execution_count": null,
   "metadata": {
    "id": "VBzhW6eSgu7f"
   },
   "outputs": [],
   "source": [
    "from keras.preprocessing.text import Tokenizer\n",
    "from keras.preprocessing.sequence import pad_sequences\n",
    "from keras import regularizers\n",
    "train_text, train_polarity = tfds.as_numpy(tfds.load('sentiment140', split='train[:4%]', shuffle_files=True, batch_size=-1,\n",
    "    as_supervised=True ))\n",
    "train_text = clean_v_func(train_text)\n",
    "train_text = convert_v_func(train_text)\n",
    "max_words = 5000\n",
    "#max_len = 200\n",
    "max_len=max([len(row.split()) for row in train_text])\n",
    "\n",
    "tokenizer = Tokenizer(num_words=max_words)\n",
    "tokenizer.fit_on_texts(train_text)\n",
    "sequences = tokenizer.texts_to_sequences(train_text)\n",
    "tweets = pad_sequences(sequences, maxlen=max_len)\n"
   ]
  },
  {
   "cell_type": "code",
   "execution_count": null,
   "metadata": {
    "id": "p0foj0FPg-nd"
   },
   "outputs": [],
   "source": [
    "from keras.layers import Embedding\n",
    "embedding_layer = Embedding(1000, 64)"
   ]
  },
  {
   "cell_type": "code",
   "execution_count": null,
   "metadata": {
    "colab": {
     "base_uri": "https://localhost:8080/"
    },
    "id": "QEDk5DzahC7x",
    "outputId": "ad80f3a6-c1da-4101-ffb3-ba3fe0fa9ec0"
   },
   "outputs": [
    {
     "name": "stdout",
     "output_type": "stream",
     "text": [
      "[[0 1]\n",
      " [1 0]\n",
      " [0 1]\n",
      " [0 1]\n",
      " [1 0]\n",
      " [0 1]]\n"
     ]
    }
   ],
   "source": [
    "labels = train_polarity\n",
    "\n",
    "y = []\n",
    "for i in range(len(labels)):\n",
    "    if labels[i] == 0:\n",
    "        y.append(0)\n",
    "    if labels[i] == 4:\n",
    "        y.append(1)\n",
    "\n",
    "y = np.array(y)\n",
    "\n",
    "labels = tf.keras.utils.to_categorical(y, dtype=\"int32\")\n",
    "del y\n",
    "print (labels[:6])"
   ]
  },
  {
   "cell_type": "code",
   "execution_count": null,
   "metadata": {
    "colab": {
     "base_uri": "https://localhost:8080/"
    },
    "id": "No9vLU3_soFR",
    "outputId": "900703ea-8f44-4f82-8256-b911585d59b2"
   },
   "outputs": [
    {
     "name": "stdout",
     "output_type": "stream",
     "text": [
      "(42880, 375) (21120, 375) (42880, 2) (21120, 2)\n"
     ]
    }
   ],
   "source": [
    "from sklearn.model_selection import train_test_split\n",
    "X_train, X_test, y_train, y_test = train_test_split(tweets,labels, test_size=0.33, random_state=42)\n",
    "print ((X_train.shape),(X_test.shape),(y_train.shape),(y_test.shape))"
   ]
  },
  {
   "cell_type": "code",
   "execution_count": null,
   "metadata": {
    "id": "003NHFuTmLeU"
   },
   "outputs": [],
   "source": [
    "from keras.models import Sequential\n",
    "from keras import layers\n",
    "from keras import regularizers\n",
    "from keras import backend as K\n",
    "from keras.callbacks import ModelCheckpoint"
   ]
  },
  {
   "cell_type": "markdown",
   "metadata": {
    "id": "f91kn9gJMMnt"
   },
   "source": [
    "### Model1: \n",
    "A single Layer LSTM"
   ]
  },
  {
   "cell_type": "code",
   "execution_count": null,
   "metadata": {
    "colab": {
     "base_uri": "https://localhost:8080/"
    },
    "id": "-2p6MZR_fiGh",
    "outputId": "8ef435ac-b676-4c84-9560-b875afb3e4c5"
   },
   "outputs": [
    {
     "name": "stdout",
     "output_type": "stream",
     "text": [
      "WARNING:tensorflow:`period` argument is deprecated. Please use `save_freq` to specify the frequency in number of batches seen.\n"
     ]
    },
    {
     "name": "stderr",
     "output_type": "stream",
     "text": [
      "WARNING:tensorflow:`period` argument is deprecated. Please use `save_freq` to specify the frequency in number of batches seen.\n"
     ]
    },
    {
     "name": "stdout",
     "output_type": "stream",
     "text": [
      "Epoch 1/20\n",
      "1338/1340 [============================>.] - ETA: 0s - loss: 0.5645 - accuracy: 0.7072\n",
      "Epoch 1: val_accuracy improved from -inf to 0.75516, saving model to best_model1.hdf5\n",
      "1340/1340 [==============================] - 27s 18ms/step - loss: 0.5643 - accuracy: 0.7073 - val_loss: 0.5054 - val_accuracy: 0.7552\n",
      "Epoch 2/20\n",
      "1339/1340 [============================>.] - ETA: 0s - loss: 0.4859 - accuracy: 0.7706\n",
      "Epoch 2: val_accuracy improved from 0.75516 to 0.76771, saving model to best_model1.hdf5\n",
      "1340/1340 [==============================] - 25s 19ms/step - loss: 0.4859 - accuracy: 0.7705 - val_loss: 0.4876 - val_accuracy: 0.7677\n",
      "Epoch 3/20\n",
      "1337/1340 [============================>.] - ETA: 0s - loss: 0.4669 - accuracy: 0.7811\n",
      "Epoch 3: val_accuracy improved from 0.76771 to 0.76823, saving model to best_model1.hdf5\n",
      "1340/1340 [==============================] - 25s 19ms/step - loss: 0.4669 - accuracy: 0.7810 - val_loss: 0.4916 - val_accuracy: 0.7682\n",
      "Epoch 4/20\n",
      "1337/1340 [============================>.] - ETA: 0s - loss: 0.4571 - accuracy: 0.7868\n",
      "Epoch 4: val_accuracy improved from 0.76823 to 0.77178, saving model to best_model1.hdf5\n",
      "1340/1340 [==============================] - 26s 19ms/step - loss: 0.4571 - accuracy: 0.7868 - val_loss: 0.4768 - val_accuracy: 0.7718\n",
      "Epoch 5/20\n",
      "1340/1340 [==============================] - ETA: 0s - loss: 0.4517 - accuracy: 0.7897\n",
      "Epoch 5: val_accuracy improved from 0.77178 to 0.77240, saving model to best_model1.hdf5\n",
      "1340/1340 [==============================] - 26s 19ms/step - loss: 0.4517 - accuracy: 0.7897 - val_loss: 0.4733 - val_accuracy: 0.7724\n",
      "Epoch 6/20\n",
      "1337/1340 [============================>.] - ETA: 0s - loss: 0.4470 - accuracy: 0.7919\n",
      "Epoch 6: val_accuracy improved from 0.77240 to 0.77401, saving model to best_model1.hdf5\n",
      "1340/1340 [==============================] - 25s 19ms/step - loss: 0.4472 - accuracy: 0.7919 - val_loss: 0.4723 - val_accuracy: 0.7740\n",
      "Epoch 7/20\n",
      "1338/1340 [============================>.] - ETA: 0s - loss: 0.4432 - accuracy: 0.7943\n",
      "Epoch 7: val_accuracy did not improve from 0.77401\n",
      "1340/1340 [==============================] - 25s 18ms/step - loss: 0.4431 - accuracy: 0.7943 - val_loss: 0.4717 - val_accuracy: 0.7734\n",
      "Epoch 8/20\n",
      "1337/1340 [============================>.] - ETA: 0s - loss: 0.4395 - accuracy: 0.7978\n",
      "Epoch 8: val_accuracy did not improve from 0.77401\n",
      "1340/1340 [==============================] - 26s 19ms/step - loss: 0.4396 - accuracy: 0.7978 - val_loss: 0.4710 - val_accuracy: 0.7736\n",
      "Epoch 9/20\n",
      "1340/1340 [==============================] - ETA: 0s - loss: 0.4379 - accuracy: 0.7977\n",
      "Epoch 9: val_accuracy improved from 0.77401 to 0.77453, saving model to best_model1.hdf5\n",
      "1340/1340 [==============================] - 25s 19ms/step - loss: 0.4379 - accuracy: 0.7977 - val_loss: 0.4698 - val_accuracy: 0.7745\n",
      "Epoch 10/20\n",
      "1337/1340 [============================>.] - ETA: 0s - loss: 0.4336 - accuracy: 0.8013\n",
      "Epoch 10: val_accuracy did not improve from 0.77453\n",
      "1340/1340 [==============================] - 26s 19ms/step - loss: 0.4337 - accuracy: 0.8012 - val_loss: 0.4679 - val_accuracy: 0.7745\n",
      "Epoch 11/20\n",
      "1340/1340 [==============================] - ETA: 0s - loss: 0.4327 - accuracy: 0.8011\n",
      "Epoch 11: val_accuracy did not improve from 0.77453\n",
      "1340/1340 [==============================] - 26s 19ms/step - loss: 0.4327 - accuracy: 0.8011 - val_loss: 0.4736 - val_accuracy: 0.7732\n",
      "Epoch 12/20\n",
      "1338/1340 [============================>.] - ETA: 0s - loss: 0.4296 - accuracy: 0.8032\n",
      "Epoch 12: val_accuracy did not improve from 0.77453\n",
      "1340/1340 [==============================] - 26s 20ms/step - loss: 0.4295 - accuracy: 0.8033 - val_loss: 0.4786 - val_accuracy: 0.7742\n",
      "Epoch 13/20\n",
      "1339/1340 [============================>.] - ETA: 0s - loss: 0.4269 - accuracy: 0.8051\n",
      "Epoch 13: val_accuracy improved from 0.77453 to 0.77476, saving model to best_model1.hdf5\n",
      "1340/1340 [==============================] - 26s 20ms/step - loss: 0.4269 - accuracy: 0.8051 - val_loss: 0.4733 - val_accuracy: 0.7748\n",
      "Epoch 14/20\n",
      "1337/1340 [============================>.] - ETA: 0s - loss: 0.4262 - accuracy: 0.8050\n",
      "Epoch 14: val_accuracy improved from 0.77476 to 0.77723, saving model to best_model1.hdf5\n",
      "1340/1340 [==============================] - 27s 20ms/step - loss: 0.4262 - accuracy: 0.8050 - val_loss: 0.4675 - val_accuracy: 0.7772\n",
      "Epoch 15/20\n",
      "1340/1340 [==============================] - ETA: 0s - loss: 0.4228 - accuracy: 0.8057\n",
      "Epoch 15: val_accuracy did not improve from 0.77723\n",
      "1340/1340 [==============================] - 27s 20ms/step - loss: 0.4228 - accuracy: 0.8057 - val_loss: 0.4686 - val_accuracy: 0.7758\n",
      "Epoch 16/20\n",
      "1337/1340 [============================>.] - ETA: 0s - loss: 0.4221 - accuracy: 0.8083\n",
      "Epoch 16: val_accuracy did not improve from 0.77723\n",
      "1340/1340 [==============================] - 27s 20ms/step - loss: 0.4221 - accuracy: 0.8083 - val_loss: 0.4682 - val_accuracy: 0.7767\n",
      "Epoch 17/20\n",
      "1339/1340 [============================>.] - ETA: 0s - loss: 0.4194 - accuracy: 0.8098\n",
      "Epoch 17: val_accuracy did not improve from 0.77723\n",
      "1340/1340 [==============================] - 27s 20ms/step - loss: 0.4194 - accuracy: 0.8099 - val_loss: 0.4703 - val_accuracy: 0.7771\n",
      "Epoch 18/20\n",
      "1340/1340 [==============================] - ETA: 0s - loss: 0.4177 - accuracy: 0.8104\n",
      "Epoch 18: val_accuracy did not improve from 0.77723\n",
      "1340/1340 [==============================] - 27s 20ms/step - loss: 0.4177 - accuracy: 0.8104 - val_loss: 0.4686 - val_accuracy: 0.7768\n",
      "Epoch 19/20\n",
      "1338/1340 [============================>.] - ETA: 0s - loss: 0.4164 - accuracy: 0.8104\n",
      "Epoch 19: val_accuracy improved from 0.77723 to 0.77765, saving model to best_model1.hdf5\n",
      "1340/1340 [==============================] - 27s 20ms/step - loss: 0.4164 - accuracy: 0.8104 - val_loss: 0.4711 - val_accuracy: 0.7777\n",
      "Epoch 20/20\n",
      "1340/1340 [==============================] - ETA: 0s - loss: 0.4154 - accuracy: 0.8113\n",
      "Epoch 20: val_accuracy improved from 0.77765 to 0.77817, saving model to best_model1.hdf5\n",
      "1340/1340 [==============================] - 27s 20ms/step - loss: 0.4154 - accuracy: 0.8113 - val_loss: 0.4672 - val_accuracy: 0.7782\n"
     ]
    }
   ],
   "source": [
    "model1 = Sequential()\n",
    "model1.add(layers.Embedding(max_words, 20,input_length=max_len))\n",
    "model1.add(layers.LSTM(15,dropout=0.5))\n",
    "model1.add(layers.Dense(2,activation='softmax'))\n",
    "\n",
    "model1.compile(optimizer='rmsprop',loss='binary_crossentropy', metrics=['accuracy'])\n",
    "#Implementing model checkpoins to save the best metric and do not lose it on training.\n",
    "checkpoint1 = ModelCheckpoint(\"best_model1.hdf5\", monitor='val_accuracy', verbose=1,save_best_only=True, mode='auto', period=1,save_weights_only=False)\n",
    "history = model1.fit(X_train, y_train, epochs=20,validation_data=(X_test, y_test),callbacks=[checkpoint1])"
   ]
  },
  {
   "cell_type": "code",
   "execution_count": null,
   "metadata": {
    "colab": {
     "base_uri": "https://localhost:8080/",
     "height": 634
    },
    "id": "vfiQn6tCtZuu",
    "outputId": "6c7c0daf-bc36-49d4-9c60-426757245125",
    "scrolled": true
   },
   "outputs": [
    {
     "name": "stdout",
     "output_type": "stream",
     "text": [
      "[0.7072761058807373, 0.77052241563797, 0.7809934616088867, 0.7867537140846252, 0.7897388339042664, 0.7918843030929565, 0.794309675693512, 0.7978078126907349, 0.7977378964424133, 0.8012360334396362, 0.8011193871498108, 0.8032882213592529, 0.805060625076294, 0.8049906492233276, 0.8057369589805603, 0.8083022236824036, 0.8098647594451904, 0.8104477524757385, 0.8104011416435242, 0.8112872838973999]\n",
      "[0.5643373131752014, 0.485925555229187, 0.4669242203235626, 0.4571470022201538, 0.45169034600257874, 0.44715315103530884, 0.44314125180244446, 0.4396372437477112, 0.4378770589828491, 0.43373537063598633, 0.4326869547367096, 0.42947855591773987, 0.4268990159034729, 0.42624592781066895, 0.42283371090888977, 0.4220981001853943, 0.41935160756111145, 0.4177151024341583, 0.4163852035999298, 0.4154195189476013]\n",
      "[0.5053774118423462, 0.48760607838630676, 0.4916101098060608, 0.47681108117103577, 0.4733407199382782, 0.4722803831100464, 0.47169479727745056, 0.47102993726730347, 0.469821035861969, 0.46786442399024963, 0.4736216366291046, 0.4786263704299927, 0.47326985001564026, 0.4675484299659729, 0.4686110019683838, 0.46820589900016785, 0.4703177809715271, 0.4685649871826172, 0.4710638225078583, 0.4672275483608246]\n",
      "range(1, 21)\n"
     ]
    },
    {
     "data": {
      "image/png": "[encoded data removed]",
      "text/plain": [
       "<Figure size 432x288 with 1 Axes>"
      ]
     },
     "metadata": {
      "needs_background": "light"
     },
     "output_type": "display_data"
    },
    {
     "data": {
      "image/png": "[encoded data removed]",
      "text/plain": [
       "<Figure size 432x288 with 1 Axes>"
      ]
     },
     "metadata": {
      "needs_background": "light"
     },
     "output_type": "display_data"
    }
   ],
   "source": [
    "# plotting the results\n",
    "\n",
    "acc = history.history.get('accuracy')\n",
    "val_acc = history.history.get('val_accuracy')\n",
    "loss = history.history.get('loss')\n",
    "val_loss = history.history.get('val_loss')\n",
    "print(acc)\n",
    "print(loss)\n",
    "print(val_loss)\n",
    "epochs = range(1, 21)\n",
    "print (epochs)\n",
    "\n",
    "plt.plot(epochs, acc, 'b', label='Training Acc')\n",
    "plt.plot(epochs, val_acc, 'g', label='Validation Acc')\n",
    "plt.title('Training and Validation Accuracy')\n",
    "plt.legend()\n",
    "\n",
    "plt.figure()\n",
    "\n",
    "plt.plot(epochs, loss, 'b', label=\"Training Loss\")\n",
    "plt.plot(epochs, val_loss, 'g', label='Validation loss')\n",
    "plt.title('Training and Validation loss')\n",
    "plt.legend()\n",
    "plt.show()\n"
   ]
  },
  {
   "cell_type": "markdown",
   "metadata": {
    "id": "6w3HIrW6MYeP"
   },
   "source": [
    "### Model 2: \n",
    "A double Layered LSTM"
   ]
  },
  {
   "cell_type": "code",
   "execution_count": null,
   "metadata": {
    "colab": {
     "base_uri": "https://localhost:8080/"
    },
    "id": "KsFoZ7ybAvdC",
    "outputId": "f55162e6-9cda-4aec-fd96-5e17e5958c00"
   },
   "outputs": [
    {
     "name": "stdout",
     "output_type": "stream",
     "text": [
      "WARNING:tensorflow:`period` argument is deprecated. Please use `save_freq` to specify the frequency in number of batches seen.\n"
     ]
    },
    {
     "name": "stderr",
     "output_type": "stream",
     "text": [
      "WARNING:tensorflow:`period` argument is deprecated. Please use `save_freq` to specify the frequency in number of batches seen.\n"
     ]
    },
    {
     "name": "stdout",
     "output_type": "stream",
     "text": [
      "Epoch 1/20\n",
      "1339/1340 [============================>.] - ETA: 0s - loss: 0.5748 - accuracy: 0.7002\n",
      "Epoch 1: val_accuracy improved from -inf to 0.75805, saving model to best_model2.hdf5\n",
      "1340/1340 [==============================] - 53s 38ms/step - loss: 0.5749 - accuracy: 0.7003 - val_loss: 0.5042 - val_accuracy: 0.7580\n",
      "Epoch 2/20\n",
      "1339/1340 [============================>.] - ETA: 0s - loss: 0.4915 - accuracy: 0.7668\n",
      "Epoch 2: val_accuracy improved from 0.75805 to 0.76435, saving model to best_model2.hdf5\n",
      "1340/1340 [==============================] - 48s 36ms/step - loss: 0.4916 - accuracy: 0.7667 - val_loss: 0.4875 - val_accuracy: 0.7643\n",
      "Epoch 3/20\n",
      "1339/1340 [============================>.] - ETA: 0s - loss: 0.4706 - accuracy: 0.7808\n",
      "Epoch 3: val_accuracy improved from 0.76435 to 0.76662, saving model to best_model2.hdf5\n",
      "1340/1340 [==============================] - 49s 37ms/step - loss: 0.4706 - accuracy: 0.7808 - val_loss: 0.4818 - val_accuracy: 0.7666\n",
      "Epoch 4/20\n",
      "1339/1340 [============================>.] - ETA: 0s - loss: 0.4618 - accuracy: 0.7859\n",
      "Epoch 4: val_accuracy improved from 0.76662 to 0.76951, saving model to best_model2.hdf5\n",
      "1340/1340 [==============================] - 51s 38ms/step - loss: 0.4618 - accuracy: 0.7859 - val_loss: 0.4783 - val_accuracy: 0.7695\n",
      "Epoch 5/20\n",
      "1339/1340 [============================>.] - ETA: 0s - loss: 0.4536 - accuracy: 0.7903\n",
      "Epoch 5: val_accuracy improved from 0.76951 to 0.77159, saving model to best_model2.hdf5\n",
      "1340/1340 [==============================] - 52s 39ms/step - loss: 0.4535 - accuracy: 0.7904 - val_loss: 0.4835 - val_accuracy: 0.7716\n",
      "Epoch 6/20\n",
      "1339/1340 [============================>.] - ETA: 0s - loss: 0.4506 - accuracy: 0.7916\n",
      "Epoch 6: val_accuracy improved from 0.77159 to 0.77211, saving model to best_model2.hdf5\n",
      "1340/1340 [==============================] - 51s 38ms/step - loss: 0.4506 - accuracy: 0.7916 - val_loss: 0.4764 - val_accuracy: 0.7721\n",
      "Epoch 7/20\n",
      "1339/1340 [============================>.] - ETA: 0s - loss: 0.4466 - accuracy: 0.7936\n",
      "Epoch 7: val_accuracy improved from 0.77211 to 0.77405, saving model to best_model2.hdf5\n",
      "1340/1340 [==============================] - 52s 39ms/step - loss: 0.4466 - accuracy: 0.7936 - val_loss: 0.4772 - val_accuracy: 0.7741\n",
      "Epoch 8/20\n",
      "1339/1340 [============================>.] - ETA: 0s - loss: 0.4437 - accuracy: 0.7964\n",
      "Epoch 8: val_accuracy improved from 0.77405 to 0.77438, saving model to best_model2.hdf5\n",
      "1340/1340 [==============================] - 52s 39ms/step - loss: 0.4437 - accuracy: 0.7965 - val_loss: 0.4728 - val_accuracy: 0.7744\n",
      "Epoch 9/20\n",
      "1339/1340 [============================>.] - ETA: 0s - loss: 0.4420 - accuracy: 0.7971\n",
      "Epoch 9: val_accuracy did not improve from 0.77438\n",
      "1340/1340 [==============================] - 52s 39ms/step - loss: 0.4421 - accuracy: 0.7970 - val_loss: 0.4759 - val_accuracy: 0.7738\n",
      "Epoch 10/20\n",
      "1339/1340 [============================>.] - ETA: 0s - loss: 0.4396 - accuracy: 0.7982\n",
      "Epoch 10: val_accuracy improved from 0.77438 to 0.77528, saving model to best_model2.hdf5\n",
      "1340/1340 [==============================] - 52s 39ms/step - loss: 0.4397 - accuracy: 0.7981 - val_loss: 0.4750 - val_accuracy: 0.7753\n",
      "Epoch 11/20\n",
      "1339/1340 [============================>.] - ETA: 0s - loss: 0.4381 - accuracy: 0.8001\n",
      "Epoch 11: val_accuracy improved from 0.77528 to 0.77633, saving model to best_model2.hdf5\n",
      "1340/1340 [==============================] - 53s 39ms/step - loss: 0.4381 - accuracy: 0.8001 - val_loss: 0.4699 - val_accuracy: 0.7763\n",
      "Epoch 12/20\n",
      "1339/1340 [============================>.] - ETA: 0s - loss: 0.4352 - accuracy: 0.8006\n",
      "Epoch 12: val_accuracy did not improve from 0.77633\n",
      "1340/1340 [==============================] - 53s 39ms/step - loss: 0.4351 - accuracy: 0.8006 - val_loss: 0.4775 - val_accuracy: 0.7761\n",
      "Epoch 13/20\n",
      "1339/1340 [============================>.] - ETA: 0s - loss: 0.4330 - accuracy: 0.8033\n",
      "Epoch 13: val_accuracy did not improve from 0.77633\n",
      "1340/1340 [==============================] - 53s 39ms/step - loss: 0.4329 - accuracy: 0.8033 - val_loss: 0.4766 - val_accuracy: 0.7763\n",
      "Epoch 14/20\n",
      "1339/1340 [============================>.] - ETA: 0s - loss: 0.4308 - accuracy: 0.8055\n",
      "Epoch 14: val_accuracy did not improve from 0.77633\n",
      "1340/1340 [==============================] - 51s 38ms/step - loss: 0.4308 - accuracy: 0.8055 - val_loss: 0.4777 - val_accuracy: 0.7760\n",
      "Epoch 15/20\n",
      "1339/1340 [============================>.] - ETA: 0s - loss: 0.4298 - accuracy: 0.8052\n",
      "Epoch 15: val_accuracy improved from 0.77633 to 0.77704, saving model to best_model2.hdf5\n",
      "1340/1340 [==============================] - 53s 39ms/step - loss: 0.4298 - accuracy: 0.8052 - val_loss: 0.4726 - val_accuracy: 0.7770\n",
      "Epoch 16/20\n",
      "1339/1340 [============================>.] - ETA: 0s - loss: 0.4280 - accuracy: 0.8063\n",
      "Epoch 16: val_accuracy improved from 0.77704 to 0.77765, saving model to best_model2.hdf5\n",
      "1340/1340 [==============================] - 52s 39ms/step - loss: 0.4281 - accuracy: 0.8063 - val_loss: 0.4748 - val_accuracy: 0.7777\n",
      "Epoch 17/20\n",
      "1339/1340 [============================>.] - ETA: 0s - loss: 0.4279 - accuracy: 0.8052\n",
      "Epoch 17: val_accuracy did not improve from 0.77765\n",
      "1340/1340 [==============================] - 52s 39ms/step - loss: 0.4280 - accuracy: 0.8051 - val_loss: 0.4834 - val_accuracy: 0.7773\n",
      "Epoch 18/20\n",
      "1339/1340 [============================>.] - ETA: 0s - loss: 0.4264 - accuracy: 0.8069\n",
      "Epoch 18: val_accuracy did not improve from 0.77765\n",
      "1340/1340 [==============================] - 53s 39ms/step - loss: 0.4264 - accuracy: 0.8069 - val_loss: 0.4755 - val_accuracy: 0.7774\n",
      "Epoch 19/20\n",
      "1340/1340 [==============================] - ETA: 0s - loss: 0.4263 - accuracy: 0.8071\n",
      "Epoch 19: val_accuracy did not improve from 0.77765\n",
      "1340/1340 [==============================] - 54s 40ms/step - loss: 0.4263 - accuracy: 0.8071 - val_loss: 0.4819 - val_accuracy: 0.7766\n",
      "Epoch 20/20\n",
      "1339/1340 [============================>.] - ETA: 0s - loss: 0.4250 - accuracy: 0.8080\n",
      "Epoch 20: val_accuracy did not improve from 0.77765\n",
      "1340/1340 [==============================] - 54s 40ms/step - loss: 0.4251 - accuracy: 0.8079 - val_loss: 0.4775 - val_accuracy: 0.7770\n"
     ]
    }
   ],
   "source": [
    "model2 = Sequential()\n",
    "model2.add(layers.Embedding(max_words, 20,input_length=max_len))\n",
    "model2.add(layers.LSTM(15,dropout=0.5,return_sequences = True))\n",
    "model2.add(layers.LSTM(units = 15,dropout=0.5, return_sequences = False))\n",
    "model2.add(layers.Dense(2,activation='softmax'))\n",
    "\n",
    "model2.compile(optimizer='rmsprop',loss='binary_crossentropy', metrics=['accuracy'])\n",
    "#Implementing model checkpoins to save the best metric and do not lose it on training.\n",
    "checkpoint1 = ModelCheckpoint(\"best_model2.hdf5\", monitor='val_accuracy', verbose=1,save_best_only=True, mode='auto', period=1,save_weights_only=False)\n",
    "history = model2.fit(X_train, y_train, epochs=20,validation_data=(X_test, y_test),callbacks=[checkpoint1])"
   ]
  },
  {
   "cell_type": "code",
   "execution_count": null,
   "metadata": {
    "colab": {
     "base_uri": "https://localhost:8080/",
     "height": 634
    },
    "id": "A47LO5xUFB7d",
    "outputId": "f44d3922-f1f3-4ab7-df11-e86b7a0326a0"
   },
   "outputs": [
    {
     "name": "stdout",
     "output_type": "stream",
     "text": [
      "[0.7002565264701843, 0.7666744589805603, 0.7808068990707397, 0.785937488079071, 0.7903684973716736, 0.791627824306488, 0.7936100959777832, 0.7964785695075989, 0.7970382571220398, 0.7981110215187073, 0.8001165986061096, 0.8006296753883362, 0.8032649159431458, 0.8055037260055542, 0.8052005767822266, 0.806273341178894, 0.8051306009292603, 0.8069496154785156, 0.8071128726005554, 0.8079057931900024]\n",
      "[0.5748934745788574, 0.4916088581085205, 0.47063905000686646, 0.4617633521556854, 0.4535107910633087, 0.4506170153617859, 0.44661882519721985, 0.4436752498149872, 0.4420618414878845, 0.43973320722579956, 0.43810752034187317, 0.43511515855789185, 0.4329075515270233, 0.4308074414730072, 0.42983585596084595, 0.4281069040298462, 0.4279782474040985, 0.42640286684036255, 0.42630261182785034, 0.4251079857349396]\n",
      "[0.5042362809181213, 0.48754119873046875, 0.4818371534347534, 0.4782625138759613, 0.4834694266319275, 0.47641119360923767, 0.47724664211273193, 0.47283631563186646, 0.4758899509906769, 0.4749782085418701, 0.4699077606201172, 0.47750353813171387, 0.476597398519516, 0.47774168848991394, 0.472644180059433, 0.47483548521995544, 0.4834335744380951, 0.47548148036003113, 0.4818998873233795, 0.47746068239212036]\n",
      "range(1, 21)\n"
     ]
    },
    {
     "data": {
      "image/png": "[encoded data removed]",
      "text/plain": [
       "<Figure size 432x288 with 1 Axes>"
      ]
     },
     "metadata": {
      "needs_background": "light"
     },
     "output_type": "display_data"
    },
    {
     "data": {
      "image/png": "[encoded data removed]",
      "text/plain": [
       "<Figure size 432x288 with 1 Axes>"
      ]
     },
     "metadata": {
      "needs_background": "light"
     },
     "output_type": "display_data"
    }
   ],
   "source": [
    "# plotting the results\n",
    "\n",
    "acc = history.history.get('accuracy')\n",
    "val_acc = history.history.get('val_accuracy')\n",
    "loss = history.history.get('loss')\n",
    "val_loss = history.history.get('val_loss')\n",
    "print(acc)\n",
    "print(loss)\n",
    "print(val_loss)\n",
    "epochs = range(1, 21)\n",
    "print (epochs)\n",
    "\n",
    "plt.plot(epochs, acc, 'b', label='Training Acc')\n",
    "plt.plot(epochs, val_acc, 'g', label='Validation Acc')\n",
    "plt.title('Training and Validation Accuracy')\n",
    "plt.legend()\n",
    "\n",
    "plt.figure()\n",
    "\n",
    "plt.plot(epochs, loss, 'b', label=\"Training Loss\")\n",
    "plt.plot(epochs, val_loss, 'g', label='Validation loss')\n",
    "plt.title('Training and Validation loss')\n",
    "plt.legend()\n",
    "plt.show()"
   ]
  },
  {
   "cell_type": "markdown",
   "metadata": {
    "id": "tzb6e-ZgMe1y"
   },
   "source": [
    "### Model 3: \n",
    "A triple Layered LSTM"
   ]
  },
  {
   "cell_type": "code",
   "execution_count": null,
   "metadata": {
    "colab": {
     "base_uri": "https://localhost:8080/"
    },
    "id": "lvJeODvbFPlo",
    "outputId": "6c91391a-a585-4ca1-b60f-32492c46709c"
   },
   "outputs": [
    {
     "name": "stdout",
     "output_type": "stream",
     "text": [
      "WARNING:tensorflow:`period` argument is deprecated. Please use `save_freq` to specify the frequency in number of batches seen.\n"
     ]
    },
    {
     "name": "stderr",
     "output_type": "stream",
     "text": [
      "WARNING:tensorflow:`period` argument is deprecated. Please use `save_freq` to specify the frequency in number of batches seen.\n"
     ]
    },
    {
     "name": "stdout",
     "output_type": "stream",
     "text": [
      "Epoch 1/20\n",
      "1340/1340 [==============================] - ETA: 0s - loss: 0.5875 - accuracy: 0.6809\n",
      "Epoch 1: val_accuracy improved from -inf to 0.75388, saving model to best_model3.hdf5\n",
      "1340/1340 [==============================] - 77s 54ms/step - loss: 0.5875 - accuracy: 0.6809 - val_loss: 0.5091 - val_accuracy: 0.7539\n",
      "Epoch 2/20\n",
      "1340/1340 [==============================] - ETA: 0s - loss: 0.5004 - accuracy: 0.7630\n",
      "Epoch 2: val_accuracy improved from 0.75388 to 0.76212, saving model to best_model3.hdf5\n",
      "1340/1340 [==============================] - 72s 54ms/step - loss: 0.5004 - accuracy: 0.7630 - val_loss: 0.4957 - val_accuracy: 0.7621\n",
      "Epoch 3/20\n",
      "1339/1340 [============================>.] - ETA: 0s - loss: 0.4792 - accuracy: 0.7777\n",
      "Epoch 3: val_accuracy improved from 0.76212 to 0.76624, saving model to best_model3.hdf5\n",
      "1340/1340 [==============================] - 72s 54ms/step - loss: 0.4792 - accuracy: 0.7777 - val_loss: 0.4849 - val_accuracy: 0.7662\n",
      "Epoch 4/20\n",
      "1339/1340 [============================>.] - ETA: 0s - loss: 0.4678 - accuracy: 0.7836\n",
      "Epoch 4: val_accuracy improved from 0.76624 to 0.76861, saving model to best_model3.hdf5\n",
      "1340/1340 [==============================] - 72s 54ms/step - loss: 0.4678 - accuracy: 0.7836 - val_loss: 0.4846 - val_accuracy: 0.7686\n",
      "Epoch 5/20\n",
      "1340/1340 [==============================] - ETA: 0s - loss: 0.4587 - accuracy: 0.7887\n",
      "Epoch 5: val_accuracy improved from 0.76861 to 0.77140, saving model to best_model3.hdf5\n",
      "1340/1340 [==============================] - 72s 54ms/step - loss: 0.4587 - accuracy: 0.7887 - val_loss: 0.4782 - val_accuracy: 0.7714\n",
      "Epoch 6/20\n",
      "1339/1340 [============================>.] - ETA: 0s - loss: 0.4548 - accuracy: 0.7891\n",
      "Epoch 6: val_accuracy improved from 0.77140 to 0.77311, saving model to best_model3.hdf5\n",
      "1340/1340 [==============================] - 80s 60ms/step - loss: 0.4547 - accuracy: 0.7891 - val_loss: 0.4813 - val_accuracy: 0.7731\n",
      "Epoch 7/20\n",
      "1339/1340 [============================>.] - ETA: 0s - loss: 0.4491 - accuracy: 0.7947\n",
      "Epoch 7: val_accuracy did not improve from 0.77311\n",
      "1340/1340 [==============================] - 72s 54ms/step - loss: 0.4492 - accuracy: 0.7946 - val_loss: 0.4740 - val_accuracy: 0.7720\n",
      "Epoch 8/20\n",
      "1339/1340 [============================>.] - ETA: 0s - loss: 0.4468 - accuracy: 0.7940\n",
      "Epoch 8: val_accuracy did not improve from 0.77311\n",
      "1340/1340 [==============================] - 81s 60ms/step - loss: 0.4467 - accuracy: 0.7941 - val_loss: 0.4856 - val_accuracy: 0.7690\n",
      "Epoch 9/20\n",
      "1340/1340 [==============================] - ETA: 0s - loss: 0.4438 - accuracy: 0.7972\n",
      "Epoch 9: val_accuracy improved from 0.77311 to 0.77505, saving model to best_model3.hdf5\n",
      "1340/1340 [==============================] - 73s 55ms/step - loss: 0.4438 - accuracy: 0.7972 - val_loss: 0.4810 - val_accuracy: 0.7750\n",
      "Epoch 10/20\n",
      "1339/1340 [============================>.] - ETA: 0s - loss: 0.4412 - accuracy: 0.7982\n",
      "Epoch 10: val_accuracy improved from 0.77505 to 0.77576, saving model to best_model3.hdf5\n",
      "1340/1340 [==============================] - 81s 60ms/step - loss: 0.4413 - accuracy: 0.7982 - val_loss: 0.4725 - val_accuracy: 0.7758\n",
      "Epoch 11/20\n",
      "1339/1340 [============================>.] - ETA: 0s - loss: 0.4410 - accuracy: 0.8004\n",
      "Epoch 11: val_accuracy improved from 0.77576 to 0.77614, saving model to best_model3.hdf5\n",
      "1340/1340 [==============================] - 81s 60ms/step - loss: 0.4411 - accuracy: 0.8003 - val_loss: 0.4744 - val_accuracy: 0.7761\n",
      "Epoch 12/20\n",
      "1340/1340 [==============================] - ETA: 0s - loss: 0.4387 - accuracy: 0.8007\n",
      "Epoch 12: val_accuracy did not improve from 0.77614\n",
      "1340/1340 [==============================] - 73s 54ms/step - loss: 0.4387 - accuracy: 0.8007 - val_loss: 0.4801 - val_accuracy: 0.7751\n",
      "Epoch 13/20\n",
      "1339/1340 [============================>.] - ETA: 0s - loss: 0.4366 - accuracy: 0.8013\n",
      "Epoch 13: val_accuracy improved from 0.77614 to 0.77623, saving model to best_model3.hdf5\n",
      "1340/1340 [==============================] - 73s 54ms/step - loss: 0.4365 - accuracy: 0.8014 - val_loss: 0.4804 - val_accuracy: 0.7762\n",
      "Epoch 14/20\n",
      "1339/1340 [============================>.] - ETA: 0s - loss: 0.4339 - accuracy: 0.8018\n",
      "Epoch 14: val_accuracy did not improve from 0.77623\n",
      "1340/1340 [==============================] - 81s 60ms/step - loss: 0.4339 - accuracy: 0.8018 - val_loss: 0.4749 - val_accuracy: 0.7760\n",
      "Epoch 15/20\n",
      "1340/1340 [==============================] - ETA: 0s - loss: 0.4333 - accuracy: 0.8035\n",
      "Epoch 15: val_accuracy did not improve from 0.77623\n",
      "1340/1340 [==============================] - 73s 55ms/step - loss: 0.4333 - accuracy: 0.8035 - val_loss: 0.4767 - val_accuracy: 0.7762\n",
      "Epoch 16/20\n",
      "1339/1340 [============================>.] - ETA: 0s - loss: 0.4304 - accuracy: 0.8043\n",
      "Epoch 16: val_accuracy improved from 0.77623 to 0.77741, saving model to best_model3.hdf5\n",
      "1340/1340 [==============================] - 73s 54ms/step - loss: 0.4305 - accuracy: 0.8043 - val_loss: 0.4716 - val_accuracy: 0.7774\n",
      "Epoch 17/20\n",
      "1339/1340 [============================>.] - ETA: 0s - loss: 0.4307 - accuracy: 0.8062\n",
      "Epoch 17: val_accuracy did not improve from 0.77741\n",
      "1340/1340 [==============================] - 73s 54ms/step - loss: 0.4307 - accuracy: 0.8063 - val_loss: 0.4742 - val_accuracy: 0.7772\n",
      "Epoch 18/20\n",
      "1339/1340 [============================>.] - ETA: 0s - loss: 0.4283 - accuracy: 0.8067\n",
      "Epoch 18: val_accuracy did not improve from 0.77741\n",
      "1340/1340 [==============================] - 73s 54ms/step - loss: 0.4282 - accuracy: 0.8067 - val_loss: 0.4839 - val_accuracy: 0.7770\n",
      "Epoch 19/20\n",
      "1339/1340 [============================>.] - ETA: 0s - loss: 0.4267 - accuracy: 0.8081\n",
      "Epoch 19: val_accuracy did not improve from 0.77741\n",
      "1340/1340 [==============================] - 73s 54ms/step - loss: 0.4267 - accuracy: 0.8081 - val_loss: 0.4801 - val_accuracy: 0.7769\n",
      "Epoch 20/20\n",
      "1340/1340 [==============================] - ETA: 0s - loss: 0.4270 - accuracy: 0.8090\n",
      "Epoch 20: val_accuracy did not improve from 0.77741\n",
      "1340/1340 [==============================] - 81s 60ms/step - loss: 0.4270 - accuracy: 0.8090 - val_loss: 0.4756 - val_accuracy: 0.7765\n"
     ]
    }
   ],
   "source": [
    "model3 = Sequential()\n",
    "model3.add(layers.Embedding(max_words, 20,input_length=max_len))\n",
    "model3.add(layers.LSTM(15,dropout=0.5,return_sequences = True))\n",
    "model3.add(layers.LSTM(units = 15,dropout=0.5, return_sequences = True))\n",
    "model3.add(layers.LSTM(units = 15,dropout=0.5, return_sequences = False))\n",
    "model3.add(layers.Dense(2,activation='softmax'))\n",
    "\n",
    "model3.compile(optimizer='rmsprop',loss='binary_crossentropy', metrics=['accuracy'])\n",
    "#Implementing model checkpoins to save the best metric and do not lose it on training.\n",
    "checkpoint1 = ModelCheckpoint(\"best_model3.hdf5\", monitor='val_accuracy', verbose=1,save_best_only=True, mode='auto', period=1,save_weights_only=False)\n",
    "history = model3.fit(X_train, y_train, epochs=20,validation_data=(X_test, y_test),callbacks=[checkpoint1])"
   ]
  },
  {
   "cell_type": "code",
   "execution_count": null,
   "metadata": {
    "colab": {
     "base_uri": "https://localhost:8080/",
     "height": 634
    },
    "id": "qFUgNXgJFgUg",
    "outputId": "7894ace0-2a5c-40d1-ae24-4a6c68167d7d"
   },
   "outputs": [
    {
     "name": "stdout",
     "output_type": "stream",
     "text": [
      "[0.6809002161026001, 0.7629663944244385, 0.7777052521705627, 0.7836287021636963, 0.7887359857559204, 0.7890858054161072, 0.7946361899375916, 0.7940765023231506, 0.7971781492233276, 0.7981576323509216, 0.8003498315811157, 0.8007462620735168, 0.8013759255409241, 0.8017957210540771, 0.8035447597503662, 0.8042677044868469, 0.806273341178894, 0.8066697716712952, 0.8081389665603638, 0.8089552521705627]\n",
      "[0.5875165462493896, 0.5004152655601501, 0.4791983664035797, 0.4678001403808594, 0.4587003290653229, 0.4547082781791687, 0.4492131471633911, 0.44674378633499146, 0.4438111186027527, 0.44129088521003723, 0.4410697817802429, 0.4387434720993042, 0.4365287721157074, 0.4338564872741699, 0.4332836866378784, 0.43049749732017517, 0.43068674206733704, 0.42824405431747437, 0.42670387029647827, 0.4270063638687134]\n",
      "[0.509067714214325, 0.4957297444343567, 0.4849430322647095, 0.4846324622631073, 0.4781562089920044, 0.4813333749771118, 0.4739669859409332, 0.48557114601135254, 0.4810103476047516, 0.47250768542289734, 0.4743969142436981, 0.48006147146224976, 0.4803609549999237, 0.4749199151992798, 0.4766511917114258, 0.47156015038490295, 0.47424787282943726, 0.483930379152298, 0.4801170527935028, 0.4756045341491699]\n",
      "range(1, 21)\n"
     ]
    },
    {
     "data": {
      "image/png": "[encoded data removed]",
      "text/plain": [
       "<Figure size 432x288 with 1 Axes>"
      ]
     },
     "metadata": {
      "needs_background": "light"
     },
     "output_type": "display_data"
    },
    {
     "data": {
      "image/png": "[encoded data removed]",
      "text/plain": [
       "<Figure size 432x288 with 1 Axes>"
      ]
     },
     "metadata": {
      "needs_background": "light"
     },
     "output_type": "display_data"
    }
   ],
   "source": [
    "# plotting the results\n",
    "\n",
    "acc = history.history.get('accuracy')\n",
    "val_acc = history.history.get('val_accuracy')\n",
    "loss = history.history.get('loss')\n",
    "val_loss = history.history.get('val_loss')\n",
    "print(acc)\n",
    "print(loss)\n",
    "print(val_loss)\n",
    "epochs = range(1, 21)\n",
    "print (epochs)\n",
    "\n",
    "plt.plot(epochs, acc, 'b', label='Training Acc')\n",
    "plt.plot(epochs, val_acc, 'g', label='Validation Acc')\n",
    "plt.title('Training and Validation Accuracy')\n",
    "plt.legend()\n",
    "\n",
    "plt.figure()\n",
    "\n",
    "plt.plot(epochs, loss, 'b', label=\"Training Loss\")\n",
    "plt.plot(epochs, val_loss, 'g', label='Validation loss')\n",
    "plt.title('Training and Validation loss')\n",
    "plt.legend()\n",
    "plt.show()"
   ]
  },
  {
   "cell_type": "markdown",
   "metadata": {
    "id": "OuCqZ9CfMi3X"
   },
   "source": [
    "### Model 4: \n",
    "Varying the units in  hidden layers of a triple layered LSTM"
   ]
  },
  {
   "cell_type": "code",
   "execution_count": null,
   "metadata": {
    "colab": {
     "base_uri": "https://localhost:8080/"
    },
    "id": "LaVWRtUQZQuy",
    "outputId": "e69d24b9-379b-4ec3-e730-38b010f71756"
   },
   "outputs": [
    {
     "name": "stdout",
     "output_type": "stream",
     "text": [
      "Epoch 1/20\n",
      "1340/1340 [==============================] - 49s 35ms/step - loss: 0.6023 - accuracy: 0.6767 - val_loss: 0.5255 - val_accuracy: 0.7499\n",
      "Epoch 2/20\n",
      "1340/1340 [==============================] - 46s 35ms/step - loss: 0.5095 - accuracy: 0.7602 - val_loss: 0.4989 - val_accuracy: 0.7647\n",
      "Epoch 3/20\n",
      "1340/1340 [==============================] - 44s 32ms/step - loss: 0.4863 - accuracy: 0.7746 - val_loss: 0.4933 - val_accuracy: 0.7665\n",
      "Epoch 4/20\n",
      "1340/1340 [==============================] - 46s 35ms/step - loss: 0.4741 - accuracy: 0.7833 - val_loss: 0.4958 - val_accuracy: 0.7658\n",
      "Epoch 5/20\n",
      "1340/1340 [==============================] - 44s 33ms/step - loss: 0.4688 - accuracy: 0.7859 - val_loss: 0.4942 - val_accuracy: 0.7681\n",
      "Epoch 6/20\n",
      "1340/1340 [==============================] - 44s 33ms/step - loss: 0.4618 - accuracy: 0.7888 - val_loss: 0.4849 - val_accuracy: 0.7711\n",
      "Epoch 7/20\n",
      "1340/1340 [==============================] - 44s 33ms/step - loss: 0.4567 - accuracy: 0.7906 - val_loss: 0.4804 - val_accuracy: 0.7713\n",
      "Epoch 8/20\n",
      "1340/1340 [==============================] - 47s 35ms/step - loss: 0.4544 - accuracy: 0.7935 - val_loss: 0.4828 - val_accuracy: 0.7733\n",
      "Epoch 9/20\n",
      "1340/1340 [==============================] - 44s 33ms/step - loss: 0.4525 - accuracy: 0.7914 - val_loss: 0.4837 - val_accuracy: 0.7723\n",
      "Epoch 10/20\n",
      "1340/1340 [==============================] - 46s 35ms/step - loss: 0.4484 - accuracy: 0.7938 - val_loss: 0.4837 - val_accuracy: 0.7742\n",
      "Epoch 11/20\n",
      "1340/1340 [==============================] - 43s 32ms/step - loss: 0.4449 - accuracy: 0.7980 - val_loss: 0.4837 - val_accuracy: 0.7747\n",
      "Epoch 12/20\n",
      "1340/1340 [==============================] - 44s 33ms/step - loss: 0.4434 - accuracy: 0.7986 - val_loss: 0.4797 - val_accuracy: 0.7747\n",
      "Epoch 13/20\n",
      "1340/1340 [==============================] - 44s 32ms/step - loss: 0.4438 - accuracy: 0.7974 - val_loss: 0.4841 - val_accuracy: 0.7741\n",
      "Epoch 14/20\n",
      "1340/1340 [==============================] - 43s 32ms/step - loss: 0.4395 - accuracy: 0.8023 - val_loss: 0.4773 - val_accuracy: 0.7757\n",
      "Epoch 15/20\n",
      "1340/1340 [==============================] - 46s 35ms/step - loss: 0.4390 - accuracy: 0.8000 - val_loss: 0.5012 - val_accuracy: 0.7729\n",
      "Epoch 16/20\n",
      "1340/1340 [==============================] - 44s 33ms/step - loss: 0.4373 - accuracy: 0.8015 - val_loss: 0.4897 - val_accuracy: 0.7737\n",
      "Epoch 17/20\n",
      "1340/1340 [==============================] - 43s 32ms/step - loss: 0.4368 - accuracy: 0.8010 - val_loss: 0.4829 - val_accuracy: 0.7739\n",
      "Epoch 18/20\n",
      "1340/1340 [==============================] - 46s 35ms/step - loss: 0.4332 - accuracy: 0.8053 - val_loss: 0.4898 - val_accuracy: 0.7735\n",
      "Epoch 19/20\n",
      "1340/1340 [==============================] - 43s 32ms/step - loss: 0.4329 - accuracy: 0.8049 - val_loss: 0.4827 - val_accuracy: 0.7743\n",
      "Epoch 20/20\n",
      "1340/1340 [==============================] - 46s 35ms/step - loss: 0.4327 - accuracy: 0.8049 - val_loss: 0.4860 - val_accuracy: 0.7746\n",
      "Epoch 1/20\n",
      "1340/1340 [==============================] - 51s 37ms/step - loss: 0.5779 - accuracy: 0.6896 - val_loss: 0.5041 - val_accuracy: 0.7544\n",
      "Epoch 2/20\n",
      "1340/1340 [==============================] - 48s 36ms/step - loss: 0.4914 - accuracy: 0.7669 - val_loss: 0.4912 - val_accuracy: 0.7630\n",
      "Epoch 3/20\n",
      "1340/1340 [==============================] - 51s 38ms/step - loss: 0.4734 - accuracy: 0.7805 - val_loss: 0.4823 - val_accuracy: 0.7686\n",
      "Epoch 4/20\n",
      "1340/1340 [==============================] - 49s 36ms/step - loss: 0.4639 - accuracy: 0.7850 - val_loss: 0.4835 - val_accuracy: 0.7713\n",
      "Epoch 5/20\n",
      "1340/1340 [==============================] - 51s 38ms/step - loss: 0.4569 - accuracy: 0.7887 - val_loss: 0.4890 - val_accuracy: 0.7698\n",
      "Epoch 6/20\n",
      "1340/1340 [==============================] - 51s 38ms/step - loss: 0.4522 - accuracy: 0.7914 - val_loss: 0.4847 - val_accuracy: 0.7712\n",
      "Epoch 7/20\n",
      "1340/1340 [==============================] - 49s 37ms/step - loss: 0.4479 - accuracy: 0.7933 - val_loss: 0.4789 - val_accuracy: 0.7719\n",
      "Epoch 8/20\n",
      "1340/1340 [==============================] - 51s 38ms/step - loss: 0.4453 - accuracy: 0.7948 - val_loss: 0.4884 - val_accuracy: 0.7720\n",
      "Epoch 9/20\n",
      "1340/1340 [==============================] - 49s 37ms/step - loss: 0.4436 - accuracy: 0.7947 - val_loss: 0.4763 - val_accuracy: 0.7750\n",
      "Epoch 10/20\n",
      "1340/1340 [==============================] - 51s 38ms/step - loss: 0.4409 - accuracy: 0.7969 - val_loss: 0.4785 - val_accuracy: 0.7752\n",
      "Epoch 11/20\n",
      "1340/1340 [==============================] - 50s 37ms/step - loss: 0.4391 - accuracy: 0.7992 - val_loss: 0.4767 - val_accuracy: 0.7744\n",
      "Epoch 12/20\n",
      "1340/1340 [==============================] - 50s 37ms/step - loss: 0.4353 - accuracy: 0.8003 - val_loss: 0.4742 - val_accuracy: 0.7758\n",
      "Epoch 13/20\n",
      "1340/1340 [==============================] - 51s 38ms/step - loss: 0.4335 - accuracy: 0.8015 - val_loss: 0.4755 - val_accuracy: 0.7753\n",
      "Epoch 14/20\n",
      "1340/1340 [==============================] - 52s 39ms/step - loss: 0.4329 - accuracy: 0.8026 - val_loss: 0.4763 - val_accuracy: 0.7759\n",
      "Epoch 15/20\n",
      "1340/1340 [==============================] - 51s 38ms/step - loss: 0.4318 - accuracy: 0.8044 - val_loss: 0.4727 - val_accuracy: 0.7755\n",
      "Epoch 16/20\n",
      "1340/1340 [==============================] - 52s 39ms/step - loss: 0.4306 - accuracy: 0.8039 - val_loss: 0.4796 - val_accuracy: 0.7769\n",
      "Epoch 17/20\n",
      "1340/1340 [==============================] - 52s 39ms/step - loss: 0.4303 - accuracy: 0.8030 - val_loss: 0.4788 - val_accuracy: 0.7759\n",
      "Epoch 18/20\n",
      "1340/1340 [==============================] - 52s 39ms/step - loss: 0.4269 - accuracy: 0.8063 - val_loss: 0.4777 - val_accuracy: 0.7765\n",
      "Epoch 19/20\n",
      "1340/1340 [==============================] - 52s 39ms/step - loss: 0.4274 - accuracy: 0.8067 - val_loss: 0.4836 - val_accuracy: 0.7766\n",
      "Epoch 20/20\n",
      "1340/1340 [==============================] - 51s 38ms/step - loss: 0.4255 - accuracy: 0.8081 - val_loss: 0.4806 - val_accuracy: 0.7761\n",
      "Epoch 1/20\n",
      "1340/1340 [==============================] - 53s 38ms/step - loss: 0.5665 - accuracy: 0.7034 - val_loss: 0.4997 - val_accuracy: 0.7624\n",
      "Epoch 2/20\n",
      "1340/1340 [==============================] - 51s 38ms/step - loss: 0.4844 - accuracy: 0.7712 - val_loss: 0.4893 - val_accuracy: 0.7651\n",
      "Epoch 3/20\n",
      "1340/1340 [==============================] - 49s 36ms/step - loss: 0.4694 - accuracy: 0.7798 - val_loss: 0.4886 - val_accuracy: 0.7686\n",
      "Epoch 4/20\n",
      "1340/1340 [==============================] - 48s 36ms/step - loss: 0.4618 - accuracy: 0.7840 - val_loss: 0.4840 - val_accuracy: 0.7692\n",
      "Epoch 5/20\n",
      "1340/1340 [==============================] - 48s 36ms/step - loss: 0.4559 - accuracy: 0.7877 - val_loss: 0.4794 - val_accuracy: 0.7702\n",
      "Epoch 6/20\n",
      "1340/1340 [==============================] - 49s 36ms/step - loss: 0.4498 - accuracy: 0.7932 - val_loss: 0.4757 - val_accuracy: 0.7708\n",
      "Epoch 7/20\n",
      "1340/1340 [==============================] - 49s 36ms/step - loss: 0.4470 - accuracy: 0.7941 - val_loss: 0.4765 - val_accuracy: 0.7742\n",
      "Epoch 8/20\n",
      "1340/1340 [==============================] - 51s 38ms/step - loss: 0.4409 - accuracy: 0.7973 - val_loss: 0.4777 - val_accuracy: 0.7721\n",
      "Epoch 9/20\n",
      "1340/1340 [==============================] - 49s 37ms/step - loss: 0.4386 - accuracy: 0.7994 - val_loss: 0.4744 - val_accuracy: 0.7773\n",
      "Epoch 10/20\n",
      "1340/1340 [==============================] - 51s 38ms/step - loss: 0.4376 - accuracy: 0.7988 - val_loss: 0.4744 - val_accuracy: 0.7757\n",
      "Epoch 11/20\n",
      "1340/1340 [==============================] - 51s 38ms/step - loss: 0.4339 - accuracy: 0.8024 - val_loss: 0.4752 - val_accuracy: 0.7759\n",
      "Epoch 12/20\n",
      "1340/1340 [==============================] - 51s 38ms/step - loss: 0.4319 - accuracy: 0.8025 - val_loss: 0.4762 - val_accuracy: 0.7767\n",
      "Epoch 13/20\n",
      "1340/1340 [==============================] - 50s 37ms/step - loss: 0.4279 - accuracy: 0.8061 - val_loss: 0.4825 - val_accuracy: 0.7752\n",
      "Epoch 14/20\n",
      "1340/1340 [==============================] - 50s 37ms/step - loss: 0.4257 - accuracy: 0.8064 - val_loss: 0.4705 - val_accuracy: 0.7780\n",
      "Epoch 15/20\n",
      "1340/1340 [==============================] - 52s 39ms/step - loss: 0.4228 - accuracy: 0.8092 - val_loss: 0.4692 - val_accuracy: 0.7789\n",
      "Epoch 16/20\n",
      "1340/1340 [==============================] - 52s 39ms/step - loss: 0.4239 - accuracy: 0.8086 - val_loss: 0.4776 - val_accuracy: 0.7772\n",
      "Epoch 17/20\n",
      "1340/1340 [==============================] - 53s 40ms/step - loss: 0.4202 - accuracy: 0.8098 - val_loss: 0.4738 - val_accuracy: 0.7768\n",
      "Epoch 18/20\n",
      "1340/1340 [==============================] - 53s 40ms/step - loss: 0.4206 - accuracy: 0.8103 - val_loss: 0.4779 - val_accuracy: 0.7765\n",
      "Epoch 19/20\n",
      "1340/1340 [==============================] - 54s 40ms/step - loss: 0.4189 - accuracy: 0.8094 - val_loss: 0.4733 - val_accuracy: 0.7787\n",
      "Epoch 20/20\n",
      "1340/1340 [==============================] - 54s 40ms/step - loss: 0.4167 - accuracy: 0.8118 - val_loss: 0.4701 - val_accuracy: 0.7770\n"
     ]
    }
   ],
   "source": [
    "history_data = []\n",
    "\n",
    "neurons = [5,15,25]\n",
    "for i in neurons:\n",
    "  model4 = Sequential()\n",
    "  model4.add(layers.Embedding(max_words, 20,input_length=max_len))\n",
    "  model4.add(layers.LSTM(i,dropout=0.5,return_sequences = True))\n",
    "  model4.add(layers.LSTM(units = i,dropout=0.5, return_sequences = False))\n",
    "  model4.add(layers.Dense(2,activation='softmax'))\n",
    "  model4.compile(optimizer='rmsprop',loss='binary_crossentropy', metrics=['accuracy'])\n",
    "  #Implementing model checkpoins to save the best metric and do not lose it on training.\n",
    "  #checkpoint1 = ModelCheckpoint(\"best_model4.hdf5\", monitor='val_accuracy', verbose=1,save_best_only=True, mode='auto', period=1,save_weights_only=False)\n",
    "  history = model4.fit(X_train, y_train, epochs=20,validation_data=(X_test, y_test))\n",
    "  history_data.append(history)"
   ]
  },
  {
   "cell_type": "code",
   "execution_count": null,
   "metadata": {
    "colab": {
     "base_uri": "https://localhost:8080/",
     "height": 1000
    },
    "id": "61xMYh8LDHOa",
    "outputId": "80d3108b-a821-4387-ff27-fe57c1636650"
   },
   "outputs": [
    {
     "name": "stdout",
     "output_type": "stream",
     "text": [
      "[0.6766790747642517, 0.7601912021636963, 0.7746268510818481, 0.7833255529403687, 0.7858675122261047, 0.7887593507766724, 0.7906249761581421, 0.7935401201248169, 0.7914178967475891, 0.7937732934951782, 0.798041045665741, 0.7985774278640747, 0.7973647117614746, 0.8023087978363037, 0.7999767065048218, 0.8014692068099976, 0.8010494112968445, 0.8052938580513, 0.804874062538147, 0.8049207329750061]\n",
      "[0.6022629737854004, 0.5095149278640747, 0.48628726601600647, 0.47411832213401794, 0.4688059687614441, 0.4618012309074402, 0.45669713616371155, 0.45435017347335815, 0.4524983763694763, 0.4484226107597351, 0.4449140429496765, 0.44343626499176025, 0.4438243806362152, 0.4394853711128235, 0.43899860978126526, 0.4372538924217224, 0.43683862686157227, 0.4332083761692047, 0.4328806400299072, 0.43271365761756897]\n",
      "[0.5255181193351746, 0.4989033639431, 0.4932955205440521, 0.4957827925682068, 0.4942387342453003, 0.48489657044410706, 0.4803609251976013, 0.4827868342399597, 0.4837062954902649, 0.4837028682231903, 0.48372790217399597, 0.47967293858528137, 0.4841078221797943, 0.4773027300834656, 0.5011937618255615, 0.48965296149253845, 0.4828713536262512, 0.4898305833339691, 0.48270800709724426, 0.48601341247558594]\n",
      "range(1, 21)\n"
     ]
    },
    {
     "data": {
      "image/png": "[encoded data removed]",
      "text/plain": [
       "<Figure size 432x288 with 1 Axes>"
      ]
     },
     "metadata": {
      "needs_background": "light"
     },
     "output_type": "display_data"
    },
    {
     "data": {
      "image/png": "[encoded data removed]",
      "text/plain": [
       "<Figure size 432x288 with 1 Axes>"
      ]
     },
     "metadata": {
      "needs_background": "light"
     },
     "output_type": "display_data"
    },
    {
     "name": "stdout",
     "output_type": "stream",
     "text": [
      "[0.6896222233772278, 0.7668610215187073, 0.780457079410553, 0.784958004951477, 0.7886660695075989, 0.7913945913314819, 0.7933068871498108, 0.7947527766227722, 0.7946828603744507, 0.7969449758529663, 0.7992070913314819, 0.8002798557281494, 0.8015158772468567, 0.8026352524757385, 0.8043609857559204, 0.803894579410553, 0.8030317425727844, 0.8063432574272156, 0.8067164421081543, 0.8081156611442566]\n",
      "[0.5778828859329224, 0.49142885208129883, 0.4733632206916809, 0.4638881981372833, 0.4569055736064911, 0.45223763585090637, 0.44794848561286926, 0.4452732503414154, 0.4436219036579132, 0.4409261643886566, 0.4391384720802307, 0.4353172779083252, 0.4334569573402405, 0.43294626474380493, 0.43175607919692993, 0.4305844008922577, 0.43033215403556824, 0.42692747712135315, 0.4273897111415863, 0.42551159858703613]\n",
      "[0.5041282773017883, 0.4912038743495941, 0.48227062821388245, 0.48352929949760437, 0.4889722764492035, 0.4846709370613098, 0.4789196252822876, 0.488393098115921, 0.47629716992378235, 0.47849658131599426, 0.4766983389854431, 0.4741598963737488, 0.47550830245018005, 0.4763428270816803, 0.47268351912498474, 0.47956913709640503, 0.4788050353527069, 0.47772419452667236, 0.48362061381340027, 0.48055610060691833]\n",
      "range(1, 21)\n"
     ]
    },
    {
     "data": {
      "image/png": "[encoded data removed]",
      "text/plain": [
       "<Figure size 432x288 with 1 Axes>"
      ]
     },
     "metadata": {
      "needs_background": "light"
     },
     "output_type": "display_data"
    },
    {
     "data": {
      "image/png": "[encoded data removed]",
      "text/plain": [
       "<Figure size 432x288 with 1 Axes>"
      ]
     },
     "metadata": {
      "needs_background": "light"
     },
     "output_type": "display_data"
    },
    {
     "name": "stdout",
     "output_type": "stream",
     "text": [
      "[0.7033815383911133, 0.7712219953536987, 0.7798274159431458, 0.7840484976768494, 0.7876632213592529, 0.793166995048523, 0.7940765023231506, 0.7973181009292603, 0.7994169592857361, 0.7988106608390808, 0.8024020791053772, 0.802541971206665, 0.8061100840568542, 0.8064132332801819, 0.8091651201248169, 0.808582067489624, 0.8097947835922241, 0.8103078603744507, 0.8094449639320374, 0.8118470311164856]\n",
      "[0.566540002822876, 0.48443499207496643, 0.46936851739883423, 0.46177372336387634, 0.4558647871017456, 0.4497823119163513, 0.446985125541687, 0.4408836364746094, 0.43860262632369995, 0.4375961422920227, 0.43387454748153687, 0.43189793825149536, 0.4279218912124634, 0.42570409178733826, 0.42278769612312317, 0.4238831400871277, 0.42023611068725586, 0.42062851786613464, 0.4188777208328247, 0.4167466461658478]\n",
      "[0.4996700882911682, 0.48931702971458435, 0.4885924756526947, 0.4839823544025421, 0.47941750288009644, 0.47574716806411743, 0.47652938961982727, 0.4776866137981415, 0.47444766759872437, 0.47440773248672485, 0.47522374987602234, 0.47619494795799255, 0.4825167953968048, 0.47045624256134033, 0.4692073464393616, 0.4776161015033722, 0.47380560636520386, 0.4779204726219177, 0.4732523560523987, 0.47005271911621094]\n",
      "range(1, 21)\n"
     ]
    },
    {
     "data": {
      "image/png": "[encoded data removed]",
      "text/plain": [
       "<Figure size 432x288 with 1 Axes>"
      ]
     },
     "metadata": {
      "needs_background": "light"
     },
     "output_type": "display_data"
    },
    {
     "data": {
      "image/png": "[encoded data removed]",
      "text/plain": [
       "<Figure size 432x288 with 1 Axes>"
      ]
     },
     "metadata": {
      "needs_background": "light"
     },
     "output_type": "display_data"
    }
   ],
   "source": [
    "# plotting the results\n",
    "for history in history_data:\n",
    "  acc = history.history.get('accuracy')\n",
    "  val_acc = history.history.get('val_accuracy')\n",
    "  loss = history.history.get('loss')\n",
    "  val_loss = history.history.get('val_loss')\n",
    "  print(acc)\n",
    "  print(loss)\n",
    "  print(val_loss)\n",
    "  epochs = range(1, 21)\n",
    "  print (epochs)\n",
    "\n",
    "  plt.plot(epochs, acc, 'b', label='Training Acc')\n",
    "  plt.plot(epochs, val_acc, 'g', label='Validation Acc')\n",
    "  plt.title('Training and Validation Accuracy')\n",
    "  plt.legend()\n",
    "\n",
    "  plt.figure()\n",
    "\n",
    "  plt.plot(epochs, loss, 'b', label=\"Training Loss\")\n",
    "  plt.plot(epochs, val_loss, 'g', label='Validation loss')\n",
    "  plt.title('Training and Validatioyn loss')\n",
    "  plt.legend()\n",
    "  plt.show()"
   ]
  },
  {
   "cell_type": "markdown",
   "metadata": {
    "id": "mcTxtYi847rZ"
   },
   "source": [
    "### Testing if double descent occurs by increasing in number of epochs \n",
    "We have tested by training models with more complexity by increasing number of layers to try and see double descent now let us try out and see if we can observe a double descent with the increase in number of epochs.\n",
    "A single Layer LSTM (Testing with 200 epoches to try and observe if there is double descent when number of epoches are increased)"
   ]
  },
  {
   "cell_type": "code",
   "execution_count": null,
   "metadata": {
    "colab": {
     "base_uri": "https://localhost:8080/"
    },
    "id": "nlNjq3IB5HbA",
    "outputId": "c02a0214-f401-4733-bcb3-734ee0bf3b58"
   },
   "outputs": [
    {
     "name": "stdout",
     "output_type": "stream",
     "text": [
      "WARNING:tensorflow:`period` argument is deprecated. Please use `save_freq` to specify the frequency in number of batches seen.\n"
     ]
    },
    {
     "name": "stderr",
     "output_type": "stream",
     "text": [
      "WARNING:tensorflow:`period` argument is deprecated. Please use `save_freq` to specify the frequency in number of batches seen.\n"
     ]
    },
    {
     "name": "stdout",
     "output_type": "stream",
     "text": [
      "Epoch 1/125\n",
      "1338/1340 [============================>.] - ETA: 0s - loss: 0.5626 - accuracy: 0.7060\n",
      "Epoch 1: val_accuracy improved from -inf to 0.76373, saving model to best_model1.hdf5\n",
      "1340/1340 [==============================] - 26s 18ms/step - loss: 0.5627 - accuracy: 0.7060 - val_loss: 0.4987 - val_accuracy: 0.7637\n",
      "Epoch 2/125\n",
      "1338/1340 [============================>.] - ETA: 0s - loss: 0.4831 - accuracy: 0.7711\n",
      "Epoch 2: val_accuracy improved from 0.76373 to 0.76738, saving model to best_model1.hdf5\n",
      "1340/1340 [==============================] - 25s 19ms/step - loss: 0.4832 - accuracy: 0.7711 - val_loss: 0.4874 - val_accuracy: 0.7674\n",
      "Epoch 3/125\n",
      "1339/1340 [============================>.] - ETA: 0s - loss: 0.4663 - accuracy: 0.7795\n",
      "Epoch 3: val_accuracy improved from 0.76738 to 0.76875, saving model to best_model1.hdf5\n",
      "1340/1340 [==============================] - 25s 18ms/step - loss: 0.4663 - accuracy: 0.7794 - val_loss: 0.4824 - val_accuracy: 0.7688\n",
      "Epoch 4/125\n",
      "1337/1340 [============================>.] - ETA: 0s - loss: 0.4575 - accuracy: 0.7862\n",
      "Epoch 4: val_accuracy improved from 0.76875 to 0.76984, saving model to best_model1.hdf5\n",
      "1340/1340 [==============================] - 26s 19ms/step - loss: 0.4575 - accuracy: 0.7862 - val_loss: 0.4769 - val_accuracy: 0.7698\n",
      "Epoch 5/125\n",
      "1337/1340 [============================>.] - ETA: 0s - loss: 0.4519 - accuracy: 0.7898\n",
      "Epoch 5: val_accuracy improved from 0.76984 to 0.77410, saving model to best_model1.hdf5\n",
      "1340/1340 [==============================] - 26s 19ms/step - loss: 0.4519 - accuracy: 0.7897 - val_loss: 0.4753 - val_accuracy: 0.7741\n",
      "Epoch 6/125\n",
      "1338/1340 [============================>.] - ETA: 0s - loss: 0.4476 - accuracy: 0.7920\n",
      "Epoch 6: val_accuracy did not improve from 0.77410\n",
      "1340/1340 [==============================] - 25s 19ms/step - loss: 0.4474 - accuracy: 0.7920 - val_loss: 0.4740 - val_accuracy: 0.7723\n",
      "Epoch 7/125\n",
      "1339/1340 [============================>.] - ETA: 0s - loss: 0.4436 - accuracy: 0.7944\n",
      "Epoch 7: val_accuracy improved from 0.77410 to 0.77420, saving model to best_model1.hdf5\n",
      "1340/1340 [==============================] - 25s 19ms/step - loss: 0.4436 - accuracy: 0.7944 - val_loss: 0.4739 - val_accuracy: 0.7742\n",
      "Epoch 8/125\n",
      "1340/1340 [==============================] - ETA: 0s - loss: 0.4398 - accuracy: 0.7976\n",
      "Epoch 8: val_accuracy did not improve from 0.77420\n",
      "1340/1340 [==============================] - 25s 19ms/step - loss: 0.4398 - accuracy: 0.7976 - val_loss: 0.4785 - val_accuracy: 0.7713\n",
      "Epoch 9/125\n",
      "1337/1340 [============================>.] - ETA: 0s - loss: 0.4374 - accuracy: 0.7969\n",
      "Epoch 9: val_accuracy did not improve from 0.77420\n",
      "1340/1340 [==============================] - 26s 19ms/step - loss: 0.4375 - accuracy: 0.7969 - val_loss: 0.4729 - val_accuracy: 0.7725\n",
      "Epoch 10/125\n",
      "1337/1340 [============================>.] - ETA: 0s - loss: 0.4353 - accuracy: 0.7983\n",
      "Epoch 10: val_accuracy improved from 0.77420 to 0.77457, saving model to best_model1.hdf5\n",
      "1340/1340 [==============================] - 26s 20ms/step - loss: 0.4354 - accuracy: 0.7983 - val_loss: 0.4729 - val_accuracy: 0.7746\n",
      "Epoch 11/125\n",
      "1338/1340 [============================>.] - ETA: 0s - loss: 0.4325 - accuracy: 0.8015\n",
      "Epoch 11: val_accuracy did not improve from 0.77457\n",
      "1340/1340 [==============================] - 26s 19ms/step - loss: 0.4325 - accuracy: 0.8016 - val_loss: 0.4786 - val_accuracy: 0.7736\n",
      "Epoch 12/125\n",
      "1338/1340 [============================>.] - ETA: 0s - loss: 0.4323 - accuracy: 0.7998\n",
      "Epoch 12: val_accuracy improved from 0.77457 to 0.77533, saving model to best_model1.hdf5\n",
      "1340/1340 [==============================] - 27s 20ms/step - loss: 0.4323 - accuracy: 0.7997 - val_loss: 0.4730 - val_accuracy: 0.7753\n",
      "Epoch 13/125\n",
      "1340/1340 [==============================] - ETA: 0s - loss: 0.4277 - accuracy: 0.8045\n",
      "Epoch 13: val_accuracy did not improve from 0.77533\n",
      "1340/1340 [==============================] - 26s 20ms/step - loss: 0.4277 - accuracy: 0.8045 - val_loss: 0.4798 - val_accuracy: 0.7748\n",
      "Epoch 14/125\n",
      "1337/1340 [============================>.] - ETA: 0s - loss: 0.4262 - accuracy: 0.8047\n",
      "Epoch 14: val_accuracy did not improve from 0.77533\n",
      "1340/1340 [==============================] - 27s 20ms/step - loss: 0.4263 - accuracy: 0.8047 - val_loss: 0.4722 - val_accuracy: 0.7746\n",
      "Epoch 15/125\n",
      "1339/1340 [============================>.] - ETA: 0s - loss: 0.4253 - accuracy: 0.8055\n",
      "Epoch 15: val_accuracy did not improve from 0.77533\n",
      "1340/1340 [==============================] - 27s 20ms/step - loss: 0.4254 - accuracy: 0.8055 - val_loss: 0.4791 - val_accuracy: 0.7748\n",
      "Epoch 16/125\n",
      "1338/1340 [============================>.] - ETA: 0s - loss: 0.4227 - accuracy: 0.8079\n",
      "Epoch 16: val_accuracy improved from 0.77533 to 0.77580, saving model to best_model1.hdf5\n",
      "1340/1340 [==============================] - 27s 20ms/step - loss: 0.4228 - accuracy: 0.8078 - val_loss: 0.4766 - val_accuracy: 0.7758\n",
      "Epoch 17/125\n",
      "1337/1340 [============================>.] - ETA: 0s - loss: 0.4225 - accuracy: 0.8072\n",
      "Epoch 17: val_accuracy improved from 0.77580 to 0.77618, saving model to best_model1.hdf5\n",
      "1340/1340 [==============================] - 27s 20ms/step - loss: 0.4224 - accuracy: 0.8073 - val_loss: 0.4776 - val_accuracy: 0.7762\n",
      "Epoch 18/125\n",
      "1338/1340 [============================>.] - ETA: 0s - loss: 0.4209 - accuracy: 0.8078\n",
      "Epoch 18: val_accuracy did not improve from 0.77618\n",
      "1340/1340 [==============================] - 27s 20ms/step - loss: 0.4210 - accuracy: 0.8077 - val_loss: 0.4786 - val_accuracy: 0.7752\n",
      "Epoch 19/125\n",
      "1340/1340 [==============================] - ETA: 0s - loss: 0.4208 - accuracy: 0.8082\n",
      "Epoch 19: val_accuracy did not improve from 0.77618\n",
      "1340/1340 [==============================] - 27s 20ms/step - loss: 0.4208 - accuracy: 0.8082 - val_loss: 0.4747 - val_accuracy: 0.7754\n",
      "Epoch 20/125\n",
      "1337/1340 [============================>.] - ETA: 0s - loss: 0.4182 - accuracy: 0.8097\n",
      "Epoch 20: val_accuracy did not improve from 0.77618\n",
      "1340/1340 [==============================] - 27s 20ms/step - loss: 0.4183 - accuracy: 0.8098 - val_loss: 0.4768 - val_accuracy: 0.7759\n",
      "Epoch 21/125\n",
      "1340/1340 [==============================] - ETA: 0s - loss: 0.4174 - accuracy: 0.8106\n",
      "Epoch 21: val_accuracy improved from 0.77618 to 0.77647, saving model to best_model1.hdf5\n",
      "1340/1340 [==============================] - 27s 20ms/step - loss: 0.4174 - accuracy: 0.8106 - val_loss: 0.4778 - val_accuracy: 0.7765\n",
      "Epoch 22/125\n",
      "1339/1340 [============================>.] - ETA: 0s - loss: 0.4175 - accuracy: 0.8123\n",
      "Epoch 22: val_accuracy improved from 0.77647 to 0.77737, saving model to best_model1.hdf5\n",
      "1340/1340 [==============================] - 27s 20ms/step - loss: 0.4174 - accuracy: 0.8123 - val_loss: 0.4746 - val_accuracy: 0.7774\n",
      "Epoch 23/125\n",
      "1339/1340 [============================>.] - ETA: 0s - loss: 0.4159 - accuracy: 0.8117\n",
      "Epoch 23: val_accuracy did not improve from 0.77737\n",
      "1340/1340 [==============================] - 27s 20ms/step - loss: 0.4158 - accuracy: 0.8117 - val_loss: 0.4823 - val_accuracy: 0.7741\n",
      "Epoch 24/125\n",
      "1339/1340 [============================>.] - ETA: 0s - loss: 0.4122 - accuracy: 0.8142\n",
      "Epoch 24: val_accuracy did not improve from 0.77737\n",
      "1340/1340 [==============================] - 27s 20ms/step - loss: 0.4122 - accuracy: 0.8142 - val_loss: 0.4747 - val_accuracy: 0.7744\n",
      "Epoch 25/125\n",
      "1338/1340 [============================>.] - ETA: 0s - loss: 0.4148 - accuracy: 0.8140\n",
      "Epoch 25: val_accuracy did not improve from 0.77737\n",
      "1340/1340 [==============================] - 27s 20ms/step - loss: 0.4149 - accuracy: 0.8139 - val_loss: 0.4768 - val_accuracy: 0.7755\n",
      "Epoch 26/125\n",
      "1339/1340 [============================>.] - ETA: 0s - loss: 0.4133 - accuracy: 0.8144\n",
      "Epoch 26: val_accuracy did not improve from 0.77737\n",
      "1340/1340 [==============================] - 27s 20ms/step - loss: 0.4132 - accuracy: 0.8144 - val_loss: 0.4741 - val_accuracy: 0.7759\n",
      "Epoch 27/125\n",
      "1339/1340 [============================>.] - ETA: 0s - loss: 0.4121 - accuracy: 0.8141\n",
      "Epoch 27: val_accuracy did not improve from 0.77737\n",
      "1340/1340 [==============================] - 27s 20ms/step - loss: 0.4120 - accuracy: 0.8142 - val_loss: 0.4817 - val_accuracy: 0.7756\n",
      "Epoch 28/125\n",
      "1339/1340 [============================>.] - ETA: 0s - loss: 0.4105 - accuracy: 0.8150\n",
      "Epoch 28: val_accuracy did not improve from 0.77737\n",
      "1340/1340 [==============================] - 27s 20ms/step - loss: 0.4105 - accuracy: 0.8149 - val_loss: 0.4769 - val_accuracy: 0.7753\n",
      "Epoch 29/125\n",
      "1338/1340 [============================>.] - ETA: 0s - loss: 0.4107 - accuracy: 0.8155\n",
      "Epoch 29: val_accuracy did not improve from 0.77737\n",
      "1340/1340 [==============================] - 27s 20ms/step - loss: 0.4107 - accuracy: 0.8156 - val_loss: 0.4863 - val_accuracy: 0.7740\n",
      "Epoch 30/125\n",
      "1340/1340 [==============================] - ETA: 0s - loss: 0.4099 - accuracy: 0.8166\n",
      "Epoch 30: val_accuracy did not improve from 0.77737\n",
      "1340/1340 [==============================] - 27s 20ms/step - loss: 0.4099 - accuracy: 0.8166 - val_loss: 0.4746 - val_accuracy: 0.7763\n",
      "Epoch 31/125\n",
      "1339/1340 [============================>.] - ETA: 0s - loss: 0.4090 - accuracy: 0.8164\n",
      "Epoch 31: val_accuracy did not improve from 0.77737\n",
      "1340/1340 [==============================] - 27s 20ms/step - loss: 0.4091 - accuracy: 0.8163 - val_loss: 0.4736 - val_accuracy: 0.7743\n",
      "Epoch 32/125\n",
      "1339/1340 [============================>.] - ETA: 0s - loss: 0.4075 - accuracy: 0.8168\n",
      "Epoch 32: val_accuracy did not improve from 0.77737\n",
      "1340/1340 [==============================] - 27s 20ms/step - loss: 0.4075 - accuracy: 0.8168 - val_loss: 0.4716 - val_accuracy: 0.7746\n",
      "Epoch 33/125\n",
      "1338/1340 [============================>.] - ETA: 0s - loss: 0.4070 - accuracy: 0.8171\n",
      "Epoch 33: val_accuracy did not improve from 0.77737\n",
      "1340/1340 [==============================] - 27s 20ms/step - loss: 0.4071 - accuracy: 0.8171 - val_loss: 0.4809 - val_accuracy: 0.7749\n",
      "Epoch 34/125\n",
      "1339/1340 [============================>.] - ETA: 0s - loss: 0.4058 - accuracy: 0.8193\n",
      "Epoch 34: val_accuracy did not improve from 0.77737\n",
      "1340/1340 [==============================] - 27s 20ms/step - loss: 0.4058 - accuracy: 0.8193 - val_loss: 0.4774 - val_accuracy: 0.7745\n",
      "Epoch 35/125\n",
      "1338/1340 [============================>.] - ETA: 0s - loss: 0.4047 - accuracy: 0.8201\n",
      "Epoch 35: val_accuracy did not improve from 0.77737\n",
      "1340/1340 [==============================] - 27s 20ms/step - loss: 0.4047 - accuracy: 0.8202 - val_loss: 0.4797 - val_accuracy: 0.7749\n",
      "Epoch 36/125\n",
      "1338/1340 [============================>.] - ETA: 0s - loss: 0.4043 - accuracy: 0.8200\n",
      "Epoch 36: val_accuracy did not improve from 0.77737\n",
      "1340/1340 [==============================] - 27s 20ms/step - loss: 0.4044 - accuracy: 0.8199 - val_loss: 0.4758 - val_accuracy: 0.7755\n",
      "Epoch 37/125\n",
      "1338/1340 [============================>.] - ETA: 0s - loss: 0.4047 - accuracy: 0.8185\n",
      "Epoch 37: val_accuracy did not improve from 0.77737\n",
      "1340/1340 [==============================] - 27s 20ms/step - loss: 0.4047 - accuracy: 0.8185 - val_loss: 0.4801 - val_accuracy: 0.7741\n",
      "Epoch 38/125\n",
      "1340/1340 [==============================] - ETA: 0s - loss: 0.4029 - accuracy: 0.8206\n",
      "Epoch 38: val_accuracy did not improve from 0.77737\n",
      "1340/1340 [==============================] - 27s 20ms/step - loss: 0.4029 - accuracy: 0.8206 - val_loss: 0.4789 - val_accuracy: 0.7765\n",
      "Epoch 39/125\n",
      "1339/1340 [============================>.] - ETA: 0s - loss: 0.4018 - accuracy: 0.8209\n",
      "Epoch 39: val_accuracy did not improve from 0.77737\n",
      "1340/1340 [==============================] - 27s 20ms/step - loss: 0.4019 - accuracy: 0.8209 - val_loss: 0.4781 - val_accuracy: 0.7741\n",
      "Epoch 40/125\n",
      "1337/1340 [============================>.] - ETA: 0s - loss: 0.4010 - accuracy: 0.8220\n",
      "Epoch 40: val_accuracy did not improve from 0.77737\n",
      "1340/1340 [==============================] - 27s 20ms/step - loss: 0.4010 - accuracy: 0.8219 - val_loss: 0.4801 - val_accuracy: 0.7751\n",
      "Epoch 41/125\n",
      "1340/1340 [==============================] - ETA: 0s - loss: 0.4017 - accuracy: 0.8202\n",
      "Epoch 41: val_accuracy did not improve from 0.77737\n",
      "1340/1340 [==============================] - 27s 20ms/step - loss: 0.4017 - accuracy: 0.8202 - val_loss: 0.4788 - val_accuracy: 0.7739\n",
      "Epoch 42/125\n",
      "1337/1340 [============================>.] - ETA: 0s - loss: 0.3995 - accuracy: 0.8230\n",
      "Epoch 42: val_accuracy did not improve from 0.77737\n",
      "1340/1340 [==============================] - 27s 20ms/step - loss: 0.3996 - accuracy: 0.8230 - val_loss: 0.4837 - val_accuracy: 0.7738\n",
      "Epoch 43/125\n",
      "1338/1340 [============================>.] - ETA: 0s - loss: 0.3986 - accuracy: 0.8236\n",
      "Epoch 43: val_accuracy did not improve from 0.77737\n",
      "1340/1340 [==============================] - 27s 20ms/step - loss: 0.3987 - accuracy: 0.8236 - val_loss: 0.4796 - val_accuracy: 0.7745\n",
      "Epoch 44/125\n",
      "1338/1340 [============================>.] - ETA: 0s - loss: 0.4004 - accuracy: 0.8232\n",
      "Epoch 44: val_accuracy did not improve from 0.77737\n",
      "1340/1340 [==============================] - 27s 20ms/step - loss: 0.4003 - accuracy: 0.8233 - val_loss: 0.4864 - val_accuracy: 0.7748\n",
      "Epoch 45/125\n",
      "1338/1340 [============================>.] - ETA: 0s - loss: 0.3986 - accuracy: 0.8218\n",
      "Epoch 45: val_accuracy did not improve from 0.77737\n",
      "1340/1340 [==============================] - 27s 20ms/step - loss: 0.3986 - accuracy: 0.8218 - val_loss: 0.4792 - val_accuracy: 0.7749\n",
      "Epoch 46/125\n",
      "1339/1340 [============================>.] - ETA: 0s - loss: 0.3989 - accuracy: 0.8223\n",
      "Epoch 46: val_accuracy did not improve from 0.77737\n",
      "1340/1340 [==============================] - 27s 20ms/step - loss: 0.3989 - accuracy: 0.8223 - val_loss: 0.4791 - val_accuracy: 0.7741\n",
      "Epoch 47/125\n",
      "1338/1340 [============================>.] - ETA: 0s - loss: 0.3969 - accuracy: 0.8238\n",
      "Epoch 47: val_accuracy did not improve from 0.77737\n",
      "1340/1340 [==============================] - 27s 20ms/step - loss: 0.3970 - accuracy: 0.8239 - val_loss: 0.4830 - val_accuracy: 0.7751\n",
      "Epoch 48/125\n",
      "1339/1340 [============================>.] - ETA: 0s - loss: 0.3978 - accuracy: 0.8247\n",
      "Epoch 48: val_accuracy did not improve from 0.77737\n",
      "1340/1340 [==============================] - 27s 20ms/step - loss: 0.3978 - accuracy: 0.8247 - val_loss: 0.4792 - val_accuracy: 0.7767\n",
      "Epoch 49/125\n",
      "1340/1340 [==============================] - ETA: 0s - loss: 0.3965 - accuracy: 0.8238\n",
      "Epoch 49: val_accuracy did not improve from 0.77737\n",
      "1340/1340 [==============================] - 27s 20ms/step - loss: 0.3965 - accuracy: 0.8238 - val_loss: 0.4878 - val_accuracy: 0.7758\n",
      "Epoch 50/125\n",
      "1338/1340 [============================>.] - ETA: 0s - loss: 0.3978 - accuracy: 0.8238\n",
      "Epoch 50: val_accuracy did not improve from 0.77737\n",
      "1340/1340 [==============================] - 28s 21ms/step - loss: 0.3979 - accuracy: 0.8237 - val_loss: 0.4814 - val_accuracy: 0.7755\n",
      "Epoch 51/125\n",
      "1337/1340 [============================>.] - ETA: 0s - loss: 0.3969 - accuracy: 0.8228\n",
      "Epoch 51: val_accuracy did not improve from 0.77737\n",
      "1340/1340 [==============================] - 28s 21ms/step - loss: 0.3970 - accuracy: 0.8227 - val_loss: 0.4816 - val_accuracy: 0.7728\n",
      "Epoch 52/125\n",
      "1339/1340 [============================>.] - ETA: 0s - loss: 0.3948 - accuracy: 0.8249\n",
      "Epoch 52: val_accuracy did not improve from 0.77737\n",
      "1340/1340 [==============================] - 27s 20ms/step - loss: 0.3948 - accuracy: 0.8249 - val_loss: 0.4822 - val_accuracy: 0.7735\n",
      "Epoch 53/125\n",
      "1340/1340 [==============================] - ETA: 0s - loss: 0.3948 - accuracy: 0.8243\n",
      "Epoch 53: val_accuracy did not improve from 0.77737\n",
      "1340/1340 [==============================] - 27s 20ms/step - loss: 0.3948 - accuracy: 0.8243 - val_loss: 0.4823 - val_accuracy: 0.7747\n",
      "Epoch 54/125\n",
      "1339/1340 [============================>.] - ETA: 0s - loss: 0.3940 - accuracy: 0.8264\n",
      "Epoch 54: val_accuracy did not improve from 0.77737\n",
      "1340/1340 [==============================] - 27s 20ms/step - loss: 0.3941 - accuracy: 0.8264 - val_loss: 0.4904 - val_accuracy: 0.7732\n",
      "Epoch 55/125\n",
      "1338/1340 [============================>.] - ETA: 0s - loss: 0.3915 - accuracy: 0.8270\n",
      "Epoch 55: val_accuracy did not improve from 0.77737\n",
      "1340/1340 [==============================] - 27s 20ms/step - loss: 0.3917 - accuracy: 0.8268 - val_loss: 0.4816 - val_accuracy: 0.7749\n",
      "Epoch 56/125\n",
      "1339/1340 [============================>.] - ETA: 0s - loss: 0.3937 - accuracy: 0.8245\n",
      "Epoch 56: val_accuracy did not improve from 0.77737\n",
      "1340/1340 [==============================] - 27s 20ms/step - loss: 0.3937 - accuracy: 0.8245 - val_loss: 0.4894 - val_accuracy: 0.7720\n",
      "Epoch 57/125\n",
      "1338/1340 [============================>.] - ETA: 0s - loss: 0.3941 - accuracy: 0.8269\n",
      "Epoch 57: val_accuracy did not improve from 0.77737\n",
      "1340/1340 [==============================] - 28s 21ms/step - loss: 0.3943 - accuracy: 0.8269 - val_loss: 0.4830 - val_accuracy: 0.7730\n",
      "Epoch 58/125\n",
      "1337/1340 [============================>.] - ETA: 0s - loss: 0.3928 - accuracy: 0.8262\n",
      "Epoch 58: val_accuracy did not improve from 0.77737\n",
      "1340/1340 [==============================] - 27s 20ms/step - loss: 0.3930 - accuracy: 0.8261 - val_loss: 0.4853 - val_accuracy: 0.7746\n",
      "Epoch 59/125\n",
      "1340/1340 [==============================] - ETA: 0s - loss: 0.3935 - accuracy: 0.8264\n",
      "Epoch 59: val_accuracy did not improve from 0.77737\n",
      "1340/1340 [==============================] - 27s 20ms/step - loss: 0.3935 - accuracy: 0.8264 - val_loss: 0.4854 - val_accuracy: 0.7732\n",
      "Epoch 60/125\n",
      "1339/1340 [============================>.] - ETA: 0s - loss: 0.3913 - accuracy: 0.8265\n",
      "Epoch 60: val_accuracy did not improve from 0.77737\n",
      "1340/1340 [==============================] - 28s 21ms/step - loss: 0.3912 - accuracy: 0.8265 - val_loss: 0.4838 - val_accuracy: 0.7746\n",
      "Epoch 61/125\n",
      "1340/1340 [==============================] - ETA: 0s - loss: 0.3929 - accuracy: 0.8269\n",
      "Epoch 61: val_accuracy did not improve from 0.77737\n",
      "1340/1340 [==============================] - 27s 20ms/step - loss: 0.3929 - accuracy: 0.8269 - val_loss: 0.4842 - val_accuracy: 0.7753\n",
      "Epoch 62/125\n",
      "1337/1340 [============================>.] - ETA: 0s - loss: 0.3892 - accuracy: 0.8294\n",
      "Epoch 62: val_accuracy did not improve from 0.77737\n",
      "1340/1340 [==============================] - 27s 20ms/step - loss: 0.3893 - accuracy: 0.8294 - val_loss: 0.4849 - val_accuracy: 0.7744\n",
      "Epoch 63/125\n",
      "1338/1340 [============================>.] - ETA: 0s - loss: 0.3892 - accuracy: 0.8301\n",
      "Epoch 63: val_accuracy did not improve from 0.77737\n",
      "1340/1340 [==============================] - 28s 21ms/step - loss: 0.3890 - accuracy: 0.8303 - val_loss: 0.4928 - val_accuracy: 0.7738\n",
      "Epoch 64/125\n",
      "1339/1340 [============================>.] - ETA: 0s - loss: 0.3910 - accuracy: 0.8278\n",
      "Epoch 64: val_accuracy did not improve from 0.77737\n",
      "1340/1340 [==============================] - 28s 21ms/step - loss: 0.3911 - accuracy: 0.8278 - val_loss: 0.4875 - val_accuracy: 0.7747\n",
      "Epoch 65/125\n",
      "1338/1340 [============================>.] - ETA: 0s - loss: 0.3881 - accuracy: 0.8276\n",
      "Epoch 65: val_accuracy did not improve from 0.77737\n",
      "1340/1340 [==============================] - 27s 20ms/step - loss: 0.3882 - accuracy: 0.8275 - val_loss: 0.4862 - val_accuracy: 0.7732\n",
      "Epoch 66/125\n",
      "1338/1340 [============================>.] - ETA: 0s - loss: 0.3906 - accuracy: 0.8282\n",
      "Epoch 66: val_accuracy did not improve from 0.77737\n",
      "1340/1340 [==============================] - 27s 20ms/step - loss: 0.3906 - accuracy: 0.8282 - val_loss: 0.4827 - val_accuracy: 0.7741\n",
      "Epoch 67/125\n",
      "1340/1340 [==============================] - ETA: 0s - loss: 0.3898 - accuracy: 0.8277\n",
      "Epoch 67: val_accuracy did not improve from 0.77737\n",
      "1340/1340 [==============================] - 27s 20ms/step - loss: 0.3898 - accuracy: 0.8277 - val_loss: 0.4847 - val_accuracy: 0.7741\n",
      "Epoch 68/125\n",
      "1338/1340 [============================>.] - ETA: 0s - loss: 0.3877 - accuracy: 0.8287\n",
      "Epoch 68: val_accuracy did not improve from 0.77737\n",
      "1340/1340 [==============================] - 28s 21ms/step - loss: 0.3879 - accuracy: 0.8286 - val_loss: 0.4950 - val_accuracy: 0.7732\n",
      "Epoch 69/125\n",
      "1337/1340 [============================>.] - ETA: 0s - loss: 0.3863 - accuracy: 0.8316\n",
      "Epoch 69: val_accuracy did not improve from 0.77737\n",
      "1340/1340 [==============================] - 28s 21ms/step - loss: 0.3862 - accuracy: 0.8317 - val_loss: 0.4905 - val_accuracy: 0.7724\n",
      "Epoch 70/125\n",
      "1340/1340 [==============================] - ETA: 0s - loss: 0.3873 - accuracy: 0.8302\n",
      "Epoch 70: val_accuracy did not improve from 0.77737\n",
      "1340/1340 [==============================] - 28s 21ms/step - loss: 0.3873 - accuracy: 0.8302 - val_loss: 0.4853 - val_accuracy: 0.7726\n",
      "Epoch 71/125\n",
      "1339/1340 [============================>.] - ETA: 0s - loss: 0.3875 - accuracy: 0.8292\n",
      "Epoch 71: val_accuracy did not improve from 0.77737\n",
      "1340/1340 [==============================] - 27s 20ms/step - loss: 0.3875 - accuracy: 0.8293 - val_loss: 0.4834 - val_accuracy: 0.7743\n",
      "Epoch 72/125\n",
      "1339/1340 [============================>.] - ETA: 0s - loss: 0.3877 - accuracy: 0.8287\n",
      "Epoch 72: val_accuracy did not improve from 0.77737\n",
      "1340/1340 [==============================] - 28s 21ms/step - loss: 0.3876 - accuracy: 0.8288 - val_loss: 0.4892 - val_accuracy: 0.7746\n",
      "Epoch 73/125\n",
      "1339/1340 [============================>.] - ETA: 0s - loss: 0.3853 - accuracy: 0.8302\n",
      "Epoch 73: val_accuracy did not improve from 0.77737\n",
      "1340/1340 [==============================] - 28s 21ms/step - loss: 0.3853 - accuracy: 0.8302 - val_loss: 0.4885 - val_accuracy: 0.7741\n",
      "Epoch 74/125\n",
      "1337/1340 [============================>.] - ETA: 0s - loss: 0.3871 - accuracy: 0.8303\n",
      "Epoch 74: val_accuracy did not improve from 0.77737\n",
      "1340/1340 [==============================] - 28s 21ms/step - loss: 0.3870 - accuracy: 0.8305 - val_loss: 0.4895 - val_accuracy: 0.7744\n",
      "Epoch 75/125\n",
      "1338/1340 [============================>.] - ETA: 0s - loss: 0.3857 - accuracy: 0.8310\n",
      "Epoch 75: val_accuracy did not improve from 0.77737\n",
      "1340/1340 [==============================] - 28s 21ms/step - loss: 0.3856 - accuracy: 0.8311 - val_loss: 0.4902 - val_accuracy: 0.7744\n",
      "Epoch 76/125\n",
      "1339/1340 [============================>.] - ETA: 0s - loss: 0.3858 - accuracy: 0.8309\n",
      "Epoch 76: val_accuracy did not improve from 0.77737\n",
      "1340/1340 [==============================] - 28s 21ms/step - loss: 0.3858 - accuracy: 0.8309 - val_loss: 0.4888 - val_accuracy: 0.7752\n",
      "Epoch 77/125\n",
      "1338/1340 [============================>.] - ETA: 0s - loss: 0.3840 - accuracy: 0.8324\n",
      "Epoch 77: val_accuracy did not improve from 0.77737\n",
      "1340/1340 [==============================] - 27s 20ms/step - loss: 0.3841 - accuracy: 0.8324 - val_loss: 0.4868 - val_accuracy: 0.7745\n",
      "Epoch 78/125\n",
      "1339/1340 [============================>.] - ETA: 0s - loss: 0.3844 - accuracy: 0.8315\n",
      "Epoch 78: val_accuracy did not improve from 0.77737\n",
      "1340/1340 [==============================] - 27s 20ms/step - loss: 0.3843 - accuracy: 0.8316 - val_loss: 0.4917 - val_accuracy: 0.7744\n",
      "Epoch 79/125\n",
      "1339/1340 [============================>.] - ETA: 0s - loss: 0.3853 - accuracy: 0.8312\n",
      "Epoch 79: val_accuracy did not improve from 0.77737\n",
      "1340/1340 [==============================] - 28s 21ms/step - loss: 0.3853 - accuracy: 0.8313 - val_loss: 0.4959 - val_accuracy: 0.7714\n",
      "Epoch 80/125\n",
      "1338/1340 [============================>.] - ETA: 0s - loss: 0.3847 - accuracy: 0.8306\n",
      "Epoch 80: val_accuracy did not improve from 0.77737\n",
      "1340/1340 [==============================] - 28s 21ms/step - loss: 0.3849 - accuracy: 0.8306 - val_loss: 0.4880 - val_accuracy: 0.7752\n",
      "Epoch 81/125\n",
      "1339/1340 [============================>.] - ETA: 0s - loss: 0.3852 - accuracy: 0.8297\n",
      "Epoch 81: val_accuracy did not improve from 0.77737\n",
      "1340/1340 [==============================] - 27s 20ms/step - loss: 0.3851 - accuracy: 0.8298 - val_loss: 0.4907 - val_accuracy: 0.7744\n",
      "Epoch 82/125\n",
      "1339/1340 [============================>.] - ETA: 0s - loss: 0.3846 - accuracy: 0.8307\n",
      "Epoch 82: val_accuracy did not improve from 0.77737\n",
      "1340/1340 [==============================] - 27s 20ms/step - loss: 0.3846 - accuracy: 0.8307 - val_loss: 0.4913 - val_accuracy: 0.7742\n",
      "Epoch 83/125\n",
      "1340/1340 [==============================] - ETA: 0s - loss: 0.3834 - accuracy: 0.8326\n",
      "Epoch 83: val_accuracy did not improve from 0.77737\n",
      "1340/1340 [==============================] - 27s 20ms/step - loss: 0.3834 - accuracy: 0.8326 - val_loss: 0.4869 - val_accuracy: 0.7733\n",
      "Epoch 84/125\n",
      "1340/1340 [==============================] - ETA: 0s - loss: 0.3823 - accuracy: 0.8320\n",
      "Epoch 84: val_accuracy did not improve from 0.77737\n",
      "1340/1340 [==============================] - 28s 21ms/step - loss: 0.3823 - accuracy: 0.8320 - val_loss: 0.4920 - val_accuracy: 0.7731\n",
      "Epoch 85/125\n",
      "1338/1340 [============================>.] - ETA: 0s - loss: 0.3849 - accuracy: 0.8311\n",
      "Epoch 85: val_accuracy did not improve from 0.77737\n",
      "1340/1340 [==============================] - 28s 21ms/step - loss: 0.3849 - accuracy: 0.8311 - val_loss: 0.4890 - val_accuracy: 0.7744\n",
      "Epoch 86/125\n",
      "1339/1340 [============================>.] - ETA: 0s - loss: 0.3808 - accuracy: 0.8353\n",
      "Epoch 86: val_accuracy did not improve from 0.77737\n",
      "1340/1340 [==============================] - 27s 20ms/step - loss: 0.3808 - accuracy: 0.8354 - val_loss: 0.4883 - val_accuracy: 0.7720\n",
      "Epoch 87/125\n",
      "1339/1340 [============================>.] - ETA: 0s - loss: 0.3815 - accuracy: 0.8350\n",
      "Epoch 87: val_accuracy did not improve from 0.77737\n",
      "1340/1340 [==============================] - 28s 21ms/step - loss: 0.3816 - accuracy: 0.8350 - val_loss: 0.4916 - val_accuracy: 0.7727\n",
      "Epoch 88/125\n",
      "1339/1340 [============================>.] - ETA: 0s - loss: 0.3801 - accuracy: 0.8338\n",
      "Epoch 88: val_accuracy did not improve from 0.77737\n",
      "1340/1340 [==============================] - 27s 20ms/step - loss: 0.3802 - accuracy: 0.8337 - val_loss: 0.4942 - val_accuracy: 0.7739\n",
      "Epoch 89/125\n",
      "1340/1340 [==============================] - ETA: 0s - loss: 0.3791 - accuracy: 0.8337\n",
      "Epoch 89: val_accuracy did not improve from 0.77737\n",
      "1340/1340 [==============================] - 28s 21ms/step - loss: 0.3791 - accuracy: 0.8337 - val_loss: 0.4990 - val_accuracy: 0.7736\n",
      "Epoch 90/125\n",
      "1340/1340 [==============================] - ETA: 0s - loss: 0.3813 - accuracy: 0.8330\n",
      "Epoch 90: val_accuracy did not improve from 0.77737\n",
      "1340/1340 [==============================] - 28s 21ms/step - loss: 0.3813 - accuracy: 0.8330 - val_loss: 0.4902 - val_accuracy: 0.7738\n",
      "Epoch 91/125\n",
      "1339/1340 [============================>.] - ETA: 0s - loss: 0.3803 - accuracy: 0.8336\n",
      "Epoch 91: val_accuracy did not improve from 0.77737\n",
      "1340/1340 [==============================] - 27s 20ms/step - loss: 0.3803 - accuracy: 0.8336 - val_loss: 0.4933 - val_accuracy: 0.7719\n",
      "Epoch 92/125\n",
      "1339/1340 [============================>.] - ETA: 0s - loss: 0.3809 - accuracy: 0.8333\n",
      "Epoch 92: val_accuracy did not improve from 0.77737\n",
      "1340/1340 [==============================] - 27s 20ms/step - loss: 0.3809 - accuracy: 0.8334 - val_loss: 0.4935 - val_accuracy: 0.7738\n",
      "Epoch 93/125\n",
      "1340/1340 [==============================] - ETA: 0s - loss: 0.3795 - accuracy: 0.8343\n",
      "Epoch 93: val_accuracy did not improve from 0.77737\n",
      "1340/1340 [==============================] - 28s 21ms/step - loss: 0.3795 - accuracy: 0.8343 - val_loss: 0.4923 - val_accuracy: 0.7729\n",
      "Epoch 94/125\n",
      "1339/1340 [============================>.] - ETA: 0s - loss: 0.3806 - accuracy: 0.8327\n",
      "Epoch 94: val_accuracy did not improve from 0.77737\n",
      "1340/1340 [==============================] - 28s 21ms/step - loss: 0.3806 - accuracy: 0.8327 - val_loss: 0.4935 - val_accuracy: 0.7741\n",
      "Epoch 95/125\n",
      "1339/1340 [============================>.] - ETA: 0s - loss: 0.3802 - accuracy: 0.8336\n",
      "Epoch 95: val_accuracy did not improve from 0.77737\n",
      "1340/1340 [==============================] - 28s 21ms/step - loss: 0.3803 - accuracy: 0.8335 - val_loss: 0.4900 - val_accuracy: 0.7725\n",
      "Epoch 96/125\n",
      "1340/1340 [==============================] - ETA: 0s - loss: 0.3808 - accuracy: 0.8337\n",
      "Epoch 96: val_accuracy did not improve from 0.77737\n",
      "1340/1340 [==============================] - 27s 21ms/step - loss: 0.3808 - accuracy: 0.8337 - val_loss: 0.4896 - val_accuracy: 0.7726\n",
      "Epoch 97/125\n",
      "1339/1340 [============================>.] - ETA: 0s - loss: 0.3810 - accuracy: 0.8338\n",
      "Epoch 97: val_accuracy did not improve from 0.77737\n",
      "1340/1340 [==============================] - 28s 21ms/step - loss: 0.3810 - accuracy: 0.8337 - val_loss: 0.4936 - val_accuracy: 0.7741\n",
      "Epoch 98/125\n",
      "1339/1340 [============================>.] - ETA: 0s - loss: 0.3799 - accuracy: 0.8342\n",
      "Epoch 98: val_accuracy did not improve from 0.77737\n",
      "1340/1340 [==============================] - 27s 20ms/step - loss: 0.3799 - accuracy: 0.8342 - val_loss: 0.4933 - val_accuracy: 0.7724\n",
      "Epoch 99/125\n",
      "1337/1340 [============================>.] - ETA: 0s - loss: 0.3791 - accuracy: 0.8342\n",
      "Epoch 99: val_accuracy did not improve from 0.77737\n",
      "1340/1340 [==============================] - 27s 20ms/step - loss: 0.3791 - accuracy: 0.8342 - val_loss: 0.4892 - val_accuracy: 0.7730\n",
      "Epoch 100/125\n",
      "1340/1340 [==============================] - ETA: 0s - loss: 0.3774 - accuracy: 0.8355\n",
      "Epoch 100: val_accuracy did not improve from 0.77737\n",
      "1340/1340 [==============================] - 27s 20ms/step - loss: 0.3774 - accuracy: 0.8355 - val_loss: 0.4910 - val_accuracy: 0.7741\n",
      "Epoch 101/125\n",
      "1340/1340 [==============================] - ETA: 0s - loss: 0.3798 - accuracy: 0.8323\n",
      "Epoch 101: val_accuracy did not improve from 0.77737\n",
      "1340/1340 [==============================] - 28s 21ms/step - loss: 0.3798 - accuracy: 0.8323 - val_loss: 0.4957 - val_accuracy: 0.7755\n",
      "Epoch 102/125\n",
      "1338/1340 [============================>.] - ETA: 0s - loss: 0.3782 - accuracy: 0.8334\n",
      "Epoch 102: val_accuracy did not improve from 0.77737\n",
      "1340/1340 [==============================] - 28s 21ms/step - loss: 0.3784 - accuracy: 0.8333 - val_loss: 0.4942 - val_accuracy: 0.7724\n",
      "Epoch 103/125\n",
      "1339/1340 [============================>.] - ETA: 0s - loss: 0.3798 - accuracy: 0.8340\n",
      "Epoch 103: val_accuracy did not improve from 0.77737\n",
      "1340/1340 [==============================] - 27s 20ms/step - loss: 0.3799 - accuracy: 0.8340 - val_loss: 0.4881 - val_accuracy: 0.7720\n",
      "Epoch 104/125\n",
      "1339/1340 [============================>.] - ETA: 0s - loss: 0.3781 - accuracy: 0.8347\n",
      "Epoch 104: val_accuracy did not improve from 0.77737\n",
      "1340/1340 [==============================] - 27s 20ms/step - loss: 0.3780 - accuracy: 0.8347 - val_loss: 0.4915 - val_accuracy: 0.7730\n",
      "Epoch 105/125\n",
      "1339/1340 [============================>.] - ETA: 0s - loss: 0.3782 - accuracy: 0.8350\n",
      "Epoch 105: val_accuracy did not improve from 0.77737\n",
      "1340/1340 [==============================] - 28s 21ms/step - loss: 0.3783 - accuracy: 0.8351 - val_loss: 0.4931 - val_accuracy: 0.7748\n",
      "Epoch 106/125\n",
      "1338/1340 [============================>.] - ETA: 0s - loss: 0.3775 - accuracy: 0.8355\n",
      "Epoch 106: val_accuracy did not improve from 0.77737\n",
      "1340/1340 [==============================] - 28s 21ms/step - loss: 0.3776 - accuracy: 0.8353 - val_loss: 0.4929 - val_accuracy: 0.7735\n",
      "Epoch 107/125\n",
      "1339/1340 [============================>.] - ETA: 0s - loss: 0.3777 - accuracy: 0.8361\n",
      "Epoch 107: val_accuracy did not improve from 0.77737\n",
      "1340/1340 [==============================] - 28s 21ms/step - loss: 0.3777 - accuracy: 0.8361 - val_loss: 0.4927 - val_accuracy: 0.7733\n",
      "Epoch 108/125\n",
      "1339/1340 [============================>.] - ETA: 0s - loss: 0.3794 - accuracy: 0.8354\n",
      "Epoch 108: val_accuracy did not improve from 0.77737\n",
      "1340/1340 [==============================] - 28s 21ms/step - loss: 0.3795 - accuracy: 0.8353 - val_loss: 0.4946 - val_accuracy: 0.7728\n",
      "Epoch 109/125\n",
      "1340/1340 [==============================] - ETA: 0s - loss: 0.3767 - accuracy: 0.8351\n",
      "Epoch 109: val_accuracy did not improve from 0.77737\n",
      "1340/1340 [==============================] - 28s 21ms/step - loss: 0.3767 - accuracy: 0.8351 - val_loss: 0.4947 - val_accuracy: 0.7721\n",
      "Epoch 110/125\n",
      "1340/1340 [==============================] - ETA: 0s - loss: 0.3772 - accuracy: 0.8349\n",
      "Epoch 110: val_accuracy did not improve from 0.77737\n",
      "1340/1340 [==============================] - 28s 21ms/step - loss: 0.3772 - accuracy: 0.8349 - val_loss: 0.4914 - val_accuracy: 0.7736\n",
      "Epoch 111/125\n",
      "1340/1340 [==============================] - ETA: 0s - loss: 0.3760 - accuracy: 0.8362\n",
      "Epoch 111: val_accuracy did not improve from 0.77737\n",
      "1340/1340 [==============================] - 28s 21ms/step - loss: 0.3760 - accuracy: 0.8362 - val_loss: 0.4920 - val_accuracy: 0.7721\n",
      "Epoch 112/125\n",
      "1339/1340 [============================>.] - ETA: 0s - loss: 0.3777 - accuracy: 0.8342\n",
      "Epoch 112: val_accuracy did not improve from 0.77737\n",
      "1340/1340 [==============================] - 28s 21ms/step - loss: 0.3778 - accuracy: 0.8341 - val_loss: 0.4918 - val_accuracy: 0.7743\n",
      "Epoch 113/125\n",
      "1338/1340 [============================>.] - ETA: 0s - loss: 0.3768 - accuracy: 0.8352\n",
      "Epoch 113: val_accuracy did not improve from 0.77737\n",
      "1340/1340 [==============================] - 28s 21ms/step - loss: 0.3769 - accuracy: 0.8352 - val_loss: 0.4968 - val_accuracy: 0.7732\n",
      "Epoch 114/125\n",
      "1338/1340 [============================>.] - ETA: 0s - loss: 0.3771 - accuracy: 0.8330\n",
      "Epoch 114: val_accuracy did not improve from 0.77737\n",
      "1340/1340 [==============================] - 28s 21ms/step - loss: 0.3769 - accuracy: 0.8332 - val_loss: 0.4902 - val_accuracy: 0.7703\n",
      "Epoch 115/125\n",
      "1338/1340 [============================>.] - ETA: 0s - loss: 0.3770 - accuracy: 0.8362\n",
      "Epoch 115: val_accuracy did not improve from 0.77737\n",
      "1340/1340 [==============================] - 28s 21ms/step - loss: 0.3770 - accuracy: 0.8362 - val_loss: 0.4943 - val_accuracy: 0.7713\n",
      "Epoch 116/125\n",
      "1338/1340 [============================>.] - ETA: 0s - loss: 0.3791 - accuracy: 0.8324\n",
      "Epoch 116: val_accuracy did not improve from 0.77737\n",
      "1340/1340 [==============================] - 28s 21ms/step - loss: 0.3791 - accuracy: 0.8324 - val_loss: 0.4867 - val_accuracy: 0.7715\n",
      "Epoch 117/125\n",
      "1340/1340 [==============================] - ETA: 0s - loss: 0.3753 - accuracy: 0.8357\n",
      "Epoch 117: val_accuracy did not improve from 0.77737\n",
      "1340/1340 [==============================] - 28s 21ms/step - loss: 0.3753 - accuracy: 0.8357 - val_loss: 0.4952 - val_accuracy: 0.7725\n",
      "Epoch 118/125\n",
      "1340/1340 [==============================] - ETA: 0s - loss: 0.3747 - accuracy: 0.8376\n",
      "Epoch 118: val_accuracy did not improve from 0.77737\n",
      "1340/1340 [==============================] - 28s 21ms/step - loss: 0.3747 - accuracy: 0.8376 - val_loss: 0.4959 - val_accuracy: 0.7710\n",
      "Epoch 119/125\n",
      "1339/1340 [============================>.] - ETA: 0s - loss: 0.3755 - accuracy: 0.8372\n",
      "Epoch 119: val_accuracy did not improve from 0.77737\n",
      "1340/1340 [==============================] - 28s 21ms/step - loss: 0.3754 - accuracy: 0.8373 - val_loss: 0.4940 - val_accuracy: 0.7722\n",
      "Epoch 120/125\n",
      "1338/1340 [============================>.] - ETA: 0s - loss: 0.3765 - accuracy: 0.8354\n",
      "Epoch 120: val_accuracy did not improve from 0.77737\n",
      "1340/1340 [==============================] - 28s 21ms/step - loss: 0.3765 - accuracy: 0.8354 - val_loss: 0.4951 - val_accuracy: 0.7715\n",
      "Epoch 121/125\n",
      "1338/1340 [============================>.] - ETA: 0s - loss: 0.3765 - accuracy: 0.8349\n",
      "Epoch 121: val_accuracy did not improve from 0.77737\n",
      "1340/1340 [==============================] - 28s 21ms/step - loss: 0.3764 - accuracy: 0.8350 - val_loss: 0.4929 - val_accuracy: 0.7710\n",
      "Epoch 122/125\n",
      "1338/1340 [============================>.] - ETA: 0s - loss: 0.3780 - accuracy: 0.8342\n",
      "Epoch 122: val_accuracy did not improve from 0.77737\n",
      "1340/1340 [==============================] - 28s 21ms/step - loss: 0.3780 - accuracy: 0.8342 - val_loss: 0.4928 - val_accuracy: 0.7712\n",
      "Epoch 123/125\n",
      "1338/1340 [============================>.] - ETA: 0s - loss: 0.3751 - accuracy: 0.8363\n",
      "Epoch 123: val_accuracy did not improve from 0.77737\n",
      "1340/1340 [==============================] - 28s 21ms/step - loss: 0.3751 - accuracy: 0.8364 - val_loss: 0.4954 - val_accuracy: 0.7724\n",
      "Epoch 124/125\n",
      "1340/1340 [==============================] - ETA: 0s - loss: 0.3775 - accuracy: 0.8379\n",
      "Epoch 124: val_accuracy did not improve from 0.77737\n",
      "1340/1340 [==============================] - 28s 21ms/step - loss: 0.3775 - accuracy: 0.8379 - val_loss: 0.4917 - val_accuracy: 0.7719\n",
      "Epoch 125/125\n",
      "1340/1340 [==============================] - ETA: 0s - loss: 0.3746 - accuracy: 0.8368\n",
      "Epoch 125: val_accuracy did not improve from 0.77737\n",
      "1340/1340 [==============================] - 28s 21ms/step - loss: 0.3746 - accuracy: 0.8368 - val_loss: 0.4939 - val_accuracy: 0.7727\n"
     ]
    }
   ],
   "source": [
    "model1 = Sequential()\n",
    "model1.add(layers.Embedding(max_words, 20,input_length=max_len))\n",
    "model1.add(layers.LSTM(15,dropout=0.5))\n",
    "model1.add(layers.Dense(2,activation='softmax'))\n",
    "\n",
    "model1.compile(optimizer='rmsprop',loss='binary_crossentropy', metrics=['accuracy'])\n",
    "#Implementing model checkpoins to save the best metric and do not lose it on training.\n",
    "checkpoint1 = ModelCheckpoint(\"best_model1.hdf5\", monitor='val_accuracy', verbose=1,save_best_only=True, mode='auto', period=1,save_weights_only=False)\n",
    "history = model1.fit(X_train, y_train, epochs=125,validation_data=(X_test, y_test),callbacks=[checkpoint1])"
   ]
  },
  {
   "cell_type": "code",
   "execution_count": null,
   "metadata": {
    "colab": {
     "base_uri": "https://localhost:8080/",
     "height": 634
    },
    "id": "VmCjeNyh5-CE",
    "outputId": "d5a4661e-d559-4eb0-8266-42774a8e1e34"
   },
   "outputs": [
    {
     "name": "stdout",
     "output_type": "stream",
     "text": [
      "[0.7060167789459229, 0.7710821032524109, 0.7794309854507446, 0.7861940264701843, 0.7897388339042664, 0.79197758436203, 0.7944263219833374, 0.7976446151733398, 0.7969216704368591, 0.7982509136199951, 0.8015857934951782, 0.7996968030929565, 0.8044776320457458, 0.8046875, 0.805480420589447, 0.8077658414840698, 0.8073461055755615, 0.8077192306518555, 0.8082322478294373, 0.8097714781761169, 0.8106343150138855, 0.812313437461853, 0.811707079410553, 0.8142490386962891, 0.8138992786407471, 0.8143889904022217, 0.8141791224479675, 0.8149020671844482, 0.8155550360679626, 0.8165578246116638, 0.8163012862205505, 0.8167910575866699, 0.8170709013938904, 0.8193097114562988, 0.8201725482940674, 0.8198927044868469, 0.8184934854507446, 0.8205923438072205, 0.8208954930305481, 0.8219449520111084, 0.8201959133148193, 0.8229944109916687, 0.8236007690429688, 0.8233442306518555, 0.8218283653259277, 0.8223180770874023, 0.8238572478294373, 0.8247201442718506, 0.8238339424133301, 0.8237406611442566, 0.8226912021636963, 0.8248834013938904, 0.8243470191955566, 0.826352596282959, 0.8268423676490784, 0.8244869112968445, 0.8268889784812927, 0.8261194229125977, 0.826352596282959, 0.826539158821106, 0.8268656730651855, 0.8294309973716736, 0.830270528793335, 0.8278218507766724, 0.8275420069694519, 0.8281949758529663, 0.8277285695075989, 0.8286147117614746, 0.8317164182662964, 0.8302238583564758, 0.8292677402496338, 0.8287546634674072, 0.8302238583564758, 0.8304570913314819, 0.8311100602149963, 0.830876886844635, 0.8323693871498108, 0.8315531611442566, 0.831250011920929, 0.8306203484535217, 0.8297807574272156, 0.8307136297225952, 0.8325559496879578, 0.8319962620735168, 0.8311334252357483, 0.8353778123855591, 0.8349813222885132, 0.8337453603744507, 0.8336986899375916, 0.8330457210540771, 0.8336054086685181, 0.833372175693512, 0.8342817425727844, 0.8326959013938904, 0.8335121273994446, 0.8336520791053772, 0.8337453603744507, 0.8342350721359253, 0.8342117667198181, 0.8355410695075989, 0.8322761058807373, 0.8332788944244385, 0.8339552283287048, 0.8347481489181519, 0.8350746035575867, 0.8353311419487, 0.836124062538147, 0.8353311419487, 0.835144579410553, 0.8348880410194397, 0.8361940383911133, 0.8340951204299927, 0.8351912498474121, 0.8332089781761169, 0.8361940383911133, 0.8323927521705627, 0.8357276320457458, 0.8376399278640747, 0.8372668027877808, 0.8354244232177734, 0.834958016872406, 0.8342117667198181, 0.8363806009292603, 0.8378731608390808, 0.8368003964424133]\n",
      "[0.5626755356788635, 0.483186811208725, 0.46633559465408325, 0.4575105905532837, 0.45190852880477905, 0.44743698835372925, 0.4435756802558899, 0.43984198570251465, 0.43747106194496155, 0.4353906512260437, 0.4324684143066406, 0.4323379397392273, 0.42765480279922485, 0.42626553773880005, 0.4253787696361542, 0.42281457781791687, 0.4223802387714386, 0.421016126871109, 0.42084801197052, 0.4183046221733093, 0.41737911105155945, 0.41741806268692017, 0.4158088266849518, 0.4121990203857422, 0.414905846118927, 0.4132327437400818, 0.4119822382926941, 0.4105076193809509, 0.4106779098510742, 0.4098760783672333, 0.4091494381427765, 0.4074864685535431, 0.4070848226547241, 0.40577131509780884, 0.40469059348106384, 0.40444305539131165, 0.40470996499061584, 0.4029386043548584, 0.4018792510032654, 0.4010426104068756, 0.40173521637916565, 0.39964932203292847, 0.3986737132072449, 0.4002847373485565, 0.39859551191329956, 0.39888155460357666, 0.3969900608062744, 0.39777031540870667, 0.39647963643074036, 0.3979443311691284, 0.39701971411705017, 0.3947870433330536, 0.3948333263397217, 0.3940911591053009, 0.3917471468448639, 0.39372017979621887, 0.3942563235759735, 0.3929532766342163, 0.3934829831123352, 0.39124175906181335, 0.39289531111717224, 0.38928350806236267, 0.3889544904232025, 0.3910781145095825, 0.38816750049591064, 0.3905838131904602, 0.3898133635520935, 0.38787412643432617, 0.386231392621994, 0.38733261823654175, 0.38748589158058167, 0.38762593269348145, 0.3853055536746979, 0.38704928755760193, 0.38557735085487366, 0.3858422636985779, 0.38410407304763794, 0.3843117654323578, 0.3853027820587158, 0.384856253862381, 0.38511237502098083, 0.3846234083175659, 0.3833988904953003, 0.3823492228984833, 0.3848651945590973, 0.38076719641685486, 0.3815712034702301, 0.3801773190498352, 0.3791014850139618, 0.38126397132873535, 0.3802798390388489, 0.38093599677085876, 0.37945613265037537, 0.38059452176094055, 0.3802530765533447, 0.38080698251724243, 0.3809945583343506, 0.37989118695259094, 0.3790632486343384, 0.3773650527000427, 0.3797765374183655, 0.37842682003974915, 0.37991857528686523, 0.3779538571834564, 0.3782576024532318, 0.37761789560317993, 0.3776640295982361, 0.37952151894569397, 0.37667176127433777, 0.3772248327732086, 0.37604910135269165, 0.37780725955963135, 0.37691059708595276, 0.3769085109233856, 0.3769753873348236, 0.3791164457798004, 0.37530389428138733, 0.37472018599510193, 0.3754308223724365, 0.3764559030532837, 0.37638503313064575, 0.37803027033805847, 0.37509167194366455, 0.3774890601634979, 0.37456202507019043]\n",
      "[0.4986889362335205, 0.48743948340415955, 0.48237720131874084, 0.47692030668258667, 0.4752938449382782, 0.4740144610404968, 0.4738568365573883, 0.4784960150718689, 0.4729097783565521, 0.47292569279670715, 0.47864651679992676, 0.47302186489105225, 0.4797738790512085, 0.4721750020980835, 0.4790937006473541, 0.4765927791595459, 0.4776415228843689, 0.47861379384994507, 0.47473227977752686, 0.47678786516189575, 0.47780469059944153, 0.4746141731739044, 0.48229748010635376, 0.47468531131744385, 0.4767625331878662, 0.47414642572402954, 0.48174169659614563, 0.47689181566238403, 0.4862581193447113, 0.47460880875587463, 0.4736213982105255, 0.4716127812862396, 0.480874627828598, 0.47736385464668274, 0.4796934127807617, 0.47580626606941223, 0.48013341426849365, 0.4789336621761322, 0.47810354828834534, 0.4800907075405121, 0.4787732660770416, 0.48369860649108887, 0.47963854670524597, 0.48642879724502563, 0.4791823923587799, 0.47914063930511475, 0.4829913377761841, 0.47918105125427246, 0.48777762055397034, 0.48140138387680054, 0.48163896799087524, 0.48215895891189575, 0.482304185628891, 0.4903872311115265, 0.4815964996814728, 0.48944705724716187, 0.48297351598739624, 0.48531845211982727, 0.4853675067424774, 0.483769029378891, 0.4842265844345093, 0.48485633730888367, 0.49281930923461914, 0.48749080300331116, 0.48622044920921326, 0.48272714018821716, 0.48468539118766785, 0.49499785900115967, 0.49052077531814575, 0.4852895438671112, 0.4833747148513794, 0.48917168378829956, 0.48845842480659485, 0.48954254388809204, 0.49023202061653137, 0.4888450801372528, 0.4868483245372772, 0.4916694760322571, 0.4958595037460327, 0.48795777559280396, 0.49073976278305054, 0.49133092164993286, 0.48691174387931824, 0.4919601082801819, 0.48902037739753723, 0.48827722668647766, 0.4915754497051239, 0.49424707889556885, 0.4989857077598572, 0.49022674560546875, 0.4932541251182556, 0.4935346245765686, 0.49228715896606445, 0.49347344040870667, 0.489997923374176, 0.48964643478393555, 0.4936216473579407, 0.49332308769226074, 0.48923590779304504, 0.4910237193107605, 0.49569758772850037, 0.49422967433929443, 0.4880560338497162, 0.49148833751678467, 0.4931131899356842, 0.49289843440055847, 0.49271160364151, 0.49455076456069946, 0.49466511607170105, 0.49137482047080994, 0.49197855591773987, 0.49176713824272156, 0.49680355191230774, 0.4901633858680725, 0.4942786395549774, 0.48669716715812683, 0.4951649010181427, 0.4959120750427246, 0.49400144815444946, 0.4950881898403168, 0.4929015040397644, 0.4927915632724762, 0.49539175629615784, 0.49166223406791687, 0.49385344982147217]\n",
      "range(1, 126)\n"
     ]
    },
    {
     "data": {
      "image/png": "[encoded data removed]",
      "text/plain": [
       "<Figure size 432x288 with 1 Axes>"
      ]
     },
     "metadata": {
      "needs_background": "light"
     },
     "output_type": "display_data"
    },
    {
     "data": {
      "image/png": "[encoded data removed]",
      "text/plain": [
       "<Figure size 432x288 with 1 Axes>"
      ]
     },
     "metadata": {
      "needs_background": "light"
     },
     "output_type": "display_data"
    }
   ],
   "source": [
    "# plotting the results\n",
    "\n",
    "acc = history.history.get('accuracy')\n",
    "val_acc = history.history.get('val_accuracy')\n",
    "loss = history.history.get('loss')\n",
    "val_loss = history.history.get('val_loss')\n",
    "print(acc)\n",
    "print(loss)\n",
    "print(val_loss)\n",
    "epochs = range(1, 126)\n",
    "print (epochs)\n",
    "\n",
    "plt.plot(epochs, acc, 'b', label='Training Acc')\n",
    "plt.plot(epochs, val_acc, 'g', label='Validation Acc')\n",
    "plt.title('Training and Validation Accuracy')\n",
    "plt.legend()\n",
    "\n",
    "plt.figure()\n",
    "\n",
    "plt.plot(epochs, loss, 'b', label=\"Training Loss\")\n",
    "plt.plot(epochs, val_loss, 'g', label='Validation loss')\n",
    "plt.title('Training and Validation loss')\n",
    "plt.legend()\n",
    "plt.show()\n"
   ]
  },
  {
   "cell_type": "markdown",
   "metadata": {
    "id": "y_XXaJoNVdNV"
   },
   "source": [
    "### Model7: Testing if double descent occurs by increasing the amount of data we use for training\n",
    "We are going to use 4 times the data we used previously with the same Model 1 architecture(Single layer LSTM) to try and see if we can observe the double descent phenomenon. "
   ]
  },
  {
   "cell_type": "code",
   "execution_count": null,
   "metadata": {
    "id": "4W-hBnLDVCz0"
   },
   "outputs": [],
   "source": [
    "ds_train, ds_train_info = tfds.load('sentiment140', split='train[:16%]', shuffle_files=True ,with_info = True) # Loading a built in tensorflow dataset\n",
    "# Using it as a numpy array\n",
    "train_text, train_polarity = tfds.as_numpy(tfds.load('sentiment140', split='train[:16%]', shuffle_files=True, batch_size=-1,as_supervised=True ))\n",
    "# Applying function to numpy\n",
    "train_text = clean_v_func(train_text)\n",
    "train_text = convert_v_func(train_text)\n",
    "Y_Tr = train_polarity"
   ]
  },
  {
   "cell_type": "code",
   "execution_count": null,
   "metadata": {
    "colab": {
     "base_uri": "https://localhost:8080/"
    },
    "id": "-jRsCUu_WEhQ",
    "outputId": "f6e32693-e360-481a-e97e-dc8c8966bc25"
   },
   "outputs": [
    {
     "name": "stdout",
     "output_type": "stream",
     "text": [
      "(171520, 569) (84480, 569) (171520, 2) (84480, 2)\n",
      "WARNING:tensorflow:`period` argument is deprecated. Please use `save_freq` to specify the frequency in number of batches seen.\n"
     ]
    },
    {
     "name": "stderr",
     "output_type": "stream",
     "text": [
      "WARNING:tensorflow:`period` argument is deprecated. Please use `save_freq` to specify the frequency in number of batches seen.\n"
     ]
    },
    {
     "name": "stdout",
     "output_type": "stream",
     "text": [
      "Epoch 1/20\n",
      "5359/5360 [============================>.] - ETA: 0s - loss: 0.5057 - accuracy: 0.7530\n",
      "Epoch 1: val_accuracy improved from -inf to 0.77880, saving model to best_model1.hdf5\n",
      "5360/5360 [==============================] - 165s 30ms/step - loss: 0.5057 - accuracy: 0.7530 - val_loss: 0.4681 - val_accuracy: 0.7788\n",
      "Epoch 2/20\n",
      "5358/5360 [============================>.] - ETA: 0s - loss: 0.4648 - accuracy: 0.7812\n",
      "Epoch 2: val_accuracy improved from 0.77880 to 0.78593, saving model to best_model1.hdf5\n",
      "5360/5360 [==============================] - 165s 31ms/step - loss: 0.4648 - accuracy: 0.7812 - val_loss: 0.4603 - val_accuracy: 0.7859\n",
      "Epoch 3/20\n",
      "5359/5360 [============================>.] - ETA: 0s - loss: 0.4574 - accuracy: 0.7855\n",
      "Epoch 3: val_accuracy improved from 0.78593 to 0.78823, saving model to best_model1.hdf5\n",
      "5360/5360 [==============================] - 168s 31ms/step - loss: 0.4574 - accuracy: 0.7855 - val_loss: 0.4560 - val_accuracy: 0.7882\n",
      "Epoch 4/20\n",
      "5358/5360 [============================>.] - ETA: 0s - loss: 0.4523 - accuracy: 0.7881\n",
      "Epoch 4: val_accuracy improved from 0.78823 to 0.79074, saving model to best_model1.hdf5\n",
      "5360/5360 [==============================] - 154s 29ms/step - loss: 0.4523 - accuracy: 0.7882 - val_loss: 0.4511 - val_accuracy: 0.7907\n",
      "Epoch 5/20\n",
      "5360/5360 [==============================] - ETA: 0s - loss: 0.4492 - accuracy: 0.7913\n",
      "Epoch 5: val_accuracy improved from 0.79074 to 0.79214, saving model to best_model1.hdf5\n",
      "5360/5360 [==============================] - 168s 31ms/step - loss: 0.4492 - accuracy: 0.7913 - val_loss: 0.4507 - val_accuracy: 0.7921\n",
      "Epoch 6/20\n",
      "5358/5360 [============================>.] - ETA: 0s - loss: 0.4463 - accuracy: 0.7924\n",
      "Epoch 6: val_accuracy did not improve from 0.79214\n",
      "5360/5360 [==============================] - 170s 32ms/step - loss: 0.4464 - accuracy: 0.7923 - val_loss: 0.4489 - val_accuracy: 0.7913\n",
      "Epoch 7/20\n",
      "5358/5360 [============================>.] - ETA: 0s - loss: 0.4448 - accuracy: 0.7928\n",
      "Epoch 7: val_accuracy improved from 0.79214 to 0.79334, saving model to best_model1.hdf5\n",
      "5360/5360 [==============================] - 155s 29ms/step - loss: 0.4448 - accuracy: 0.7928 - val_loss: 0.4483 - val_accuracy: 0.7933\n",
      "Epoch 8/20\n",
      "5360/5360 [==============================] - ETA: 0s - loss: 0.4432 - accuracy: 0.7946\n",
      "Epoch 8: val_accuracy did not improve from 0.79334\n",
      "5360/5360 [==============================] - 169s 31ms/step - loss: 0.4432 - accuracy: 0.7946 - val_loss: 0.4465 - val_accuracy: 0.7930\n",
      "Epoch 9/20\n",
      "5358/5360 [============================>.] - ETA: 0s - loss: 0.4419 - accuracy: 0.7952\n",
      "Epoch 9: val_accuracy improved from 0.79334 to 0.79510, saving model to best_model1.hdf5\n",
      "5360/5360 [==============================] - 170s 32ms/step - loss: 0.4419 - accuracy: 0.7952 - val_loss: 0.4446 - val_accuracy: 0.7951\n",
      "Epoch 10/20\n",
      "5360/5360 [==============================] - ETA: 0s - loss: 0.4414 - accuracy: 0.7948\n",
      "Epoch 10: val_accuracy improved from 0.79510 to 0.79554, saving model to best_model1.hdf5\n",
      "5360/5360 [==============================] - 171s 32ms/step - loss: 0.4414 - accuracy: 0.7948 - val_loss: 0.4442 - val_accuracy: 0.7955\n",
      "Epoch 11/20\n",
      "5359/5360 [============================>.] - ETA: 0s - loss: 0.4398 - accuracy: 0.7959\n",
      "Epoch 11: val_accuracy improved from 0.79554 to 0.79566, saving model to best_model1.hdf5\n",
      "5360/5360 [==============================] - 169s 31ms/step - loss: 0.4398 - accuracy: 0.7959 - val_loss: 0.4424 - val_accuracy: 0.7957\n",
      "Epoch 12/20\n",
      "5360/5360 [==============================] - ETA: 0s - loss: 0.4399 - accuracy: 0.7971\n",
      "Epoch 12: val_accuracy did not improve from 0.79566\n",
      "5360/5360 [==============================] - 156s 29ms/step - loss: 0.4399 - accuracy: 0.7971 - val_loss: 0.4447 - val_accuracy: 0.7950\n",
      "Epoch 13/20\n",
      "5360/5360 [==============================] - ETA: 0s - loss: 0.4386 - accuracy: 0.7978\n",
      "Epoch 13: val_accuracy did not improve from 0.79566\n",
      "5360/5360 [==============================] - 170s 32ms/step - loss: 0.4386 - accuracy: 0.7978 - val_loss: 0.4435 - val_accuracy: 0.7956\n",
      "Epoch 14/20\n",
      "5359/5360 [============================>.] - ETA: 0s - loss: 0.4396 - accuracy: 0.7970\n",
      "Epoch 14: val_accuracy improved from 0.79566 to 0.79663, saving model to best_model1.hdf5\n",
      "5360/5360 [==============================] - 156s 29ms/step - loss: 0.4396 - accuracy: 0.7970 - val_loss: 0.4410 - val_accuracy: 0.7966\n",
      "Epoch 15/20\n",
      "5359/5360 [============================>.] - ETA: 0s - loss: 0.4382 - accuracy: 0.7978\n",
      "Epoch 15: val_accuracy did not improve from 0.79663\n",
      "5360/5360 [==============================] - 170s 32ms/step - loss: 0.4382 - accuracy: 0.7978 - val_loss: 0.4404 - val_accuracy: 0.7958\n",
      "Epoch 16/20\n",
      "5359/5360 [============================>.] - ETA: 0s - loss: 0.4375 - accuracy: 0.7988\n",
      "Epoch 16: val_accuracy improved from 0.79663 to 0.79711, saving model to best_model1.hdf5\n",
      "5360/5360 [==============================] - 171s 32ms/step - loss: 0.4375 - accuracy: 0.7988 - val_loss: 0.4425 - val_accuracy: 0.7971\n",
      "Epoch 17/20\n",
      "5360/5360 [==============================] - ETA: 0s - loss: 0.4376 - accuracy: 0.7981\n",
      "Epoch 17: val_accuracy did not improve from 0.79711\n",
      "5360/5360 [==============================] - 169s 31ms/step - loss: 0.4376 - accuracy: 0.7981 - val_loss: 0.4421 - val_accuracy: 0.7955\n",
      "Epoch 18/20\n",
      "5358/5360 [============================>.] - ETA: 0s - loss: 0.4375 - accuracy: 0.7975\n",
      "Epoch 18: val_accuracy did not improve from 0.79711\n",
      "5360/5360 [==============================] - 169s 32ms/step - loss: 0.4375 - accuracy: 0.7975 - val_loss: 0.4406 - val_accuracy: 0.7969\n",
      "Epoch 19/20\n",
      "5360/5360 [==============================] - ETA: 0s - loss: 0.4365 - accuracy: 0.7982\n",
      "Epoch 19: val_accuracy did not improve from 0.79711\n",
      "5360/5360 [==============================] - 156s 29ms/step - loss: 0.4365 - accuracy: 0.7982 - val_loss: 0.4469 - val_accuracy: 0.7911\n",
      "Epoch 20/20\n",
      "5360/5360 [==============================] - ETA: 0s - loss: 0.4375 - accuracy: 0.7976\n",
      "Epoch 20: val_accuracy did not improve from 0.79711\n",
      "5360/5360 [==============================] - 155s 29ms/step - loss: 0.4375 - accuracy: 0.7976 - val_loss: 0.4398 - val_accuracy: 0.7963\n"
     ]
    }
   ],
   "source": [
    "max_words = 5000\n",
    "#max_len = 200\n",
    "max_len=max([len(row.split()) for row in train_text])\n",
    "\n",
    "tokenizer = Tokenizer(num_words=max_words)\n",
    "tokenizer.fit_on_texts(train_text)\n",
    "sequences = tokenizer.texts_to_sequences(train_text)\n",
    "tweets = pad_sequences(sequences, maxlen=max_len)\n",
    "labels = train_polarity\n",
    "\n",
    "y = []\n",
    "for i in range(len(labels)):\n",
    "    if labels[i] == 0:\n",
    "        y.append(0)\n",
    "    if labels[i] == 4:\n",
    "        y.append(1)\n",
    "\n",
    "y = np.array(y)\n",
    "labels = tf.keras.utils.to_categorical(y, dtype=\"int32\")\n",
    "del y\n",
    "from sklearn.model_selection import train_test_split\n",
    "X_train, X_test, y_train, y_test = train_test_split(tweets,labels, test_size=0.33, random_state=42)\n",
    "print ((X_train.shape),(X_test.shape),(y_train.shape),(y_test.shape))\n",
    "model1 = Sequential()\n",
    "model1.add(layers.Embedding(max_words, 20,input_length=max_len))\n",
    "model1.add(layers.LSTM(15,dropout=0.5))\n",
    "model1.add(layers.Dense(2,activation='softmax'))\n",
    "\n",
    "model1.compile(optimizer='rmsprop',loss='binary_crossentropy', metrics=['accuracy'])\n",
    "#Implementing model checkpoins to save the best metric and do not lose it on training.\n",
    "checkpoint1 = ModelCheckpoint(\"best_model1.hdf5\", monitor='val_accuracy', verbose=1,save_best_only=True, mode='auto', period=1,save_weights_only=False)\n",
    "history = model1.fit(X_train, y_train, epochs=20,validation_data=(X_test, y_test),callbacks=[checkpoint1])"
   ]
  },
  {
   "cell_type": "code",
   "execution_count": null,
   "metadata": {
    "colab": {
     "base_uri": "https://localhost:8080/",
     "height": 634
    },
    "id": "fzOehKoEWFQV",
    "outputId": "251c882b-bcb5-4220-9a70-6ad35c5df0f5"
   },
   "outputs": [
    {
     "name": "stdout",
     "output_type": "stream",
     "text": [
      "[0.7530433535575867, 0.7811567187309265, 0.7855119109153748, 0.7881588339805603, 0.7912896275520325, 0.7923449277877808, 0.7927530407905579, 0.7945720553398132, 0.7951608896255493, 0.7947527766227722, 0.7959246635437012, 0.7971140146255493, 0.79783695936203, 0.7969624400138855, 0.7978253364562988, 0.7987756729125977, 0.7981051802635193, 0.7975338101387024, 0.7981576323509216, 0.7976387739181519]\n",
      "[0.5056870579719543, 0.4648328125476837, 0.4574441909790039, 0.452284038066864, 0.4491994380950928, 0.4463503658771515, 0.44475844502449036, 0.44323861598968506, 0.4418865144252777, 0.4414292573928833, 0.4397609531879425, 0.4398796856403351, 0.43861716985702515, 0.439566045999527, 0.4382076859474182, 0.4375480115413666, 0.4376392364501953, 0.4374673068523407, 0.43646863102912903, 0.4374856948852539]\n",
      "[0.4681154191493988, 0.46031999588012695, 0.4560072124004364, 0.45105013251304626, 0.45065978169441223, 0.44892463088035583, 0.4482990503311157, 0.44650593400001526, 0.4445965886116028, 0.44419586658477783, 0.4423570930957794, 0.4447324872016907, 0.443474680185318, 0.44101008772850037, 0.4404480457305908, 0.44251057505607605, 0.44212883710861206, 0.4406038224697113, 0.44689950346946716, 0.43975454568862915]\n",
      "range(1, 21)\n"
     ]
    },
    {
     "data": {
      "image/png": "[encoded data removed]",
      "text/plain": [
       "<Figure size 432x288 with 1 Axes>"
      ]
     },
     "metadata": {
      "needs_background": "light"
     },
     "output_type": "display_data"
    },
    {
     "data": {
      "image/png": "[encoded data removed]",
      "text/plain": [
       "<Figure size 432x288 with 1 Axes>"
      ]
     },
     "metadata": {
      "needs_background": "light"
     },
     "output_type": "display_data"
    }
   ],
   "source": [
    "# plotting the results\n",
    "\n",
    "acc = history.history.get('accuracy')\n",
    "val_acc = history.history.get('val_accuracy')\n",
    "loss = history.history.get('loss')\n",
    "val_loss = history.history.get('val_loss')\n",
    "print(acc)\n",
    "print(loss)\n",
    "print(val_loss)\n",
    "epochs = range(1, 21)\n",
    "print (epochs)\n",
    "\n",
    "plt.plot(epochs, acc, 'b', label='Training Acc')\n",
    "plt.plot(epochs, val_acc, 'g', label='Validation Acc')\n",
    "plt.title('Training and Validation Accuracy')\n",
    "plt.legend()\n",
    "\n",
    "plt.figure()\n",
    "\n",
    "plt.plot(epochs, loss, 'b', label=\"Training Loss\")\n",
    "plt.plot(epochs, val_loss, 'g', label='Validation loss')\n",
    "plt.title('Training and Validation loss')\n",
    "plt.legend()\n",
    "plt.show()\n"
   ]
  }
 ],
 "metadata": {
  "accelerator": "GPU",
  "colab": {
   "collapsed_sections": [],
   "name": "Copy of Updated - MLProject.ipynb",
   "provenance": []
  },
  "kernelspec": {
   "display_name": "Python 3",
   "language": "python",
   "name": "python3"
  },
  "language_info": {
   "codemirror_mode": {
    "name": "ipython",
    "version": 3
   },
   "file_extension": ".py",
   "mimetype": "text/x-python",
   "name": "python",
   "nbconvert_exporter": "python",
   "pygments_lexer": "ipython3",
   "version": "3.8.3"
  },
  "widgets": {
   "application/vnd.jupyter.widget-state+json": {
    "0063799ff2844020860e7569b439ec85": {
     "model_module": "@jupyter-widgets/controls",
     "model_module_version": "1.5.0",
     "model_name": "DescriptionStyleModel",
     "state": {
      "_model_module": "@jupyter-widgets/controls",
      "_model_module_version": "1.5.0",
      "_model_name": "DescriptionStyleModel",
      "_view_count": null,
      "_view_module": "@jupyter-widgets/base",
      "_view_module_version": "1.2.0",
      "_view_name": "StyleView",
      "description_width": ""
     }
    },
    "02d039f7fe364c2789b4cc1e84c54a5b": {
     "model_module": "@jupyter-widgets/base",
     "model_module_version": "1.2.0",
     "model_name": "LayoutModel",
     "state": {
      "_model_module": "@jupyter-widgets/base",
      "_model_module_version": "1.2.0",
      "_model_name": "LayoutModel",
      "_view_count": null,
      "_view_module": "@jupyter-widgets/base",
      "_view_module_version": "1.2.0",
      "_view_name": "LayoutView",
      "align_content": null,
      "align_items": null,
      "align_self": null,
      "border": null,
      "bottom": null,
      "display": null,
      "flex": null,
      "flex_flow": null,
      "grid_area": null,
      "grid_auto_columns": null,
      "grid_auto_flow": null,
      "grid_auto_rows": null,
      "grid_column": null,
      "grid_gap": null,
      "grid_row": null,
      "grid_template_areas": null,
      "grid_template_columns": null,
      "grid_template_rows": null,
      "height": null,
      "justify_content": null,
      "justify_items": null,
      "left": null,
      "margin": null,
      "max_height": null,
      "max_width": null,
      "min_height": null,
      "min_width": null,
      "object_fit": null,
      "object_position": null,
      "order": null,
      "overflow": null,
      "overflow_x": null,
      "overflow_y": null,
      "padding": null,
      "right": null,
      "top": null,
      "visibility": null,
      "width": null
     }
    },
    "0430cbdb024b4b99a8aa4c418faa0e50": {
     "model_module": "@jupyter-widgets/controls",
     "model_module_version": "1.5.0",
     "model_name": "HBoxModel",
     "state": {
      "_dom_classes": [],
      "_model_module": "@jupyter-widgets/controls",
      "_model_module_version": "1.5.0",
      "_model_name": "HBoxModel",
      "_view_count": null,
      "_view_module": "@jupyter-widgets/controls",
      "_view_module_version": "1.5.0",
      "_view_name": "HBoxView",
      "box_style": "",
      "children": [
       "IPY_MODEL_0474c70a629647b2bf0159a86b56a411",
       "IPY_MODEL_c103611f1351437bbdeb80125e0ac168",
       "IPY_MODEL_819e4873603f440db1c51179b5a2c201"
      ],
      "layout": "IPY_MODEL_cd16b4411f5041e2aacc9c9eec239510"
     }
    },
    "0474c70a629647b2bf0159a86b56a411": {
     "model_module": "@jupyter-widgets/controls",
     "model_module_version": "1.5.0",
     "model_name": "HTMLModel",
     "state": {
      "_dom_classes": [],
      "_model_module": "@jupyter-widgets/controls",
      "_model_module_version": "1.5.0",
      "_model_name": "HTMLModel",
      "_view_count": null,
      "_view_module": "@jupyter-widgets/controls",
      "_view_module_version": "1.5.0",
      "_view_name": "HTMLView",
      "description": "",
      "description_tooltip": null,
      "layout": "IPY_MODEL_9b5df19861484afba98b61d76e1b78a6",
      "placeholder": "​",
      "style": "IPY_MODEL_41a41deea20f428ebe96808d5ee7248c",
      "value": "Dl Size...: "
     }
    },
    "08c65cf321f94b799bd0d9f04ce4795f": {
     "model_module": "@jupyter-widgets/controls",
     "model_module_version": "1.5.0",
     "model_name": "HTMLModel",
     "state": {
      "_dom_classes": [],
      "_model_module": "@jupyter-widgets/controls",
      "_model_module_version": "1.5.0",
      "_model_name": "HTMLModel",
      "_view_count": null,
      "_view_module": "@jupyter-widgets/controls",
      "_view_module_version": "1.5.0",
      "_view_name": "HTMLView",
      "description": "",
      "description_tooltip": null,
      "layout": "IPY_MODEL_4bc22667a0eb41bfb68a3a2d211d1926",
      "placeholder": "​",
      "style": "IPY_MODEL_d9beec5947af4d2c8c7962c6beb97392",
      "value": ""
     }
    },
    "0c33379d22ab434db7eb075646b536fc": {
     "model_module": "@jupyter-widgets/base",
     "model_module_version": "1.2.0",
     "model_name": "LayoutModel",
     "state": {
      "_model_module": "@jupyter-widgets/base",
      "_model_module_version": "1.2.0",
      "_model_name": "LayoutModel",
      "_view_count": null,
      "_view_module": "@jupyter-widgets/base",
      "_view_module_version": "1.2.0",
      "_view_name": "LayoutView",
      "align_content": null,
      "align_items": null,
      "align_self": null,
      "border": null,
      "bottom": null,
      "display": null,
      "flex": null,
      "flex_flow": null,
      "grid_area": null,
      "grid_auto_columns": null,
      "grid_auto_flow": null,
      "grid_auto_rows": null,
      "grid_column": null,
      "grid_gap": null,
      "grid_row": null,
      "grid_template_areas": null,
      "grid_template_columns": null,
      "grid_template_rows": null,
      "height": null,
      "justify_content": null,
      "justify_items": null,
      "left": null,
      "margin": null,
      "max_height": null,
      "max_width": null,
      "min_height": null,
      "min_width": null,
      "object_fit": null,
      "object_position": null,
      "order": null,
      "overflow": null,
      "overflow_x": null,
      "overflow_y": null,
      "padding": null,
      "right": null,
      "top": null,
      "visibility": null,
      "width": null
     }
    },
    "11ef7716d06840b79a35b89811c3b180": {
     "model_module": "@jupyter-widgets/controls",
     "model_module_version": "1.5.0",
     "model_name": "DescriptionStyleModel",
     "state": {
      "_model_module": "@jupyter-widgets/controls",
      "_model_module_version": "1.5.0",
      "_model_name": "DescriptionStyleModel",
      "_view_count": null,
      "_view_module": "@jupyter-widgets/base",
      "_view_module_version": "1.2.0",
      "_view_name": "StyleView",
      "description_width": ""
     }
    },
    "2202ff21914541ad97ac13a7246476dd": {
     "model_module": "@jupyter-widgets/base",
     "model_module_version": "1.2.0",
     "model_name": "LayoutModel",
     "state": {
      "_model_module": "@jupyter-widgets/base",
      "_model_module_version": "1.2.0",
      "_model_name": "LayoutModel",
      "_view_count": null,
      "_view_module": "@jupyter-widgets/base",
      "_view_module_version": "1.2.0",
      "_view_name": "LayoutView",
      "align_content": null,
      "align_items": null,
      "align_self": null,
      "border": null,
      "bottom": null,
      "display": null,
      "flex": null,
      "flex_flow": null,
      "grid_area": null,
      "grid_auto_columns": null,
      "grid_auto_flow": null,
      "grid_auto_rows": null,
      "grid_column": null,
      "grid_gap": null,
      "grid_row": null,
      "grid_template_areas": null,
      "grid_template_columns": null,
      "grid_template_rows": null,
      "height": null,
      "justify_content": null,
      "justify_items": null,
      "left": null,
      "margin": null,
      "max_height": null,
      "max_width": null,
      "min_height": null,
      "min_width": null,
      "object_fit": null,
      "object_position": null,
      "order": null,
      "overflow": null,
      "overflow_x": null,
      "overflow_y": null,
      "padding": null,
      "right": null,
      "top": null,
      "visibility": null,
      "width": "20px"
     }
    },
    "245415ae32cc478ba4e66964280d23fe": {
     "model_module": "@jupyter-widgets/controls",
     "model_module_version": "1.5.0",
     "model_name": "DescriptionStyleModel",
     "state": {
      "_model_module": "@jupyter-widgets/controls",
      "_model_module_version": "1.5.0",
      "_model_name": "DescriptionStyleModel",
      "_view_count": null,
      "_view_module": "@jupyter-widgets/base",
      "_view_module_version": "1.2.0",
      "_view_name": "StyleView",
      "description_width": ""
     }
    },
    "27539c9016194ff9901903cf2805c537": {
     "model_module": "@jupyter-widgets/controls",
     "model_module_version": "1.5.0",
     "model_name": "HBoxModel",
     "state": {
      "_dom_classes": [],
      "_model_module": "@jupyter-widgets/controls",
      "_model_module_version": "1.5.0",
      "_model_name": "HBoxModel",
      "_view_count": null,
      "_view_module": "@jupyter-widgets/controls",
      "_view_module_version": "1.5.0",
      "_view_name": "HBoxView",
      "box_style": "",
      "children": [
       "IPY_MODEL_439cc7b99c4f4b329d5ee39160e96926",
       "IPY_MODEL_b9608b15403640bbb580e2f1ead03dd7",
       "IPY_MODEL_ded27ae0c77b4f8bbec0457e692610e1"
      ],
      "layout": "IPY_MODEL_79df07d6a64541bbab9388315092b5f7"
     }
    },
    "2847f74da4224a47860135bc3b2df918": {
     "model_module": "@jupyter-widgets/controls",
     "model_module_version": "1.5.0",
     "model_name": "ProgressStyleModel",
     "state": {
      "_model_module": "@jupyter-widgets/controls",
      "_model_module_version": "1.5.0",
      "_model_name": "ProgressStyleModel",
      "_view_count": null,
      "_view_module": "@jupyter-widgets/base",
      "_view_module_version": "1.2.0",
      "_view_name": "StyleView",
      "bar_color": null,
      "description_width": ""
     }
    },
    "28dc3106bf964c61aad954eeca0ee158": {
     "model_module": "@jupyter-widgets/controls",
     "model_module_version": "1.5.0",
     "model_name": "DescriptionStyleModel",
     "state": {
      "_model_module": "@jupyter-widgets/controls",
      "_model_module_version": "1.5.0",
      "_model_name": "DescriptionStyleModel",
      "_view_count": null,
      "_view_module": "@jupyter-widgets/base",
      "_view_module_version": "1.2.0",
      "_view_name": "StyleView",
      "description_width": ""
     }
    },
    "2d23510141ea4c80a163912f51d1a6bc": {
     "model_module": "@jupyter-widgets/base",
     "model_module_version": "1.2.0",
     "model_name": "LayoutModel",
     "state": {
      "_model_module": "@jupyter-widgets/base",
      "_model_module_version": "1.2.0",
      "_model_name": "LayoutModel",
      "_view_count": null,
      "_view_module": "@jupyter-widgets/base",
      "_view_module_version": "1.2.0",
      "_view_name": "LayoutView",
      "align_content": null,
      "align_items": null,
      "align_self": null,
      "border": null,
      "bottom": null,
      "display": null,
      "flex": null,
      "flex_flow": null,
      "grid_area": null,
      "grid_auto_columns": null,
      "grid_auto_flow": null,
      "grid_auto_rows": null,
      "grid_column": null,
      "grid_gap": null,
      "grid_row": null,
      "grid_template_areas": null,
      "grid_template_columns": null,
      "grid_template_rows": null,
      "height": null,
      "justify_content": null,
      "justify_items": null,
      "left": null,
      "margin": null,
      "max_height": null,
      "max_width": null,
      "min_height": null,
      "min_width": null,
      "object_fit": null,
      "object_position": null,
      "order": null,
      "overflow": null,
      "overflow_x": null,
      "overflow_y": null,
      "padding": null,
      "right": null,
      "top": null,
      "visibility": null,
      "width": "20px"
     }
    },
    "382fa5eb859243289982fcdf6959041a": {
     "model_module": "@jupyter-widgets/controls",
     "model_module_version": "1.5.0",
     "model_name": "FloatProgressModel",
     "state": {
      "_dom_classes": [],
      "_model_module": "@jupyter-widgets/controls",
      "_model_module_version": "1.5.0",
      "_model_name": "FloatProgressModel",
      "_view_count": null,
      "_view_module": "@jupyter-widgets/controls",
      "_view_module_version": "1.5.0",
      "_view_name": "ProgressView",
      "bar_style": "info",
      "description": "",
      "description_tooltip": null,
      "layout": "IPY_MODEL_eb3d0a8ec1444c2cbe7ceb56561a3516",
      "max": 1,
      "min": 0,
      "orientation": "horizontal",
      "style": "IPY_MODEL_fe63702857004040a3bfa431129a81a9",
      "value": 1
     }
    },
    "39c91e8d70824a4babeb6afd702acb51": {
     "model_module": "@jupyter-widgets/base",
     "model_module_version": "1.2.0",
     "model_name": "LayoutModel",
     "state": {
      "_model_module": "@jupyter-widgets/base",
      "_model_module_version": "1.2.0",
      "_model_name": "LayoutModel",
      "_view_count": null,
      "_view_module": "@jupyter-widgets/base",
      "_view_module_version": "1.2.0",
      "_view_name": "LayoutView",
      "align_content": null,
      "align_items": null,
      "align_self": null,
      "border": null,
      "bottom": null,
      "display": null,
      "flex": null,
      "flex_flow": null,
      "grid_area": null,
      "grid_auto_columns": null,
      "grid_auto_flow": null,
      "grid_auto_rows": null,
      "grid_column": null,
      "grid_gap": null,
      "grid_row": null,
      "grid_template_areas": null,
      "grid_template_columns": null,
      "grid_template_rows": null,
      "height": null,
      "justify_content": null,
      "justify_items": null,
      "left": null,
      "margin": null,
      "max_height": null,
      "max_width": null,
      "min_height": null,
      "min_width": null,
      "object_fit": null,
      "object_position": null,
      "order": null,
      "overflow": null,
      "overflow_x": null,
      "overflow_y": null,
      "padding": null,
      "right": null,
      "top": null,
      "visibility": null,
      "width": null
     }
    },
    "3e7f95ae138143cb8f52bec91ebe6c8b": {
     "model_module": "@jupyter-widgets/base",
     "model_module_version": "1.2.0",
     "model_name": "LayoutModel",
     "state": {
      "_model_module": "@jupyter-widgets/base",
      "_model_module_version": "1.2.0",
      "_model_name": "LayoutModel",
      "_view_count": null,
      "_view_module": "@jupyter-widgets/base",
      "_view_module_version": "1.2.0",
      "_view_name": "LayoutView",
      "align_content": null,
      "align_items": null,
      "align_self": null,
      "border": null,
      "bottom": null,
      "display": null,
      "flex": null,
      "flex_flow": null,
      "grid_area": null,
      "grid_auto_columns": null,
      "grid_auto_flow": null,
      "grid_auto_rows": null,
      "grid_column": null,
      "grid_gap": null,
      "grid_row": null,
      "grid_template_areas": null,
      "grid_template_columns": null,
      "grid_template_rows": null,
      "height": null,
      "justify_content": null,
      "justify_items": null,
      "left": null,
      "margin": null,
      "max_height": null,
      "max_width": null,
      "min_height": null,
      "min_width": null,
      "object_fit": null,
      "object_position": null,
      "order": null,
      "overflow": null,
      "overflow_x": null,
      "overflow_y": null,
      "padding": null,
      "right": null,
      "top": null,
      "visibility": null,
      "width": null
     }
    },
    "41a41deea20f428ebe96808d5ee7248c": {
     "model_module": "@jupyter-widgets/controls",
     "model_module_version": "1.5.0",
     "model_name": "DescriptionStyleModel",
     "state": {
      "_model_module": "@jupyter-widgets/controls",
      "_model_module_version": "1.5.0",
      "_model_name": "DescriptionStyleModel",
      "_view_count": null,
      "_view_module": "@jupyter-widgets/base",
      "_view_module_version": "1.2.0",
      "_view_name": "StyleView",
      "description_width": ""
     }
    },
    "425bbb55607f46a0bcc35b13100c1bde": {
     "model_module": "@jupyter-widgets/controls",
     "model_module_version": "1.5.0",
     "model_name": "ProgressStyleModel",
     "state": {
      "_model_module": "@jupyter-widgets/controls",
      "_model_module_version": "1.5.0",
      "_model_name": "ProgressStyleModel",
      "_view_count": null,
      "_view_module": "@jupyter-widgets/base",
      "_view_module_version": "1.2.0",
      "_view_name": "StyleView",
      "bar_color": null,
      "description_width": ""
     }
    },
    "439cc7b99c4f4b329d5ee39160e96926": {
     "model_module": "@jupyter-widgets/controls",
     "model_module_version": "1.5.0",
     "model_name": "HTMLModel",
     "state": {
      "_dom_classes": [],
      "_model_module": "@jupyter-widgets/controls",
      "_model_module_version": "1.5.0",
      "_model_name": "HTMLModel",
      "_view_count": null,
      "_view_module": "@jupyter-widgets/controls",
      "_view_module_version": "1.5.0",
      "_view_name": "HTMLView",
      "description": "",
      "description_tooltip": null,
      "layout": "IPY_MODEL_8e3d041f38be4d278a6d027303d9ca01",
      "placeholder": "​",
      "style": "IPY_MODEL_7168fdc8704543dda83ec697739a8d65",
      "value": "Dl Completed...: "
     }
    },
    "45e13e8757594dc9a9d2b53e87552dc7": {
     "model_module": "@jupyter-widgets/base",
     "model_module_version": "1.2.0",
     "model_name": "LayoutModel",
     "state": {
      "_model_module": "@jupyter-widgets/base",
      "_model_module_version": "1.2.0",
      "_model_name": "LayoutModel",
      "_view_count": null,
      "_view_module": "@jupyter-widgets/base",
      "_view_module_version": "1.2.0",
      "_view_name": "LayoutView",
      "align_content": null,
      "align_items": null,
      "align_self": null,
      "border": null,
      "bottom": null,
      "display": null,
      "flex": null,
      "flex_flow": null,
      "grid_area": null,
      "grid_auto_columns": null,
      "grid_auto_flow": null,
      "grid_auto_rows": null,
      "grid_column": null,
      "grid_gap": null,
      "grid_row": null,
      "grid_template_areas": null,
      "grid_template_columns": null,
      "grid_template_rows": null,
      "height": null,
      "justify_content": null,
      "justify_items": null,
      "left": null,
      "margin": null,
      "max_height": null,
      "max_width": null,
      "min_height": null,
      "min_width": null,
      "object_fit": null,
      "object_position": null,
      "order": null,
      "overflow": null,
      "overflow_x": null,
      "overflow_y": null,
      "padding": null,
      "right": null,
      "top": null,
      "visibility": null,
      "width": null
     }
    },
    "47439f869e0941f7b68826114febd958": {
     "model_module": "@jupyter-widgets/controls",
     "model_module_version": "1.5.0",
     "model_name": "HTMLModel",
     "state": {
      "_dom_classes": [],
      "_model_module": "@jupyter-widgets/controls",
      "_model_module_version": "1.5.0",
      "_model_name": "HTMLModel",
      "_view_count": null,
      "_view_module": "@jupyter-widgets/controls",
      "_view_module_version": "1.5.0",
      "_view_name": "HTMLView",
      "description": "",
      "description_tooltip": null,
      "layout": "IPY_MODEL_e29980fff28648cd917194ddfe4c75c9",
      "placeholder": "​",
      "style": "IPY_MODEL_5e78bccee444416189ddd9f8417cf081",
      "value": " 424/0 [00:00&lt;00:00, 2207.69 examples/s]"
     }
    },
    "4bc22667a0eb41bfb68a3a2d211d1926": {
     "model_module": "@jupyter-widgets/base",
     "model_module_version": "1.2.0",
     "model_name": "LayoutModel",
     "state": {
      "_model_module": "@jupyter-widgets/base",
      "_model_module_version": "1.2.0",
      "_model_name": "LayoutModel",
      "_view_count": null,
      "_view_module": "@jupyter-widgets/base",
      "_view_module_version": "1.2.0",
      "_view_name": "LayoutView",
      "align_content": null,
      "align_items": null,
      "align_self": null,
      "border": null,
      "bottom": null,
      "display": null,
      "flex": null,
      "flex_flow": null,
      "grid_area": null,
      "grid_auto_columns": null,
      "grid_auto_flow": null,
      "grid_auto_rows": null,
      "grid_column": null,
      "grid_gap": null,
      "grid_row": null,
      "grid_template_areas": null,
      "grid_template_columns": null,
      "grid_template_rows": null,
      "height": null,
      "justify_content": null,
      "justify_items": null,
      "left": null,
      "margin": null,
      "max_height": null,
      "max_width": null,
      "min_height": null,
      "min_width": null,
      "object_fit": null,
      "object_position": null,
      "order": null,
      "overflow": null,
      "overflow_x": null,
      "overflow_y": null,
      "padding": null,
      "right": null,
      "top": null,
      "visibility": null,
      "width": null
     }
    },
    "4c8ae191648f4e58942d54d311947059": {
     "model_module": "@jupyter-widgets/base",
     "model_module_version": "1.2.0",
     "model_name": "LayoutModel",
     "state": {
      "_model_module": "@jupyter-widgets/base",
      "_model_module_version": "1.2.0",
      "_model_name": "LayoutModel",
      "_view_count": null,
      "_view_module": "@jupyter-widgets/base",
      "_view_module_version": "1.2.0",
      "_view_name": "LayoutView",
      "align_content": null,
      "align_items": null,
      "align_self": null,
      "border": null,
      "bottom": null,
      "display": null,
      "flex": null,
      "flex_flow": null,
      "grid_area": null,
      "grid_auto_columns": null,
      "grid_auto_flow": null,
      "grid_auto_rows": null,
      "grid_column": null,
      "grid_gap": null,
      "grid_row": null,
      "grid_template_areas": null,
      "grid_template_columns": null,
      "grid_template_rows": null,
      "height": null,
      "justify_content": null,
      "justify_items": null,
      "left": null,
      "margin": null,
      "max_height": null,
      "max_width": null,
      "min_height": null,
      "min_width": null,
      "object_fit": null,
      "object_position": null,
      "order": null,
      "overflow": null,
      "overflow_x": null,
      "overflow_y": null,
      "padding": null,
      "right": null,
      "top": null,
      "visibility": null,
      "width": "20px"
     }
    },
    "512f88a7486446f18f5df972bd215ac5": {
     "model_module": "@jupyter-widgets/controls",
     "model_module_version": "1.5.0",
     "model_name": "HTMLModel",
     "state": {
      "_dom_classes": [],
      "_model_module": "@jupyter-widgets/controls",
      "_model_module_version": "1.5.0",
      "_model_name": "HTMLModel",
      "_view_count": null,
      "_view_module": "@jupyter-widgets/controls",
      "_view_module_version": "1.5.0",
      "_view_name": "HTMLView",
      "description": "",
      "description_tooltip": null,
      "layout": "IPY_MODEL_c8570f39270042d6a104ea1bdff32a17",
      "placeholder": "​",
      "style": "IPY_MODEL_a346950022604aa9a5b03196e068aacf",
      "value": " 1599959/0 [09:32&lt;00:00, 2837.33 examples/s]"
     }
    },
    "54d2114b0efa4a078282835fd957a387": {
     "model_module": "@jupyter-widgets/base",
     "model_module_version": "1.2.0",
     "model_name": "LayoutModel",
     "state": {
      "_model_module": "@jupyter-widgets/base",
      "_model_module_version": "1.2.0",
      "_model_name": "LayoutModel",
      "_view_count": null,
      "_view_module": "@jupyter-widgets/base",
      "_view_module_version": "1.2.0",
      "_view_name": "LayoutView",
      "align_content": null,
      "align_items": null,
      "align_self": null,
      "border": null,
      "bottom": null,
      "display": null,
      "flex": null,
      "flex_flow": null,
      "grid_area": null,
      "grid_auto_columns": null,
      "grid_auto_flow": null,
      "grid_auto_rows": null,
      "grid_column": null,
      "grid_gap": null,
      "grid_row": null,
      "grid_template_areas": null,
      "grid_template_columns": null,
      "grid_template_rows": null,
      "height": null,
      "justify_content": null,
      "justify_items": null,
      "left": null,
      "margin": null,
      "max_height": null,
      "max_width": null,
      "min_height": null,
      "min_width": null,
      "object_fit": null,
      "object_position": null,
      "order": null,
      "overflow": null,
      "overflow_x": null,
      "overflow_y": null,
      "padding": null,
      "right": null,
      "top": null,
      "visibility": null,
      "width": null
     }
    },
    "5e78bccee444416189ddd9f8417cf081": {
     "model_module": "@jupyter-widgets/controls",
     "model_module_version": "1.5.0",
     "model_name": "DescriptionStyleModel",
     "state": {
      "_model_module": "@jupyter-widgets/controls",
      "_model_module_version": "1.5.0",
      "_model_name": "DescriptionStyleModel",
      "_view_count": null,
      "_view_module": "@jupyter-widgets/base",
      "_view_module_version": "1.2.0",
      "_view_name": "StyleView",
      "description_width": ""
     }
    },
    "60df6c1da725448f8b266e54738c42ba": {
     "model_module": "@jupyter-widgets/base",
     "model_module_version": "1.2.0",
     "model_name": "LayoutModel",
     "state": {
      "_model_module": "@jupyter-widgets/base",
      "_model_module_version": "1.2.0",
      "_model_name": "LayoutModel",
      "_view_count": null,
      "_view_module": "@jupyter-widgets/base",
      "_view_module_version": "1.2.0",
      "_view_name": "LayoutView",
      "align_content": null,
      "align_items": null,
      "align_self": null,
      "border": null,
      "bottom": null,
      "display": null,
      "flex": null,
      "flex_flow": null,
      "grid_area": null,
      "grid_auto_columns": null,
      "grid_auto_flow": null,
      "grid_auto_rows": null,
      "grid_column": null,
      "grid_gap": null,
      "grid_row": null,
      "grid_template_areas": null,
      "grid_template_columns": null,
      "grid_template_rows": null,
      "height": null,
      "justify_content": null,
      "justify_items": null,
      "left": null,
      "margin": null,
      "max_height": null,
      "max_width": null,
      "min_height": null,
      "min_width": null,
      "object_fit": null,
      "object_position": null,
      "order": null,
      "overflow": null,
      "overflow_x": null,
      "overflow_y": null,
      "padding": null,
      "right": null,
      "top": null,
      "visibility": null,
      "width": null
     }
    },
    "66a8a0b6f86c49dca768d3e167a8da69": {
     "model_module": "@jupyter-widgets/controls",
     "model_module_version": "1.5.0",
     "model_name": "HTMLModel",
     "state": {
      "_dom_classes": [],
      "_model_module": "@jupyter-widgets/controls",
      "_model_module_version": "1.5.0",
      "_model_name": "HTMLModel",
      "_view_count": null,
      "_view_module": "@jupyter-widgets/controls",
      "_view_module_version": "1.5.0",
      "_view_name": "HTMLView",
      "description": "",
      "description_tooltip": null,
      "layout": "IPY_MODEL_c5b39310227548bd99b9cf9533a15d7c",
      "placeholder": "​",
      "style": "IPY_MODEL_fa46ebef2a9a4489a836a19425c1d477",
      "value": " 0/0 [00:00&lt;?, ? file/s]"
     }
    },
    "6a6afd5e5a644a6cb701c1f070030a2d": {
     "model_module": "@jupyter-widgets/controls",
     "model_module_version": "1.5.0",
     "model_name": "HTMLModel",
     "state": {
      "_dom_classes": [],
      "_model_module": "@jupyter-widgets/controls",
      "_model_module_version": "1.5.0",
      "_model_name": "HTMLModel",
      "_view_count": null,
      "_view_module": "@jupyter-widgets/controls",
      "_view_module_version": "1.5.0",
      "_view_name": "HTMLView",
      "description": "",
      "description_tooltip": null,
      "layout": "IPY_MODEL_c422f80332ee46b48c3cc89a953e7fa6",
      "placeholder": "​",
      "style": "IPY_MODEL_a394419d3fa74bde86eebb5c2ec503c5",
      "value": "Extraction completed...: "
     }
    },
    "7168fdc8704543dda83ec697739a8d65": {
     "model_module": "@jupyter-widgets/controls",
     "model_module_version": "1.5.0",
     "model_name": "DescriptionStyleModel",
     "state": {
      "_model_module": "@jupyter-widgets/controls",
      "_model_module_version": "1.5.0",
      "_model_name": "DescriptionStyleModel",
      "_view_count": null,
      "_view_module": "@jupyter-widgets/base",
      "_view_module_version": "1.2.0",
      "_view_name": "StyleView",
      "description_width": ""
     }
    },
    "72ff42e5cc9c46d48602c3d5351e6c01": {
     "model_module": "@jupyter-widgets/controls",
     "model_module_version": "1.5.0",
     "model_name": "ProgressStyleModel",
     "state": {
      "_model_module": "@jupyter-widgets/controls",
      "_model_module_version": "1.5.0",
      "_model_name": "ProgressStyleModel",
      "_view_count": null,
      "_view_module": "@jupyter-widgets/base",
      "_view_module_version": "1.2.0",
      "_view_name": "StyleView",
      "bar_color": null,
      "description_width": ""
     }
    },
    "734a0ec5e792484592649746780de867": {
     "model_module": "@jupyter-widgets/base",
     "model_module_version": "1.2.0",
     "model_name": "LayoutModel",
     "state": {
      "_model_module": "@jupyter-widgets/base",
      "_model_module_version": "1.2.0",
      "_model_name": "LayoutModel",
      "_view_count": null,
      "_view_module": "@jupyter-widgets/base",
      "_view_module_version": "1.2.0",
      "_view_name": "LayoutView",
      "align_content": null,
      "align_items": null,
      "align_self": null,
      "border": null,
      "bottom": null,
      "display": null,
      "flex": null,
      "flex_flow": null,
      "grid_area": null,
      "grid_auto_columns": null,
      "grid_auto_flow": null,
      "grid_auto_rows": null,
      "grid_column": null,
      "grid_gap": null,
      "grid_row": null,
      "grid_template_areas": null,
      "grid_template_columns": null,
      "grid_template_rows": null,
      "height": null,
      "justify_content": null,
      "justify_items": null,
      "left": null,
      "margin": null,
      "max_height": null,
      "max_width": null,
      "min_height": null,
      "min_width": null,
      "object_fit": null,
      "object_position": null,
      "order": null,
      "overflow": null,
      "overflow_x": null,
      "overflow_y": null,
      "padding": null,
      "right": null,
      "top": null,
      "visibility": null,
      "width": null
     }
    },
    "77540055447f43ddb6f38f7c18760b41": {
     "model_module": "@jupyter-widgets/controls",
     "model_module_version": "1.5.0",
     "model_name": "DescriptionStyleModel",
     "state": {
      "_model_module": "@jupyter-widgets/controls",
      "_model_module_version": "1.5.0",
      "_model_name": "DescriptionStyleModel",
      "_view_count": null,
      "_view_module": "@jupyter-widgets/base",
      "_view_module_version": "1.2.0",
      "_view_name": "StyleView",
      "description_width": ""
     }
    },
    "79df07d6a64541bbab9388315092b5f7": {
     "model_module": "@jupyter-widgets/base",
     "model_module_version": "1.2.0",
     "model_name": "LayoutModel",
     "state": {
      "_model_module": "@jupyter-widgets/base",
      "_model_module_version": "1.2.0",
      "_model_name": "LayoutModel",
      "_view_count": null,
      "_view_module": "@jupyter-widgets/base",
      "_view_module_version": "1.2.0",
      "_view_name": "LayoutView",
      "align_content": null,
      "align_items": null,
      "align_self": null,
      "border": null,
      "bottom": null,
      "display": null,
      "flex": null,
      "flex_flow": null,
      "grid_area": null,
      "grid_auto_columns": null,
      "grid_auto_flow": null,
      "grid_auto_rows": null,
      "grid_column": null,
      "grid_gap": null,
      "grid_row": null,
      "grid_template_areas": null,
      "grid_template_columns": null,
      "grid_template_rows": null,
      "height": null,
      "justify_content": null,
      "justify_items": null,
      "left": null,
      "margin": null,
      "max_height": null,
      "max_width": null,
      "min_height": null,
      "min_width": null,
      "object_fit": null,
      "object_position": null,
      "order": null,
      "overflow": null,
      "overflow_x": null,
      "overflow_y": null,
      "padding": null,
      "right": null,
      "top": null,
      "visibility": null,
      "width": null
     }
    },
    "813cc6c61ecd4e1d86cf57f87244d25c": {
     "model_module": "@jupyter-widgets/controls",
     "model_module_version": "1.5.0",
     "model_name": "HBoxModel",
     "state": {
      "_dom_classes": [],
      "_model_module": "@jupyter-widgets/controls",
      "_model_module_version": "1.5.0",
      "_model_name": "HBoxModel",
      "_view_count": null,
      "_view_module": "@jupyter-widgets/controls",
      "_view_module_version": "1.5.0",
      "_view_name": "HBoxView",
      "box_style": "",
      "children": [
       "IPY_MODEL_dd3888a1b05647138ac10383482c01fe",
       "IPY_MODEL_8efb2ec46d20470a9356045e004c5a7d",
       "IPY_MODEL_9bdf5ce8355749009aae013c29bc5220"
      ],
      "layout": "IPY_MODEL_3e7f95ae138143cb8f52bec91ebe6c8b"
     }
    },
    "819e4873603f440db1c51179b5a2c201": {
     "model_module": "@jupyter-widgets/controls",
     "model_module_version": "1.5.0",
     "model_name": "HTMLModel",
     "state": {
      "_dom_classes": [],
      "_model_module": "@jupyter-widgets/controls",
      "_model_module_version": "1.5.0",
      "_model_name": "HTMLModel",
      "_view_count": null,
      "_view_module": "@jupyter-widgets/controls",
      "_view_module_version": "1.5.0",
      "_view_name": "HTMLView",
      "description": "",
      "description_tooltip": null,
      "layout": "IPY_MODEL_0c33379d22ab434db7eb075646b536fc",
      "placeholder": "​",
      "style": "IPY_MODEL_11ef7716d06840b79a35b89811c3b180",
      "value": " 0/0 [00:00&lt;?, ? MiB/s]"
     }
    },
    "8999bf90247b4afcb04bec2db863cc07": {
     "model_module": "@jupyter-widgets/controls",
     "model_module_version": "1.5.0",
     "model_name": "FloatProgressModel",
     "state": {
      "_dom_classes": [],
      "_model_module": "@jupyter-widgets/controls",
      "_model_module_version": "1.5.0",
      "_model_name": "FloatProgressModel",
      "_view_count": null,
      "_view_module": "@jupyter-widgets/controls",
      "_view_module_version": "1.5.0",
      "_view_name": "ProgressView",
      "bar_style": "info",
      "description": "",
      "description_tooltip": null,
      "layout": "IPY_MODEL_2202ff21914541ad97ac13a7246476dd",
      "max": 1,
      "min": 0,
      "orientation": "horizontal",
      "style": "IPY_MODEL_bc6b56329fdf464d868e3d046db56006",
      "value": 1
     }
    },
    "8b2c3d1556134c7d91654624138855f4": {
     "model_module": "@jupyter-widgets/controls",
     "model_module_version": "1.5.0",
     "model_name": "HBoxModel",
     "state": {
      "_dom_classes": [],
      "_model_module": "@jupyter-widgets/controls",
      "_model_module_version": "1.5.0",
      "_model_name": "HBoxModel",
      "_view_count": null,
      "_view_module": "@jupyter-widgets/controls",
      "_view_module_version": "1.5.0",
      "_view_name": "HBoxView",
      "box_style": "",
      "children": [
       "IPY_MODEL_e8f17f18975f4dd4af8c5ddc087944b1",
       "IPY_MODEL_8999bf90247b4afcb04bec2db863cc07",
       "IPY_MODEL_47439f869e0941f7b68826114febd958"
      ],
      "layout": "IPY_MODEL_a1c9b091a056453790eae34b9c320545"
     }
    },
    "8e3d041f38be4d278a6d027303d9ca01": {
     "model_module": "@jupyter-widgets/base",
     "model_module_version": "1.2.0",
     "model_name": "LayoutModel",
     "state": {
      "_model_module": "@jupyter-widgets/base",
      "_model_module_version": "1.2.0",
      "_model_name": "LayoutModel",
      "_view_count": null,
      "_view_module": "@jupyter-widgets/base",
      "_view_module_version": "1.2.0",
      "_view_name": "LayoutView",
      "align_content": null,
      "align_items": null,
      "align_self": null,
      "border": null,
      "bottom": null,
      "display": null,
      "flex": null,
      "flex_flow": null,
      "grid_area": null,
      "grid_auto_columns": null,
      "grid_auto_flow": null,
      "grid_auto_rows": null,
      "grid_column": null,
      "grid_gap": null,
      "grid_row": null,
      "grid_template_areas": null,
      "grid_template_columns": null,
      "grid_template_rows": null,
      "height": null,
      "justify_content": null,
      "justify_items": null,
      "left": null,
      "margin": null,
      "max_height": null,
      "max_width": null,
      "min_height": null,
      "min_width": null,
      "object_fit": null,
      "object_position": null,
      "order": null,
      "overflow": null,
      "overflow_x": null,
      "overflow_y": null,
      "padding": null,
      "right": null,
      "top": null,
      "visibility": null,
      "width": null
     }
    },
    "8efb2ec46d20470a9356045e004c5a7d": {
     "model_module": "@jupyter-widgets/controls",
     "model_module_version": "1.5.0",
     "model_name": "FloatProgressModel",
     "state": {
      "_dom_classes": [],
      "_model_module": "@jupyter-widgets/controls",
      "_model_module_version": "1.5.0",
      "_model_name": "FloatProgressModel",
      "_view_count": null,
      "_view_module": "@jupyter-widgets/controls",
      "_view_module_version": "1.5.0",
      "_view_name": "ProgressView",
      "bar_style": "danger",
      "description": "",
      "description_tooltip": null,
      "layout": "IPY_MODEL_bfcb1cb62a6d46ee92e58021f09a4031",
      "max": 1600000,
      "min": 0,
      "orientation": "horizontal",
      "style": "IPY_MODEL_425bbb55607f46a0bcc35b13100c1bde",
      "value": 1599999
     }
    },
    "90c6e4bf7e4d42a0bad9635cc5a2d766": {
     "model_module": "@jupyter-widgets/controls",
     "model_module_version": "1.5.0",
     "model_name": "ProgressStyleModel",
     "state": {
      "_model_module": "@jupyter-widgets/controls",
      "_model_module_version": "1.5.0",
      "_model_name": "ProgressStyleModel",
      "_view_count": null,
      "_view_module": "@jupyter-widgets/base",
      "_view_module_version": "1.2.0",
      "_view_name": "StyleView",
      "bar_color": null,
      "description_width": ""
     }
    },
    "9b5df19861484afba98b61d76e1b78a6": {
     "model_module": "@jupyter-widgets/base",
     "model_module_version": "1.2.0",
     "model_name": "LayoutModel",
     "state": {
      "_model_module": "@jupyter-widgets/base",
      "_model_module_version": "1.2.0",
      "_model_name": "LayoutModel",
      "_view_count": null,
      "_view_module": "@jupyter-widgets/base",
      "_view_module_version": "1.2.0",
      "_view_name": "LayoutView",
      "align_content": null,
      "align_items": null,
      "align_self": null,
      "border": null,
      "bottom": null,
      "display": null,
      "flex": null,
      "flex_flow": null,
      "grid_area": null,
      "grid_auto_columns": null,
      "grid_auto_flow": null,
      "grid_auto_rows": null,
      "grid_column": null,
      "grid_gap": null,
      "grid_row": null,
      "grid_template_areas": null,
      "grid_template_columns": null,
      "grid_template_rows": null,
      "height": null,
      "justify_content": null,
      "justify_items": null,
      "left": null,
      "margin": null,
      "max_height": null,
      "max_width": null,
      "min_height": null,
      "min_width": null,
      "object_fit": null,
      "object_position": null,
      "order": null,
      "overflow": null,
      "overflow_x": null,
      "overflow_y": null,
      "padding": null,
      "right": null,
      "top": null,
      "visibility": null,
      "width": null
     }
    },
    "9babd1d74240497d9e2311950e895377": {
     "model_module": "@jupyter-widgets/controls",
     "model_module_version": "1.5.0",
     "model_name": "FloatProgressModel",
     "state": {
      "_dom_classes": [],
      "_model_module": "@jupyter-widgets/controls",
      "_model_module_version": "1.5.0",
      "_model_name": "FloatProgressModel",
      "_view_count": null,
      "_view_module": "@jupyter-widgets/controls",
      "_view_module_version": "1.5.0",
      "_view_name": "ProgressView",
      "bar_style": "danger",
      "description": "",
      "description_tooltip": null,
      "layout": "IPY_MODEL_ac644d038cbb4b12995605ce72a6b007",
      "max": 498,
      "min": 0,
      "orientation": "horizontal",
      "style": "IPY_MODEL_2847f74da4224a47860135bc3b2df918",
      "value": 497
     }
    },
    "9bdf5ce8355749009aae013c29bc5220": {
     "model_module": "@jupyter-widgets/controls",
     "model_module_version": "1.5.0",
     "model_name": "HTMLModel",
     "state": {
      "_dom_classes": [],
      "_model_module": "@jupyter-widgets/controls",
      "_model_module_version": "1.5.0",
      "_model_name": "HTMLModel",
      "_view_count": null,
      "_view_module": "@jupyter-widgets/controls",
      "_view_module_version": "1.5.0",
      "_view_name": "HTMLView",
      "description": "",
      "description_tooltip": null,
      "layout": "IPY_MODEL_39c91e8d70824a4babeb6afd702acb51",
      "placeholder": "​",
      "style": "IPY_MODEL_0063799ff2844020860e7569b439ec85",
      "value": " 1599999/1600000 [00:05&lt;00:00, 476577.76 examples/s]"
     }
    },
    "a18e893d58fc49138c6a86aa936fb20f": {
     "model_module": "@jupyter-widgets/controls",
     "model_module_version": "1.5.0",
     "model_name": "HBoxModel",
     "state": {
      "_dom_classes": [],
      "_model_module": "@jupyter-widgets/controls",
      "_model_module_version": "1.5.0",
      "_model_name": "HBoxModel",
      "_view_count": null,
      "_view_module": "@jupyter-widgets/controls",
      "_view_module_version": "1.5.0",
      "_view_name": "HBoxView",
      "box_style": "",
      "children": [
       "IPY_MODEL_08c65cf321f94b799bd0d9f04ce4795f",
       "IPY_MODEL_382fa5eb859243289982fcdf6959041a",
       "IPY_MODEL_512f88a7486446f18f5df972bd215ac5"
      ],
      "layout": "IPY_MODEL_02d039f7fe364c2789b4cc1e84c54a5b"
     }
    },
    "a1c9b091a056453790eae34b9c320545": {
     "model_module": "@jupyter-widgets/base",
     "model_module_version": "1.2.0",
     "model_name": "LayoutModel",
     "state": {
      "_model_module": "@jupyter-widgets/base",
      "_model_module_version": "1.2.0",
      "_model_name": "LayoutModel",
      "_view_count": null,
      "_view_module": "@jupyter-widgets/base",
      "_view_module_version": "1.2.0",
      "_view_name": "LayoutView",
      "align_content": null,
      "align_items": null,
      "align_self": null,
      "border": null,
      "bottom": null,
      "display": null,
      "flex": null,
      "flex_flow": null,
      "grid_area": null,
      "grid_auto_columns": null,
      "grid_auto_flow": null,
      "grid_auto_rows": null,
      "grid_column": null,
      "grid_gap": null,
      "grid_row": null,
      "grid_template_areas": null,
      "grid_template_columns": null,
      "grid_template_rows": null,
      "height": null,
      "justify_content": null,
      "justify_items": null,
      "left": null,
      "margin": null,
      "max_height": null,
      "max_width": null,
      "min_height": null,
      "min_width": null,
      "object_fit": null,
      "object_position": null,
      "order": null,
      "overflow": null,
      "overflow_x": null,
      "overflow_y": null,
      "padding": null,
      "right": null,
      "top": null,
      "visibility": null,
      "width": null
     }
    },
    "a346950022604aa9a5b03196e068aacf": {
     "model_module": "@jupyter-widgets/controls",
     "model_module_version": "1.5.0",
     "model_name": "DescriptionStyleModel",
     "state": {
      "_model_module": "@jupyter-widgets/controls",
      "_model_module_version": "1.5.0",
      "_model_name": "DescriptionStyleModel",
      "_view_count": null,
      "_view_module": "@jupyter-widgets/base",
      "_view_module_version": "1.2.0",
      "_view_name": "StyleView",
      "description_width": ""
     }
    },
    "a35ac197691040c2a9cb7f5008b21c83": {
     "model_module": "@jupyter-widgets/controls",
     "model_module_version": "1.5.0",
     "model_name": "HBoxModel",
     "state": {
      "_dom_classes": [],
      "_model_module": "@jupyter-widgets/controls",
      "_model_module_version": "1.5.0",
      "_model_name": "HBoxModel",
      "_view_count": null,
      "_view_module": "@jupyter-widgets/controls",
      "_view_module_version": "1.5.0",
      "_view_name": "HBoxView",
      "box_style": "",
      "children": [
       "IPY_MODEL_6a6afd5e5a644a6cb701c1f070030a2d",
       "IPY_MODEL_a4bab7e3ae444208a0cbde4c316887e5",
       "IPY_MODEL_66a8a0b6f86c49dca768d3e167a8da69"
      ],
      "layout": "IPY_MODEL_45e13e8757594dc9a9d2b53e87552dc7"
     }
    },
    "a3681611c5224cefb311ccbb194a8eea": {
     "model_module": "@jupyter-widgets/controls",
     "model_module_version": "1.5.0",
     "model_name": "DescriptionStyleModel",
     "state": {
      "_model_module": "@jupyter-widgets/controls",
      "_model_module_version": "1.5.0",
      "_model_name": "DescriptionStyleModel",
      "_view_count": null,
      "_view_module": "@jupyter-widgets/base",
      "_view_module_version": "1.2.0",
      "_view_name": "StyleView",
      "description_width": ""
     }
    },
    "a394419d3fa74bde86eebb5c2ec503c5": {
     "model_module": "@jupyter-widgets/controls",
     "model_module_version": "1.5.0",
     "model_name": "DescriptionStyleModel",
     "state": {
      "_model_module": "@jupyter-widgets/controls",
      "_model_module_version": "1.5.0",
      "_model_name": "DescriptionStyleModel",
      "_view_count": null,
      "_view_module": "@jupyter-widgets/base",
      "_view_module_version": "1.2.0",
      "_view_name": "StyleView",
      "description_width": ""
     }
    },
    "a4bab7e3ae444208a0cbde4c316887e5": {
     "model_module": "@jupyter-widgets/controls",
     "model_module_version": "1.5.0",
     "model_name": "FloatProgressModel",
     "state": {
      "_dom_classes": [],
      "_model_module": "@jupyter-widgets/controls",
      "_model_module_version": "1.5.0",
      "_model_name": "FloatProgressModel",
      "_view_count": null,
      "_view_module": "@jupyter-widgets/controls",
      "_view_module_version": "1.5.0",
      "_view_name": "ProgressView",
      "bar_style": "success",
      "description": "",
      "description_tooltip": null,
      "layout": "IPY_MODEL_4c8ae191648f4e58942d54d311947059",
      "max": 1,
      "min": 0,
      "orientation": "horizontal",
      "style": "IPY_MODEL_72ff42e5cc9c46d48602c3d5351e6c01",
      "value": 0
     }
    },
    "a7a3a1368992437d9b0b50b5d0986437": {
     "model_module": "@jupyter-widgets/controls",
     "model_module_version": "1.5.0",
     "model_name": "HBoxModel",
     "state": {
      "_dom_classes": [],
      "_model_module": "@jupyter-widgets/controls",
      "_model_module_version": "1.5.0",
      "_model_name": "HBoxModel",
      "_view_count": null,
      "_view_module": "@jupyter-widgets/controls",
      "_view_module_version": "1.5.0",
      "_view_name": "HBoxView",
      "box_style": "",
      "children": [
       "IPY_MODEL_f00f2ad09795486981d60a777e6c9f6d",
       "IPY_MODEL_9babd1d74240497d9e2311950e895377",
       "IPY_MODEL_f74f2a19ab114a53a8bfac86f5b802f4"
      ],
      "layout": "IPY_MODEL_734a0ec5e792484592649746780de867"
     }
    },
    "ac644d038cbb4b12995605ce72a6b007": {
     "model_module": "@jupyter-widgets/base",
     "model_module_version": "1.2.0",
     "model_name": "LayoutModel",
     "state": {
      "_model_module": "@jupyter-widgets/base",
      "_model_module_version": "1.2.0",
      "_model_name": "LayoutModel",
      "_view_count": null,
      "_view_module": "@jupyter-widgets/base",
      "_view_module_version": "1.2.0",
      "_view_name": "LayoutView",
      "align_content": null,
      "align_items": null,
      "align_self": null,
      "border": null,
      "bottom": null,
      "display": null,
      "flex": null,
      "flex_flow": null,
      "grid_area": null,
      "grid_auto_columns": null,
      "grid_auto_flow": null,
      "grid_auto_rows": null,
      "grid_column": null,
      "grid_gap": null,
      "grid_row": null,
      "grid_template_areas": null,
      "grid_template_columns": null,
      "grid_template_rows": null,
      "height": null,
      "justify_content": null,
      "justify_items": null,
      "left": null,
      "margin": null,
      "max_height": null,
      "max_width": null,
      "min_height": null,
      "min_width": null,
      "object_fit": null,
      "object_position": null,
      "order": null,
      "overflow": null,
      "overflow_x": null,
      "overflow_y": null,
      "padding": null,
      "right": null,
      "top": null,
      "visibility": null,
      "width": null
     }
    },
    "b7712e0b01484a75b66d08d37ce61aeb": {
     "model_module": "@jupyter-widgets/base",
     "model_module_version": "1.2.0",
     "model_name": "LayoutModel",
     "state": {
      "_model_module": "@jupyter-widgets/base",
      "_model_module_version": "1.2.0",
      "_model_name": "LayoutModel",
      "_view_count": null,
      "_view_module": "@jupyter-widgets/base",
      "_view_module_version": "1.2.0",
      "_view_name": "LayoutView",
      "align_content": null,
      "align_items": null,
      "align_self": null,
      "border": null,
      "bottom": null,
      "display": null,
      "flex": null,
      "flex_flow": null,
      "grid_area": null,
      "grid_auto_columns": null,
      "grid_auto_flow": null,
      "grid_auto_rows": null,
      "grid_column": null,
      "grid_gap": null,
      "grid_row": null,
      "grid_template_areas": null,
      "grid_template_columns": null,
      "grid_template_rows": null,
      "height": null,
      "justify_content": null,
      "justify_items": null,
      "left": null,
      "margin": null,
      "max_height": null,
      "max_width": null,
      "min_height": null,
      "min_width": null,
      "object_fit": null,
      "object_position": null,
      "order": null,
      "overflow": null,
      "overflow_x": null,
      "overflow_y": null,
      "padding": null,
      "right": null,
      "top": null,
      "visibility": null,
      "width": null
     }
    },
    "b9608b15403640bbb580e2f1ead03dd7": {
     "model_module": "@jupyter-widgets/controls",
     "model_module_version": "1.5.0",
     "model_name": "FloatProgressModel",
     "state": {
      "_dom_classes": [],
      "_model_module": "@jupyter-widgets/controls",
      "_model_module_version": "1.5.0",
      "_model_name": "FloatProgressModel",
      "_view_count": null,
      "_view_module": "@jupyter-widgets/controls",
      "_view_module_version": "1.5.0",
      "_view_name": "ProgressView",
      "bar_style": "success",
      "description": "",
      "description_tooltip": null,
      "layout": "IPY_MODEL_fc5efb9514b34311a7aca70fa4da7526",
      "max": 1,
      "min": 0,
      "orientation": "horizontal",
      "style": "IPY_MODEL_90c6e4bf7e4d42a0bad9635cc5a2d766",
      "value": 0
     }
    },
    "bc6b56329fdf464d868e3d046db56006": {
     "model_module": "@jupyter-widgets/controls",
     "model_module_version": "1.5.0",
     "model_name": "ProgressStyleModel",
     "state": {
      "_model_module": "@jupyter-widgets/controls",
      "_model_module_version": "1.5.0",
      "_model_name": "ProgressStyleModel",
      "_view_count": null,
      "_view_module": "@jupyter-widgets/base",
      "_view_module_version": "1.2.0",
      "_view_name": "StyleView",
      "bar_color": null,
      "description_width": ""
     }
    },
    "befdb219706d4b6f944e404e67bd1a87": {
     "model_module": "@jupyter-widgets/controls",
     "model_module_version": "1.5.0",
     "model_name": "DescriptionStyleModel",
     "state": {
      "_model_module": "@jupyter-widgets/controls",
      "_model_module_version": "1.5.0",
      "_model_name": "DescriptionStyleModel",
      "_view_count": null,
      "_view_module": "@jupyter-widgets/base",
      "_view_module_version": "1.2.0",
      "_view_name": "StyleView",
      "description_width": ""
     }
    },
    "bfcb1cb62a6d46ee92e58021f09a4031": {
     "model_module": "@jupyter-widgets/base",
     "model_module_version": "1.2.0",
     "model_name": "LayoutModel",
     "state": {
      "_model_module": "@jupyter-widgets/base",
      "_model_module_version": "1.2.0",
      "_model_name": "LayoutModel",
      "_view_count": null,
      "_view_module": "@jupyter-widgets/base",
      "_view_module_version": "1.2.0",
      "_view_name": "LayoutView",
      "align_content": null,
      "align_items": null,
      "align_self": null,
      "border": null,
      "bottom": null,
      "display": null,
      "flex": null,
      "flex_flow": null,
      "grid_area": null,
      "grid_auto_columns": null,
      "grid_auto_flow": null,
      "grid_auto_rows": null,
      "grid_column": null,
      "grid_gap": null,
      "grid_row": null,
      "grid_template_areas": null,
      "grid_template_columns": null,
      "grid_template_rows": null,
      "height": null,
      "justify_content": null,
      "justify_items": null,
      "left": null,
      "margin": null,
      "max_height": null,
      "max_width": null,
      "min_height": null,
      "min_width": null,
      "object_fit": null,
      "object_position": null,
      "order": null,
      "overflow": null,
      "overflow_x": null,
      "overflow_y": null,
      "padding": null,
      "right": null,
      "top": null,
      "visibility": null,
      "width": null
     }
    },
    "c103611f1351437bbdeb80125e0ac168": {
     "model_module": "@jupyter-widgets/controls",
     "model_module_version": "1.5.0",
     "model_name": "FloatProgressModel",
     "state": {
      "_dom_classes": [],
      "_model_module": "@jupyter-widgets/controls",
      "_model_module_version": "1.5.0",
      "_model_name": "FloatProgressModel",
      "_view_count": null,
      "_view_module": "@jupyter-widgets/controls",
      "_view_module_version": "1.5.0",
      "_view_name": "ProgressView",
      "bar_style": "success",
      "description": "",
      "description_tooltip": null,
      "layout": "IPY_MODEL_2d23510141ea4c80a163912f51d1a6bc",
      "max": 1,
      "min": 0,
      "orientation": "horizontal",
      "style": "IPY_MODEL_cb2d30b36912461b9982d09c11975f6b",
      "value": 0
     }
    },
    "c422f80332ee46b48c3cc89a953e7fa6": {
     "model_module": "@jupyter-widgets/base",
     "model_module_version": "1.2.0",
     "model_name": "LayoutModel",
     "state": {
      "_model_module": "@jupyter-widgets/base",
      "_model_module_version": "1.2.0",
      "_model_name": "LayoutModel",
      "_view_count": null,
      "_view_module": "@jupyter-widgets/base",
      "_view_module_version": "1.2.0",
      "_view_name": "LayoutView",
      "align_content": null,
      "align_items": null,
      "align_self": null,
      "border": null,
      "bottom": null,
      "display": null,
      "flex": null,
      "flex_flow": null,
      "grid_area": null,
      "grid_auto_columns": null,
      "grid_auto_flow": null,
      "grid_auto_rows": null,
      "grid_column": null,
      "grid_gap": null,
      "grid_row": null,
      "grid_template_areas": null,
      "grid_template_columns": null,
      "grid_template_rows": null,
      "height": null,
      "justify_content": null,
      "justify_items": null,
      "left": null,
      "margin": null,
      "max_height": null,
      "max_width": null,
      "min_height": null,
      "min_width": null,
      "object_fit": null,
      "object_position": null,
      "order": null,
      "overflow": null,
      "overflow_x": null,
      "overflow_y": null,
      "padding": null,
      "right": null,
      "top": null,
      "visibility": null,
      "width": null
     }
    },
    "c5b39310227548bd99b9cf9533a15d7c": {
     "model_module": "@jupyter-widgets/base",
     "model_module_version": "1.2.0",
     "model_name": "LayoutModel",
     "state": {
      "_model_module": "@jupyter-widgets/base",
      "_model_module_version": "1.2.0",
      "_model_name": "LayoutModel",
      "_view_count": null,
      "_view_module": "@jupyter-widgets/base",
      "_view_module_version": "1.2.0",
      "_view_name": "LayoutView",
      "align_content": null,
      "align_items": null,
      "align_self": null,
      "border": null,
      "bottom": null,
      "display": null,
      "flex": null,
      "flex_flow": null,
      "grid_area": null,
      "grid_auto_columns": null,
      "grid_auto_flow": null,
      "grid_auto_rows": null,
      "grid_column": null,
      "grid_gap": null,
      "grid_row": null,
      "grid_template_areas": null,
      "grid_template_columns": null,
      "grid_template_rows": null,
      "height": null,
      "justify_content": null,
      "justify_items": null,
      "left": null,
      "margin": null,
      "max_height": null,
      "max_width": null,
      "min_height": null,
      "min_width": null,
      "object_fit": null,
      "object_position": null,
      "order": null,
      "overflow": null,
      "overflow_x": null,
      "overflow_y": null,
      "padding": null,
      "right": null,
      "top": null,
      "visibility": null,
      "width": null
     }
    },
    "c8570f39270042d6a104ea1bdff32a17": {
     "model_module": "@jupyter-widgets/base",
     "model_module_version": "1.2.0",
     "model_name": "LayoutModel",
     "state": {
      "_model_module": "@jupyter-widgets/base",
      "_model_module_version": "1.2.0",
      "_model_name": "LayoutModel",
      "_view_count": null,
      "_view_module": "@jupyter-widgets/base",
      "_view_module_version": "1.2.0",
      "_view_name": "LayoutView",
      "align_content": null,
      "align_items": null,
      "align_self": null,
      "border": null,
      "bottom": null,
      "display": null,
      "flex": null,
      "flex_flow": null,
      "grid_area": null,
      "grid_auto_columns": null,
      "grid_auto_flow": null,
      "grid_auto_rows": null,
      "grid_column": null,
      "grid_gap": null,
      "grid_row": null,
      "grid_template_areas": null,
      "grid_template_columns": null,
      "grid_template_rows": null,
      "height": null,
      "justify_content": null,
      "justify_items": null,
      "left": null,
      "margin": null,
      "max_height": null,
      "max_width": null,
      "min_height": null,
      "min_width": null,
      "object_fit": null,
      "object_position": null,
      "order": null,
      "overflow": null,
      "overflow_x": null,
      "overflow_y": null,
      "padding": null,
      "right": null,
      "top": null,
      "visibility": null,
      "width": null
     }
    },
    "cb2d30b36912461b9982d09c11975f6b": {
     "model_module": "@jupyter-widgets/controls",
     "model_module_version": "1.5.0",
     "model_name": "ProgressStyleModel",
     "state": {
      "_model_module": "@jupyter-widgets/controls",
      "_model_module_version": "1.5.0",
      "_model_name": "ProgressStyleModel",
      "_view_count": null,
      "_view_module": "@jupyter-widgets/base",
      "_view_module_version": "1.2.0",
      "_view_name": "StyleView",
      "bar_color": null,
      "description_width": ""
     }
    },
    "cd16b4411f5041e2aacc9c9eec239510": {
     "model_module": "@jupyter-widgets/base",
     "model_module_version": "1.2.0",
     "model_name": "LayoutModel",
     "state": {
      "_model_module": "@jupyter-widgets/base",
      "_model_module_version": "1.2.0",
      "_model_name": "LayoutModel",
      "_view_count": null,
      "_view_module": "@jupyter-widgets/base",
      "_view_module_version": "1.2.0",
      "_view_name": "LayoutView",
      "align_content": null,
      "align_items": null,
      "align_self": null,
      "border": null,
      "bottom": null,
      "display": null,
      "flex": null,
      "flex_flow": null,
      "grid_area": null,
      "grid_auto_columns": null,
      "grid_auto_flow": null,
      "grid_auto_rows": null,
      "grid_column": null,
      "grid_gap": null,
      "grid_row": null,
      "grid_template_areas": null,
      "grid_template_columns": null,
      "grid_template_rows": null,
      "height": null,
      "justify_content": null,
      "justify_items": null,
      "left": null,
      "margin": null,
      "max_height": null,
      "max_width": null,
      "min_height": null,
      "min_width": null,
      "object_fit": null,
      "object_position": null,
      "order": null,
      "overflow": null,
      "overflow_x": null,
      "overflow_y": null,
      "padding": null,
      "right": null,
      "top": null,
      "visibility": null,
      "width": null
     }
    },
    "d9beec5947af4d2c8c7962c6beb97392": {
     "model_module": "@jupyter-widgets/controls",
     "model_module_version": "1.5.0",
     "model_name": "DescriptionStyleModel",
     "state": {
      "_model_module": "@jupyter-widgets/controls",
      "_model_module_version": "1.5.0",
      "_model_name": "DescriptionStyleModel",
      "_view_count": null,
      "_view_module": "@jupyter-widgets/base",
      "_view_module_version": "1.2.0",
      "_view_name": "StyleView",
      "description_width": ""
     }
    },
    "dd3888a1b05647138ac10383482c01fe": {
     "model_module": "@jupyter-widgets/controls",
     "model_module_version": "1.5.0",
     "model_name": "HTMLModel",
     "state": {
      "_dom_classes": [],
      "_model_module": "@jupyter-widgets/controls",
      "_model_module_version": "1.5.0",
      "_model_name": "HTMLModel",
      "_view_count": null,
      "_view_module": "@jupyter-widgets/controls",
      "_view_module_version": "1.5.0",
      "_view_name": "HTMLView",
      "description": "",
      "description_tooltip": null,
      "layout": "IPY_MODEL_e2fca18909874ae0bb80234fed8faadc",
      "placeholder": "​",
      "style": "IPY_MODEL_77540055447f43ddb6f38f7c18760b41",
      "value": "100%"
     }
    },
    "ded27ae0c77b4f8bbec0457e692610e1": {
     "model_module": "@jupyter-widgets/controls",
     "model_module_version": "1.5.0",
     "model_name": "HTMLModel",
     "state": {
      "_dom_classes": [],
      "_model_module": "@jupyter-widgets/controls",
      "_model_module_version": "1.5.0",
      "_model_name": "HTMLModel",
      "_view_count": null,
      "_view_module": "@jupyter-widgets/controls",
      "_view_module_version": "1.5.0",
      "_view_name": "HTMLView",
      "description": "",
      "description_tooltip": null,
      "layout": "IPY_MODEL_b7712e0b01484a75b66d08d37ce61aeb",
      "placeholder": "​",
      "style": "IPY_MODEL_245415ae32cc478ba4e66964280d23fe",
      "value": " 0/0 [00:00&lt;?, ? url/s]"
     }
    },
    "e29980fff28648cd917194ddfe4c75c9": {
     "model_module": "@jupyter-widgets/base",
     "model_module_version": "1.2.0",
     "model_name": "LayoutModel",
     "state": {
      "_model_module": "@jupyter-widgets/base",
      "_model_module_version": "1.2.0",
      "_model_name": "LayoutModel",
      "_view_count": null,
      "_view_module": "@jupyter-widgets/base",
      "_view_module_version": "1.2.0",
      "_view_name": "LayoutView",
      "align_content": null,
      "align_items": null,
      "align_self": null,
      "border": null,
      "bottom": null,
      "display": null,
      "flex": null,
      "flex_flow": null,
      "grid_area": null,
      "grid_auto_columns": null,
      "grid_auto_flow": null,
      "grid_auto_rows": null,
      "grid_column": null,
      "grid_gap": null,
      "grid_row": null,
      "grid_template_areas": null,
      "grid_template_columns": null,
      "grid_template_rows": null,
      "height": null,
      "justify_content": null,
      "justify_items": null,
      "left": null,
      "margin": null,
      "max_height": null,
      "max_width": null,
      "min_height": null,
      "min_width": null,
      "object_fit": null,
      "object_position": null,
      "order": null,
      "overflow": null,
      "overflow_x": null,
      "overflow_y": null,
      "padding": null,
      "right": null,
      "top": null,
      "visibility": null,
      "width": null
     }
    },
    "e2fca18909874ae0bb80234fed8faadc": {
     "model_module": "@jupyter-widgets/base",
     "model_module_version": "1.2.0",
     "model_name": "LayoutModel",
     "state": {
      "_model_module": "@jupyter-widgets/base",
      "_model_module_version": "1.2.0",
      "_model_name": "LayoutModel",
      "_view_count": null,
      "_view_module": "@jupyter-widgets/base",
      "_view_module_version": "1.2.0",
      "_view_name": "LayoutView",
      "align_content": null,
      "align_items": null,
      "align_self": null,
      "border": null,
      "bottom": null,
      "display": null,
      "flex": null,
      "flex_flow": null,
      "grid_area": null,
      "grid_auto_columns": null,
      "grid_auto_flow": null,
      "grid_auto_rows": null,
      "grid_column": null,
      "grid_gap": null,
      "grid_row": null,
      "grid_template_areas": null,
      "grid_template_columns": null,
      "grid_template_rows": null,
      "height": null,
      "justify_content": null,
      "justify_items": null,
      "left": null,
      "margin": null,
      "max_height": null,
      "max_width": null,
      "min_height": null,
      "min_width": null,
      "object_fit": null,
      "object_position": null,
      "order": null,
      "overflow": null,
      "overflow_x": null,
      "overflow_y": null,
      "padding": null,
      "right": null,
      "top": null,
      "visibility": null,
      "width": null
     }
    },
    "e7c74da6d2e14fec9f310f3e8d171693": {
     "model_module": "@jupyter-widgets/base",
     "model_module_version": "1.2.0",
     "model_name": "LayoutModel",
     "state": {
      "_model_module": "@jupyter-widgets/base",
      "_model_module_version": "1.2.0",
      "_model_name": "LayoutModel",
      "_view_count": null,
      "_view_module": "@jupyter-widgets/base",
      "_view_module_version": "1.2.0",
      "_view_name": "LayoutView",
      "align_content": null,
      "align_items": null,
      "align_self": null,
      "border": null,
      "bottom": null,
      "display": null,
      "flex": null,
      "flex_flow": null,
      "grid_area": null,
      "grid_auto_columns": null,
      "grid_auto_flow": null,
      "grid_auto_rows": null,
      "grid_column": null,
      "grid_gap": null,
      "grid_row": null,
      "grid_template_areas": null,
      "grid_template_columns": null,
      "grid_template_rows": null,
      "height": null,
      "justify_content": null,
      "justify_items": null,
      "left": null,
      "margin": null,
      "max_height": null,
      "max_width": null,
      "min_height": null,
      "min_width": null,
      "object_fit": null,
      "object_position": null,
      "order": null,
      "overflow": null,
      "overflow_x": null,
      "overflow_y": null,
      "padding": null,
      "right": null,
      "top": null,
      "visibility": null,
      "width": null
     }
    },
    "e8f17f18975f4dd4af8c5ddc087944b1": {
     "model_module": "@jupyter-widgets/controls",
     "model_module_version": "1.5.0",
     "model_name": "HTMLModel",
     "state": {
      "_dom_classes": [],
      "_model_module": "@jupyter-widgets/controls",
      "_model_module_version": "1.5.0",
      "_model_name": "HTMLModel",
      "_view_count": null,
      "_view_module": "@jupyter-widgets/controls",
      "_view_module_version": "1.5.0",
      "_view_name": "HTMLView",
      "description": "",
      "description_tooltip": null,
      "layout": "IPY_MODEL_54d2114b0efa4a078282835fd957a387",
      "placeholder": "​",
      "style": "IPY_MODEL_befdb219706d4b6f944e404e67bd1a87",
      "value": ""
     }
    },
    "eb3d0a8ec1444c2cbe7ceb56561a3516": {
     "model_module": "@jupyter-widgets/base",
     "model_module_version": "1.2.0",
     "model_name": "LayoutModel",
     "state": {
      "_model_module": "@jupyter-widgets/base",
      "_model_module_version": "1.2.0",
      "_model_name": "LayoutModel",
      "_view_count": null,
      "_view_module": "@jupyter-widgets/base",
      "_view_module_version": "1.2.0",
      "_view_name": "LayoutView",
      "align_content": null,
      "align_items": null,
      "align_self": null,
      "border": null,
      "bottom": null,
      "display": null,
      "flex": null,
      "flex_flow": null,
      "grid_area": null,
      "grid_auto_columns": null,
      "grid_auto_flow": null,
      "grid_auto_rows": null,
      "grid_column": null,
      "grid_gap": null,
      "grid_row": null,
      "grid_template_areas": null,
      "grid_template_columns": null,
      "grid_template_rows": null,
      "height": null,
      "justify_content": null,
      "justify_items": null,
      "left": null,
      "margin": null,
      "max_height": null,
      "max_width": null,
      "min_height": null,
      "min_width": null,
      "object_fit": null,
      "object_position": null,
      "order": null,
      "overflow": null,
      "overflow_x": null,
      "overflow_y": null,
      "padding": null,
      "right": null,
      "top": null,
      "visibility": null,
      "width": "20px"
     }
    },
    "f00f2ad09795486981d60a777e6c9f6d": {
     "model_module": "@jupyter-widgets/controls",
     "model_module_version": "1.5.0",
     "model_name": "HTMLModel",
     "state": {
      "_dom_classes": [],
      "_model_module": "@jupyter-widgets/controls",
      "_model_module_version": "1.5.0",
      "_model_name": "HTMLModel",
      "_view_count": null,
      "_view_module": "@jupyter-widgets/controls",
      "_view_module_version": "1.5.0",
      "_view_name": "HTMLView",
      "description": "",
      "description_tooltip": null,
      "layout": "IPY_MODEL_e7c74da6d2e14fec9f310f3e8d171693",
      "placeholder": "​",
      "style": "IPY_MODEL_28dc3106bf964c61aad954eeca0ee158",
      "value": "100%"
     }
    },
    "f74f2a19ab114a53a8bfac86f5b802f4": {
     "model_module": "@jupyter-widgets/controls",
     "model_module_version": "1.5.0",
     "model_name": "HTMLModel",
     "state": {
      "_dom_classes": [],
      "_model_module": "@jupyter-widgets/controls",
      "_model_module_version": "1.5.0",
      "_model_name": "HTMLModel",
      "_view_count": null,
      "_view_module": "@jupyter-widgets/controls",
      "_view_module_version": "1.5.0",
      "_view_name": "HTMLView",
      "description": "",
      "description_tooltip": null,
      "layout": "IPY_MODEL_60df6c1da725448f8b266e54738c42ba",
      "placeholder": "​",
      "style": "IPY_MODEL_a3681611c5224cefb311ccbb194a8eea",
      "value": " 497/498 [00:00&lt;00:00, 17496.66 examples/s]"
     }
    },
    "fa46ebef2a9a4489a836a19425c1d477": {
     "model_module": "@jupyter-widgets/controls",
     "model_module_version": "1.5.0",
     "model_name": "DescriptionStyleModel",
     "state": {
      "_model_module": "@jupyter-widgets/controls",
      "_model_module_version": "1.5.0",
      "_model_name": "DescriptionStyleModel",
      "_view_count": null,
      "_view_module": "@jupyter-widgets/base",
      "_view_module_version": "1.2.0",
      "_view_name": "StyleView",
      "description_width": ""
     }
    },
    "fc5efb9514b34311a7aca70fa4da7526": {
     "model_module": "@jupyter-widgets/base",
     "model_module_version": "1.2.0",
     "model_name": "LayoutModel",
     "state": {
      "_model_module": "@jupyter-widgets/base",
      "_model_module_version": "1.2.0",
      "_model_name": "LayoutModel",
      "_view_count": null,
      "_view_module": "@jupyter-widgets/base",
      "_view_module_version": "1.2.0",
      "_view_name": "LayoutView",
      "align_content": null,
      "align_items": null,
      "align_self": null,
      "border": null,
      "bottom": null,
      "display": null,
      "flex": null,
      "flex_flow": null,
      "grid_area": null,
      "grid_auto_columns": null,
      "grid_auto_flow": null,
      "grid_auto_rows": null,
      "grid_column": null,
      "grid_gap": null,
      "grid_row": null,
      "grid_template_areas": null,
      "grid_template_columns": null,
      "grid_template_rows": null,
      "height": null,
      "justify_content": null,
      "justify_items": null,
      "left": null,
      "margin": null,
      "max_height": null,
      "max_width": null,
      "min_height": null,
      "min_width": null,
      "object_fit": null,
      "object_position": null,
      "order": null,
      "overflow": null,
      "overflow_x": null,
      "overflow_y": null,
      "padding": null,
      "right": null,
      "top": null,
      "visibility": null,
      "width": "20px"
     }
    },
    "fe63702857004040a3bfa431129a81a9": {
     "model_module": "@jupyter-widgets/controls",
     "model_module_version": "1.5.0",
     "model_name": "ProgressStyleModel",
     "state": {
      "_model_module": "@jupyter-widgets/controls",
      "_model_module_version": "1.5.0",
      "_model_name": "ProgressStyleModel",
      "_view_count": null,
      "_view_module": "@jupyter-widgets/base",
      "_view_module_version": "1.2.0",
      "_view_name": "StyleView",
      "bar_color": null,
      "description_width": ""
     }
    }
   }
  }
 },
 "nbformat": 4,
 "nbformat_minor": 1
}
